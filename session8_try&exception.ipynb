{
 "cells": [
  {
   "cell_type": "markdown",
   "id": "4739f17a",
   "metadata": {},
   "source": [
    "**try-except**\n",
    "- generally in real time we will write n number of python lines\n",
    "- there is a situation we might get error\n",
    "- that error might be unknown\n",
    "- this unknown errors does not cause any harm \n",
    "- even though we are getting error we need to proceed further\n",
    "- and also we need to catch that error\n",
    "- because we already know python is a sequential process\n",
    "- means the lines will execute step by step\n",
    "- suppose you have an error at particular line, the code excution will stop at that line only\n",
    "- but you know that error is not harmful\n",
    "- so you want to continue the execution\n",
    "- then we required try-exception"
   ]
  },
  {
   "cell_type": "markdown",
   "id": "695b5379",
   "metadata": {},
   "source": [
    "- try and except has 2 blocks\n",
    "- try block as actual code\n",
    "- except block will catch the error "
   ]
  },
  {
   "cell_type": "code",
   "execution_count": 3,
   "id": "be78cb4c",
   "metadata": {},
   "outputs": [
    {
     "name": "stdout",
     "output_type": "stream",
     "text": [
      "enter the num1: 4\n",
      "enter the num2: ten\n",
      "you are mistaken while giving input\n",
      "check the code\n"
     ]
    }
   ],
   "source": [
    "try:\n",
    "    num1= eval(input(\"enter the num1: \"))\n",
    "    num2= eval(input(\"enter the num2: \"))\n",
    "    add=num1+num2\n",
    "    print(add)\n",
    "except :\n",
    "    \n",
    "    print(\"you are mistaken while giving input\")\n",
    "    print(\"check the code\")"
   ]
  },
  {
   "cell_type": "markdown",
   "id": "49754140",
   "metadata": {},
   "source": [
    "**note**\n",
    "- generally try- except block is used to catch the errors"
   ]
  },
  {
   "cell_type": "code",
   "execution_count": 5,
   "id": "c236f1d9",
   "metadata": {},
   "outputs": [
    {
     "name": "stdout",
     "output_type": "stream",
     "text": [
      "enter the num1: 10\n",
      "enter the num2: 0\n",
      "division by zero\n"
     ]
    }
   ],
   "source": [
    "try:\n",
    "    num1= eval(input(\"enter the num1: \"))\n",
    "    num2= eval(input(\"enter the num2: \"))\n",
    "    div=num1/num2\n",
    "    print(add)\n",
    "except Exception as e:\n",
    "    print(e)\n",
    "    "
   ]
  },
  {
   "cell_type": "code",
   "execution_count": 6,
   "id": "b1a3fbd0",
   "metadata": {},
   "outputs": [
    {
     "name": "stdout",
     "output_type": "stream",
     "text": [
      "enter: ten\n",
      "name 'ten' is not defined\n"
     ]
    }
   ],
   "source": [
    "#now onwards w use very code as try-exception\n",
    "try:\n",
    "    n=eval(input(\"enter: \"))\n",
    "    if n%2==0:\n",
    "        print(\"even\")\n",
    "    else:\n",
    "        print(\"odd\")\n",
    "except Exception as e:\n",
    "    print(e)"
   ]
  },
  {
   "cell_type": "code",
   "execution_count": null,
   "id": "9f8f0e57",
   "metadata": {},
   "outputs": [],
   "source": []
  }
 ],
 "metadata": {
  "kernelspec": {
   "display_name": "Python 3 (ipykernel)",
   "language": "python",
   "name": "python3"
  },
  "language_info": {
   "codemirror_mode": {
    "name": "ipython",
    "version": 3
   },
   "file_extension": ".py",
   "mimetype": "text/x-python",
   "name": "python",
   "nbconvert_exporter": "python",
   "pygments_lexer": "ipython3",
   "version": "3.9.13"
  }
 },
 "nbformat": 4,
 "nbformat_minor": 5
}
