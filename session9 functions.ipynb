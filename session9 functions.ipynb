{
 "cells": [
  {
   "cell_type": "markdown",
   "id": "e22d3fc0",
   "metadata": {},
   "source": [
    "****Functions****"
   ]
  },
  {
   "cell_type": "markdown",
   "id": "068b25fc",
   "metadata": {},
   "source": [
    "- a block of code which we can use many times.\n"
   ]
  },
  {
   "cell_type": "code",
   "execution_count": null,
   "id": "a13a6b88",
   "metadata": {},
   "outputs": [],
   "source": [
    "def <function name>():\n",
    "    codelines"
   ]
  },
  {
   "cell_type": "markdown",
   "id": "ab3468ba",
   "metadata": {},
   "source": [
    "******functions without arguements******"
   ]
  },
  {
   "cell_type": "code",
   "execution_count": 5,
   "id": "3b2bcf04",
   "metadata": {},
   "outputs": [],
   "source": [
    "def addition():#function name is addition\n",
    "    num1=10\n",
    "    num2=20\n",
    "    add=num1+num2\n",
    "    print(add)\n",
    "# in order to execute the code, you need to call the function"
   ]
  },
  {
   "cell_type": "code",
   "execution_count": 6,
   "id": "d4d03d10",
   "metadata": {},
   "outputs": [
    {
     "name": "stdout",
     "output_type": "stream",
     "text": [
      "30\n"
     ]
    }
   ],
   "source": [
    "addition()"
   ]
  },
  {
   "cell_type": "code",
   "execution_count": 7,
   "id": "1a192e4e",
   "metadata": {},
   "outputs": [
    {
     "name": "stdout",
     "output_type": "stream",
     "text": [
      "30\n"
     ]
    }
   ],
   "source": [
    "def addition():#function name is addition\n",
    "    num1=10\n",
    "    num2=20\n",
    "    add=num1+num2\n",
    "    print(add)\n",
    "addition()"
   ]
  },
  {
   "cell_type": "code",
   "execution_count": 8,
   "id": "6cfede60",
   "metadata": {},
   "outputs": [
    {
     "name": "stdout",
     "output_type": "stream",
     "text": [
      "num1:  10\n",
      "num2:  20\n",
      "addition of 10 and 20 is 30\n"
     ]
    }
   ],
   "source": [
    "def addition():#function name is addition\n",
    "    num1=10\n",
    "    print(\"num1: \", num1)\n",
    "    num2=20\n",
    "    print(\"num2: \",num2)\n",
    "    add=num1+num2\n",
    "    print(f\"addition of {num1} and {num2} is {add}\")\n",
    "    \n",
    "addition()"
   ]
  },
  {
   "cell_type": "markdown",
   "id": "eb53fc30",
   "metadata": {},
   "source": [
    "**note**\n",
    "- function name can be anything \n",
    "- same rules applicable as variable rules\n",
    "- whenever you create the function make sure the indentation correctly\n",
    "- starting with keyword, ending with colon then code line\n",
    "- brackets means function\n",
    "- never miss the brackets whenever you call the function\n",
    "- if you want to execute the code we need to call  the function\n",
    "- while you ar ecalling the function , if you see function or bound method \n",
    "- which means you miss the brackets\n",
    "- "
   ]
  },
  {
   "cell_type": "markdown",
   "id": "1dcbb5c7",
   "metadata": {},
   "source": [
    "whenever we defined the function it does not throw any error  until unless we call the function"
   ]
  },
  {
   "cell_type": "code",
   "execution_count": 11,
   "id": "d78e206c",
   "metadata": {},
   "outputs": [
    {
     "name": "stdout",
     "output_type": "stream",
     "text": [
      "enter the number:10\n",
      "enter the number:20\n",
      "enter the number:30\n",
      "average  is 20.0\n"
     ]
    }
   ],
   "source": [
    "#wap to create the function for average program\n",
    "def average():\n",
    "    a=eval(input(\"enter the number:\"))\n",
    "    b=eval(input(\"enter the number:\"))\n",
    "    c=eval(input(\"enter the number:\"))\n",
    "    d=a+b+c\n",
    "    avg= d/3\n",
    "    print(f\"average  is {avg}\")\n",
    "average()"
   ]
  },
  {
   "cell_type": "code",
   "execution_count": 10,
   "id": "ca2ec250",
   "metadata": {},
   "outputs": [
    {
     "name": "stdout",
     "output_type": "stream",
     "text": [
      "enter radius: 6\n",
      "area of circle: 113.03999999999999\n"
     ]
    }
   ],
   "source": [
    "def radius():\n",
    "    rad=eval(input(\"enter radius: \"))\n",
    "    area= 3.14*rad*rad\n",
    "    print(f\"area of circle: {area}\")\n",
    "radius()"
   ]
  },
  {
   "cell_type": "markdown",
   "id": "e75d0a48",
   "metadata": {},
   "source": [
    "- function name and variable name should not be same"
   ]
  },
  {
   "cell_type": "code",
   "execution_count": 12,
   "id": "df62768d",
   "metadata": {},
   "outputs": [
    {
     "name": "stdout",
     "output_type": "stream",
     "text": [
      "enter : 600\n",
      "enter per: 10\n",
      "bill_amount:  600\n",
      "tip_percentage:  10\n",
      "the total bill is:660.0\n"
     ]
    }
   ],
   "source": [
    "def bill():\n",
    "    \n",
    "bill()"
   ]
  },
  {
   "cell_type": "code",
   "execution_count": 13,
   "id": "428aad05",
   "metadata": {},
   "outputs": [
    {
     "name": "stdout",
     "output_type": "stream",
     "text": [
      "enter base: 5\n",
      "enter height: 7\n",
      " the area of triangle= 17.5\n"
     ]
    }
   ],
   "source": [
    "def triangle():\n",
    "    base=eval(input(\"enter base: \"))\n",
    "    height= eval(input(\"enter height: \"))\n",
    "    area= (1/2)*base*height\n",
    "    print(f\" the area of triangle= {area}\")\n",
    "triangle()"
   ]
  },
  {
   "cell_type": "code",
   "execution_count": 3,
   "id": "2a3e7b6c",
   "metadata": {},
   "outputs": [
    {
     "name": "stdout",
     "output_type": "stream",
     "text": [
      "enter length: 5\n",
      "enter bredth: 3\n",
      " the area of rectangle= 15\n"
     ]
    }
   ],
   "source": [
    "def rectangle():\n",
    "    length=eval(input(\"enter length: \"))\n",
    "    bredth= eval(input(\"enter bredth: \"))\n",
    "    area= length*bredth\n",
    "    print(f\" the area of rectangle= {area}\")\n",
    "rectangle()"
   ]
  },
  {
   "cell_type": "markdown",
   "id": "4f4feeb0",
   "metadata": {},
   "source": [
    "- while we are defining functions is nothing mentioned means\n",
    "- it is called as functions without arguements\n"
   ]
  },
  {
   "cell_type": "markdown",
   "id": "b2209ac4",
   "metadata": {},
   "source": [
    "********functions with arguements**************\n",
    "- first look at how many arguements and how many variables\n",
    "- in that how many input variables and how many output variables are there\n",
    "- input variable are user defined\n",
    "- ouput variable s are python defined\n",
    "- we can give only input variables as arguements inside the function"
   ]
  },
  {
   "cell_type": "code",
   "execution_count": 4,
   "id": "5304d0cf",
   "metadata": {},
   "outputs": [
    {
     "name": "stdout",
     "output_type": "stream",
     "text": [
      "30\n"
     ]
    }
   ],
   "source": [
    "def addition2(num1,num2):#function name is addition\n",
    "    add=num1+num2\n",
    "    print(add)\n",
    "addition2(10,20)"
   ]
  },
  {
   "cell_type": "code",
   "execution_count": 5,
   "id": "408d17e2",
   "metadata": {},
   "outputs": [
    {
     "name": "stdout",
     "output_type": "stream",
     "text": [
      "average  is 20.0\n"
     ]
    }
   ],
   "source": [
    "def average(a,b,c):\n",
    "    \n",
    "    d=a+b+c\n",
    "    avg= d/3\n",
    "    print(f\"average  is {avg}\")\n",
    "average(10,20,30)"
   ]
  },
  {
   "cell_type": "code",
   "execution_count": 6,
   "id": "143c8fe3",
   "metadata": {},
   "outputs": [
    {
     "name": "stdout",
     "output_type": "stream",
     "text": [
      " the area of triangle= 17.5\n"
     ]
    }
   ],
   "source": [
    "def triangle(base, height):\n",
    "    \n",
    "    area= (1/2)*base*height\n",
    "    print(f\" the area of triangle= {area}\")\n",
    "triangle(5,7)"
   ]
  },
  {
   "cell_type": "code",
   "execution_count": 2,
   "id": "d435cbf4",
   "metadata": {},
   "outputs": [
    {
     "name": "stdout",
     "output_type": "stream",
     "text": [
      "30\n"
     ]
    }
   ],
   "source": [
    "def addition():#function name is addition\n",
    "    num1=10\n",
    "    num2=20\n",
    "    addition=num1+num2\n",
    "    print(addition)\n",
    "addition()\n",
    "#variable name and function nam should not be same\n",
    "# it might works but it is not correct"
   ]
  },
  {
   "cell_type": "markdown",
   "id": "87f47922",
   "metadata": {},
   "source": [
    "**default arguements**\n"
   ]
  },
  {
   "cell_type": "code",
   "execution_count": 4,
   "id": "39def5de",
   "metadata": {},
   "outputs": [
    {
     "name": "stdout",
     "output_type": "stream",
     "text": [
      "bill_amount:  500\n",
      "tip_percentage:  10\n",
      "the total bill is:550.0\n"
     ]
    }
   ],
   "source": [
    "#with arguements\n",
    "#bill amount problem\n",
    "def bills(bill_amount,tip_percentage):\n",
    "    print(\"bill_amount: \",bill_amount)\n",
    "    print(\"tip_percentage: \", tip_percentage)\n",
    "    tip_amount=bill_amount*tip_percentage/100\n",
    "    total_bill=tip_amount+bill_amount\n",
    "    print(f\"the total bill is:{total_bill}\")\n",
    "bills(500,10)\n",
    "# without arguments\n",
    "def bills():\n",
    "    bill_amount= eval(input(\"enter: \"))\n",
    "    tip_percentage=eval(input(\"enter per: \"))\n",
    "    print(\"bill_amount: \",bill_amount)\n",
    "    print(\"tip_percentage: \", tip_percentage)\n",
    "    tip_amount=bill_amount*tip_percentage/100\n",
    "    total_bill=tip_amount+bill_amount\n",
    "    print(f\"the total bill is:{total_bill}\")\n",
    "bills()\n",
    "###normal\n",
    "bill_amount= eval(input(\"enter: \"))\n",
    "    tip_percentage=eval(input(\"enter per: \"))\n",
    "    print(\"bill_amount: \",bill_amount)\n",
    "    print(\"tip_percentage: \", tip_percentage)\n",
    "    tip_amount=bill_amount*tip_percentage/100\n",
    "    total_bill=tip_amount+bill_amount\n",
    "    print(f\"the total bill is:{total_bill}\")"
   ]
  },
  {
   "cell_type": "code",
   "execution_count": 5,
   "id": "dbaa62b0",
   "metadata": {},
   "outputs": [
    {
     "name": "stdout",
     "output_type": "stream",
     "text": [
      "bill_amount:  500\n",
      "tip_percentage:  10\n",
      "the total bill is:550.0\n"
     ]
    }
   ],
   "source": [
    "def bills(bill_amount,tip_percentage=10):\n",
    "    print(\"bill_amount: \",bill_amount)\n",
    "    print(\"tip_percentage: \", tip_percentage)\n",
    "    tip_amount=bill_amount*tip_percentage/100\n",
    "    total_bill=tip_amount+bill_amount\n",
    "    print(f\"the total bill is:{total_bill}\")\n",
    "bills(500)\n",
    "#here the tip_percentage= default value\n",
    "#whenever we provided default value to a arguements\n",
    "#then it is called default arguement"
   ]
  },
  {
   "cell_type": "code",
   "execution_count": 8,
   "id": "e567cdf6",
   "metadata": {},
   "outputs": [
    {
     "name": "stdout",
     "output_type": "stream",
     "text": [
      "average  is 26.67\n"
     ]
    }
   ],
   "source": [
    "def average(a,b,c=50):\n",
    "    \n",
    "    d=a+b+c\n",
    "    avg= d/3\n",
    "    avg1=round(avg,2)\n",
    "    print(f\"average  is {avg1}\")\n",
    "average(10,20)\n",
    "#a,b are positional arguements\n",
    "#c is default value"
   ]
  },
  {
   "cell_type": "code",
   "execution_count": 9,
   "id": "414c0704",
   "metadata": {},
   "outputs": [
    {
     "ename": "SyntaxError",
     "evalue": "non-default argument follows default argument (4100913952.py, line 1)",
     "output_type": "error",
     "traceback": [
      "\u001b[1;36m  File \u001b[1;32m\"C:\\Users\\My world\\AppData\\Local\\Temp\\ipykernel_11088\\4100913952.py\"\u001b[1;36m, line \u001b[1;32m1\u001b[0m\n\u001b[1;33m    def average(a,b=60,c):\u001b[0m\n\u001b[1;37m                        ^\u001b[0m\n\u001b[1;31mSyntaxError\u001b[0m\u001b[1;31m:\u001b[0m non-default argument follows default argument\n"
     ]
    }
   ],
   "source": [
    "def average(a,b=60,c):\n",
    "    \n",
    "    d=a+b+c\n",
    "    avg= d/3\n",
    "    avg1=round(avg,2)\n",
    "    print(f\"average  is {avg1}\")\n",
    "average(10,20)"
   ]
  },
  {
   "cell_type": "markdown",
   "id": "3b069382",
   "metadata": {},
   "source": [
    "- default arguements always should be last"
   ]
  },
  {
   "cell_type": "markdown",
   "id": "d6ec3bfb",
   "metadata": {},
   "source": [
    "(a,b,c=50)#w\n",
    "(a,b=40,c=50)#w\n",
    "(a=100,b=30,c)#n\n",
    "(a=20,b,c)#n\n",
    "(a=90,b=60,c=40)#w\n",
    "(a=60,b,c=90)#n\n",
    "(a,b=70,c)#n\n"
   ]
  },
  {
   "cell_type": "code",
   "execution_count": 11,
   "id": "f45d97d9",
   "metadata": {},
   "outputs": [
    {
     "name": "stdout",
     "output_type": "stream",
     "text": [
      "1500\n"
     ]
    }
   ],
   "source": [
    "#CASE1\n",
    "def add(n,m=600):\n",
    "    ad=n+m\n",
    "    print(ad)\n",
    "add(500,1000)"
   ]
  },
  {
   "cell_type": "code",
   "execution_count": null,
   "id": "6f301149",
   "metadata": {},
   "outputs": [],
   "source": [
    "#first we defining the function\n",
    "#while defining the function we given m=600\n",
    "#now we are calling the function\n",
    "#whil we are calling m=1000\n",
    "#so value will be over ride\n",
    "#python always takes the latest value\n"
   ]
  },
  {
   "cell_type": "code",
   "execution_count": 12,
   "id": "7b42d9c7",
   "metadata": {},
   "outputs": [
    {
     "name": "stdout",
     "output_type": "stream",
     "text": [
      "900\n"
     ]
    }
   ],
   "source": [
    "#CASE2\n",
    "def add(n,m=600):\n",
    "    m=400\n",
    "    ad=n+m\n",
    "    print(ad)\n",
    "add(500,1000)\n",
    "#1) DEFINE THE FUNCTION  M=600\n",
    "#2) CALL THE FUNCTION  M=1000\n",
    "#3)RUNNING THE FUNCTION  M= 400"
   ]
  },
  {
   "cell_type": "code",
   "execution_count": 13,
   "id": "43370ca0",
   "metadata": {},
   "outputs": [
    {
     "name": "stdout",
     "output_type": "stream",
     "text": [
      "1500\n"
     ]
    }
   ],
   "source": [
    "#CASE3\n",
    "def add(n,m):\n",
    "    ad=n+m\n",
    "    print(ad)\n",
    "add(500,1000)"
   ]
  },
  {
   "cell_type": "code",
   "execution_count": 14,
   "id": "95b081b9",
   "metadata": {},
   "outputs": [
    {
     "name": "stdout",
     "output_type": "stream",
     "text": [
      "900\n"
     ]
    }
   ],
   "source": [
    "#CASE4\n",
    "def add(n,m=600):\n",
    "    m=400\n",
    "    ad=n+m\n",
    "    print(ad)\n",
    "m=3000\n",
    "add(500,1000)"
   ]
  },
  {
   "cell_type": "markdown",
   "id": "5530ed83",
   "metadata": {},
   "source": [
    "# Local variable & global variable"
   ]
  },
  {
   "cell_type": "markdown",
   "id": "c0a7d96e",
   "metadata": {},
   "source": [
    "- local variables means the function inside calls\n",
    "- global variable means the outside of the function\n",
    "- once you define the variables outside means you can use those variables any where in the function\n",
    "- you can use global variable inside the function also\n",
    "- but you cannot use local variables outside the function"
   ]
  },
  {
   "cell_type": "code",
   "execution_count": 15,
   "id": "cdeb8863",
   "metadata": {},
   "outputs": [
    {
     "name": "stdout",
     "output_type": "stream",
     "text": [
      "200\n"
     ]
    }
   ],
   "source": [
    "def multiply():\n",
    "    a=10\n",
    "    b=20\n",
    "    mul=a*b\n",
    "    print(mul)\n",
    "multiply()"
   ]
  },
  {
   "cell_type": "code",
   "execution_count": 16,
   "id": "492803df",
   "metadata": {},
   "outputs": [
    {
     "ename": "NameError",
     "evalue": "name 'a' is not defined",
     "output_type": "error",
     "traceback": [
      "\u001b[1;31m---------------------------------------------------------------------------\u001b[0m",
      "\u001b[1;31mNameError\u001b[0m                                 Traceback (most recent call last)",
      "\u001b[1;32m~\\AppData\\Local\\Temp\\ipykernel_11088\\2167009006.py\u001b[0m in \u001b[0;36m<module>\u001b[1;34m\u001b[0m\n\u001b[1;32m----> 1\u001b[1;33m \u001b[0ma\u001b[0m\u001b[1;33m\u001b[0m\u001b[1;33m\u001b[0m\u001b[0m\n\u001b[0m",
      "\u001b[1;31mNameError\u001b[0m: name 'a' is not defined"
     ]
    }
   ],
   "source": [
    "a"
   ]
  },
  {
   "cell_type": "code",
   "execution_count": 17,
   "id": "8b13e2d6",
   "metadata": {},
   "outputs": [],
   "source": [
    "#a,b,mul are local variables\n",
    "#here we cannot use local variables outside of the function\n"
   ]
  },
  {
   "cell_type": "code",
   "execution_count": 18,
   "id": "08039b22",
   "metadata": {},
   "outputs": [
    {
     "name": "stdout",
     "output_type": "stream",
     "text": [
      "200\n"
     ]
    }
   ],
   "source": [
    "a=10\n",
    "b=20\n",
    "def multiply():\n",
    "    \n",
    "    mul=a*b\n",
    "    print(mul)\n",
    "multiply()"
   ]
  },
  {
   "cell_type": "code",
   "execution_count": 19,
   "id": "ac802fa5",
   "metadata": {},
   "outputs": [
    {
     "data": {
      "text/plain": [
       "10"
      ]
     },
     "execution_count": 19,
     "metadata": {},
     "output_type": "execute_result"
    }
   ],
   "source": [
    "a"
   ]
  },
  {
   "cell_type": "code",
   "execution_count": 20,
   "id": "a3fb0f2f",
   "metadata": {},
   "outputs": [
    {
     "ename": "NameError",
     "evalue": "name 'mul' is not defined",
     "output_type": "error",
     "traceback": [
      "\u001b[1;31m---------------------------------------------------------------------------\u001b[0m",
      "\u001b[1;31mNameError\u001b[0m                                 Traceback (most recent call last)",
      "\u001b[1;32m~\\AppData\\Local\\Temp\\ipykernel_11088\\602781530.py\u001b[0m in \u001b[0;36m<module>\u001b[1;34m\u001b[0m\n\u001b[1;32m----> 1\u001b[1;33m \u001b[0mmul\u001b[0m\u001b[1;33m\u001b[0m\u001b[1;33m\u001b[0m\u001b[0m\n\u001b[0m",
      "\u001b[1;31mNameError\u001b[0m: name 'mul' is not defined"
     ]
    }
   ],
   "source": [
    "mul"
   ]
  },
  {
   "cell_type": "code",
   "execution_count": 21,
   "id": "94ad3b8b",
   "metadata": {},
   "outputs": [
    {
     "name": "stdout",
     "output_type": "stream",
     "text": [
      "100\n"
     ]
    }
   ],
   "source": [
    "a=10\n",
    "b=20\n",
    "def multiply(a=5):\n",
    "    \n",
    "    mul=a*b\n",
    "    print(mul)\n",
    "multiply()"
   ]
  },
  {
   "cell_type": "code",
   "execution_count": 22,
   "id": "a21b50d6",
   "metadata": {},
   "outputs": [],
   "source": [
    "#global variable initialization\n",
    "# defining the function\n",
    "#call the function\n",
    "#run the function"
   ]
  },
  {
   "cell_type": "code",
   "execution_count": 23,
   "id": "4354f496",
   "metadata": {},
   "outputs": [
    {
     "ename": "TypeError",
     "evalue": "multiply() takes from 0 to 1 positional arguments but 2 were given",
     "output_type": "error",
     "traceback": [
      "\u001b[1;31m---------------------------------------------------------------------------\u001b[0m",
      "\u001b[1;31mTypeError\u001b[0m                                 Traceback (most recent call last)",
      "\u001b[1;32m~\\AppData\\Local\\Temp\\ipykernel_11088\\1369485989.py\u001b[0m in \u001b[0;36m<module>\u001b[1;34m\u001b[0m\n\u001b[0;32m      5\u001b[0m     \u001b[0mmul\u001b[0m\u001b[1;33m=\u001b[0m\u001b[0ma\u001b[0m\u001b[1;33m*\u001b[0m\u001b[0mb\u001b[0m\u001b[1;33m\u001b[0m\u001b[1;33m\u001b[0m\u001b[0m\n\u001b[0;32m      6\u001b[0m     \u001b[0mprint\u001b[0m\u001b[1;33m(\u001b[0m\u001b[0mmul\u001b[0m\u001b[1;33m)\u001b[0m\u001b[1;33m\u001b[0m\u001b[1;33m\u001b[0m\u001b[0m\n\u001b[1;32m----> 7\u001b[1;33m \u001b[0mmultiply\u001b[0m\u001b[1;33m(\u001b[0m\u001b[1;36m5\u001b[0m\u001b[1;33m,\u001b[0m\u001b[1;36m5\u001b[0m\u001b[1;33m)\u001b[0m\u001b[1;33m\u001b[0m\u001b[1;33m\u001b[0m\u001b[0m\n\u001b[0m",
      "\u001b[1;31mTypeError\u001b[0m: multiply() takes from 0 to 1 positional arguments but 2 were given"
     ]
    }
   ],
   "source": [
    "a=10\n",
    "b=20\n",
    "def multiply(a=5):\n",
    "    \n",
    "    mul=a*b\n",
    "    print(mul)\n",
    "multiply(5,5)"
   ]
  },
  {
   "cell_type": "code",
   "execution_count": 24,
   "id": "4bd2b1d2",
   "metadata": {},
   "outputs": [],
   "source": [
    "#whil defining function only one arguement is there\n",
    "#while calling we are providing two arguements\n",
    "#it is not possible"
   ]
  },
  {
   "cell_type": "code",
   "execution_count": 25,
   "id": "e5870766",
   "metadata": {},
   "outputs": [
    {
     "name": "stdout",
     "output_type": "stream",
     "text": [
      "100\n"
     ]
    }
   ],
   "source": [
    "#case 7\n",
    "a=10\n",
    "b=20\n",
    "def multiply(a=5):\n",
    "    \n",
    "    mul=a*b\n",
    "    print(mul)\n",
    "multiply(a=5)"
   ]
  },
  {
   "cell_type": "code",
   "execution_count": 27,
   "id": "023def6d",
   "metadata": {},
   "outputs": [
    {
     "name": "stdout",
     "output_type": "stream",
     "text": [
      "30\n"
     ]
    }
   ],
   "source": [
    "#case8\n",
    "a=10\n",
    "b=20\n",
    "def multiply(a=5,b=5):\n",
    "    a=6\n",
    "    mul=a*b\n",
    "    print(mul)\n",
    "multiply(a=10)"
   ]
  },
  {
   "cell_type": "code",
   "execution_count": 28,
   "id": "6b4a7adc",
   "metadata": {},
   "outputs": [
    {
     "name": "stdout",
     "output_type": "stream",
     "text": [
      "80\n"
     ]
    }
   ],
   "source": [
    "#case9\n",
    "a=10\n",
    "b=20\n",
    "def multiply(a=5):\n",
    "    a=4\n",
    "    mul=a*b\n",
    "    print(mul)\n",
    "a=10\n",
    "multiply(a=3)"
   ]
  },
  {
   "cell_type": "code",
   "execution_count": 29,
   "id": "cc9f3502",
   "metadata": {},
   "outputs": [
    {
     "name": "stdout",
     "output_type": "stream",
     "text": [
      "200\n"
     ]
    }
   ],
   "source": [
    "#case10\n",
    "\n",
    "b=20\n",
    "def multiply():\n",
    "\n",
    "    mul=a*b\n",
    "    print(mul)\n",
    "a=10\n",
    "multiply()"
   ]
  },
  {
   "cell_type": "code",
   "execution_count": 1,
   "id": "e8255a35",
   "metadata": {},
   "outputs": [
    {
     "name": "stdout",
     "output_type": "stream",
     "text": [
      "6200\n"
     ]
    }
   ],
   "source": [
    "#case11\n",
    "b1=200\n",
    "def add11():\n",
    "    add1=a1+b1\n",
    "    print(add1)\n",
    "a1=6000\n",
    "add11()"
   ]
  },
  {
   "cell_type": "markdown",
   "id": "54762b19",
   "metadata": {},
   "source": [
    "even we use same variable in local and global contains some difference"
   ]
  },
  {
   "cell_type": "code",
   "execution_count": 2,
   "id": "dfa32d31",
   "metadata": {},
   "outputs": [
    {
     "name": "stdout",
     "output_type": "stream",
     "text": [
      "hello\n"
     ]
    }
   ],
   "source": [
    "a=100\n",
    "def greet():\n",
    "    a=200\n",
    "    print(\"hello\")\n",
    "greet()"
   ]
  },
  {
   "cell_type": "code",
   "execution_count": 3,
   "id": "1277f75a",
   "metadata": {},
   "outputs": [
    {
     "data": {
      "text/plain": [
       "100"
      ]
     },
     "execution_count": 3,
     "metadata": {},
     "output_type": "execute_result"
    }
   ],
   "source": [
    "a"
   ]
  },
  {
   "cell_type": "code",
   "execution_count": 3,
   "id": "107af2ae",
   "metadata": {},
   "outputs": [],
   "source": [
    "#step1:- variable initialized\n",
    "#step2:- define function\n",
    "#step3:- calling function \n",
    "#step4:- running function"
   ]
  },
  {
   "cell_type": "code",
   "execution_count": 4,
   "id": "b3814722",
   "metadata": {},
   "outputs": [
    {
     "ename": "NameError",
     "evalue": "name 'a21' is not defined",
     "output_type": "error",
     "traceback": [
      "\u001b[1;31m---------------------------------------------------------------------------\u001b[0m",
      "\u001b[1;31mNameError\u001b[0m                                 Traceback (most recent call last)",
      "\u001b[1;32m~\\AppData\\Local\\Temp\\ipykernel_8\\2405783240.py\u001b[0m in \u001b[0;36m<module>\u001b[1;34m\u001b[0m\n\u001b[0;32m      3\u001b[0m     \u001b[0madd1\u001b[0m\u001b[1;33m=\u001b[0m\u001b[0ma21\u001b[0m\u001b[1;33m+\u001b[0m\u001b[0mb21\u001b[0m\u001b[1;33m\u001b[0m\u001b[1;33m\u001b[0m\u001b[0m\n\u001b[0;32m      4\u001b[0m     \u001b[0mprint\u001b[0m\u001b[1;33m(\u001b[0m\u001b[0madd1\u001b[0m\u001b[1;33m)\u001b[0m\u001b[1;33m\u001b[0m\u001b[1;33m\u001b[0m\u001b[0m\n\u001b[1;32m----> 5\u001b[1;33m \u001b[0madd21\u001b[0m\u001b[1;33m(\u001b[0m\u001b[1;33m)\u001b[0m\u001b[1;33m\u001b[0m\u001b[1;33m\u001b[0m\u001b[0m\n\u001b[0m\u001b[0;32m      6\u001b[0m \u001b[0ma\u001b[0m\u001b[1;33m=\u001b[0m\u001b[1;36m6000\u001b[0m\u001b[1;33m\u001b[0m\u001b[1;33m\u001b[0m\u001b[0m\n",
      "\u001b[1;32m~\\AppData\\Local\\Temp\\ipykernel_8\\2405783240.py\u001b[0m in \u001b[0;36madd21\u001b[1;34m()\u001b[0m\n\u001b[0;32m      1\u001b[0m \u001b[0mb21\u001b[0m\u001b[1;33m=\u001b[0m\u001b[1;36m200\u001b[0m\u001b[1;33m\u001b[0m\u001b[1;33m\u001b[0m\u001b[0m\n\u001b[0;32m      2\u001b[0m \u001b[1;32mdef\u001b[0m \u001b[0madd21\u001b[0m\u001b[1;33m(\u001b[0m\u001b[1;33m)\u001b[0m\u001b[1;33m:\u001b[0m\u001b[1;33m\u001b[0m\u001b[1;33m\u001b[0m\u001b[0m\n\u001b[1;32m----> 3\u001b[1;33m     \u001b[0madd1\u001b[0m\u001b[1;33m=\u001b[0m\u001b[0ma21\u001b[0m\u001b[1;33m+\u001b[0m\u001b[0mb21\u001b[0m\u001b[1;33m\u001b[0m\u001b[1;33m\u001b[0m\u001b[0m\n\u001b[0m\u001b[0;32m      4\u001b[0m     \u001b[0mprint\u001b[0m\u001b[1;33m(\u001b[0m\u001b[0madd1\u001b[0m\u001b[1;33m)\u001b[0m\u001b[1;33m\u001b[0m\u001b[1;33m\u001b[0m\u001b[0m\n\u001b[0;32m      5\u001b[0m \u001b[0madd21\u001b[0m\u001b[1;33m(\u001b[0m\u001b[1;33m)\u001b[0m\u001b[1;33m\u001b[0m\u001b[1;33m\u001b[0m\u001b[0m\n",
      "\u001b[1;31mNameError\u001b[0m: name 'a21' is not defined"
     ]
    }
   ],
   "source": [
    "b21=200\n",
    "def add21():\n",
    "    add1=a21+b21\n",
    "    print(add1)\n",
    "add21()\n",
    "a=6000"
   ]
  },
  {
   "cell_type": "code",
   "execution_count": 5,
   "id": "95991118",
   "metadata": {},
   "outputs": [
    {
     "ename": "UnboundLocalError",
     "evalue": "local variable 's' referenced before assignment",
     "output_type": "error",
     "traceback": [
      "\u001b[1;31m---------------------------------------------------------------------------\u001b[0m",
      "\u001b[1;31mUnboundLocalError\u001b[0m                         Traceback (most recent call last)",
      "\u001b[1;32m~\\AppData\\Local\\Temp\\ipykernel_8\\979849066.py\u001b[0m in \u001b[0;36m<module>\u001b[1;34m\u001b[0m\n\u001b[0;32m      3\u001b[0m     \u001b[0ms\u001b[0m\u001b[1;33m=\u001b[0m\u001b[0ms\u001b[0m\u001b[1;33m+\u001b[0m\u001b[1;36m10\u001b[0m\u001b[1;33m\u001b[0m\u001b[1;33m\u001b[0m\u001b[0m\n\u001b[0;32m      4\u001b[0m     \u001b[0mprint\u001b[0m\u001b[1;33m(\u001b[0m\u001b[0ms\u001b[0m\u001b[1;33m)\u001b[0m\u001b[1;33m\u001b[0m\u001b[1;33m\u001b[0m\u001b[0m\n\u001b[1;32m----> 5\u001b[1;33m \u001b[0madd\u001b[0m\u001b[1;33m(\u001b[0m\u001b[1;33m)\u001b[0m\u001b[1;33m\u001b[0m\u001b[1;33m\u001b[0m\u001b[0m\n\u001b[0m",
      "\u001b[1;32m~\\AppData\\Local\\Temp\\ipykernel_8\\979849066.py\u001b[0m in \u001b[0;36madd\u001b[1;34m()\u001b[0m\n\u001b[0;32m      1\u001b[0m \u001b[0ms\u001b[0m\u001b[1;33m=\u001b[0m\u001b[1;36m0\u001b[0m\u001b[1;33m\u001b[0m\u001b[1;33m\u001b[0m\u001b[0m\n\u001b[0;32m      2\u001b[0m \u001b[1;32mdef\u001b[0m \u001b[0madd\u001b[0m\u001b[1;33m(\u001b[0m\u001b[1;33m)\u001b[0m\u001b[1;33m:\u001b[0m\u001b[1;33m\u001b[0m\u001b[1;33m\u001b[0m\u001b[0m\n\u001b[1;32m----> 3\u001b[1;33m     \u001b[0ms\u001b[0m\u001b[1;33m=\u001b[0m\u001b[0ms\u001b[0m\u001b[1;33m+\u001b[0m\u001b[1;36m10\u001b[0m\u001b[1;33m\u001b[0m\u001b[1;33m\u001b[0m\u001b[0m\n\u001b[0m\u001b[0;32m      4\u001b[0m     \u001b[0mprint\u001b[0m\u001b[1;33m(\u001b[0m\u001b[0ms\u001b[0m\u001b[1;33m)\u001b[0m\u001b[1;33m\u001b[0m\u001b[1;33m\u001b[0m\u001b[0m\n\u001b[0;32m      5\u001b[0m \u001b[0madd\u001b[0m\u001b[1;33m(\u001b[0m\u001b[1;33m)\u001b[0m\u001b[1;33m\u001b[0m\u001b[1;33m\u001b[0m\u001b[0m\n",
      "\u001b[1;31mUnboundLocalError\u001b[0m: local variable 's' referenced before assignment"
     ]
    }
   ],
   "source": [
    "s=0\n",
    "def add():\n",
    "    s=s+10\n",
    "    print(s)\n",
    "add()"
   ]
  },
  {
   "cell_type": "code",
   "execution_count": 6,
   "id": "5b886b05",
   "metadata": {},
   "outputs": [
    {
     "name": "stdout",
     "output_type": "stream",
     "text": [
      "10\n"
     ]
    }
   ],
   "source": [
    "s=0\n",
    "def add():\n",
    "    a=s+10\n",
    "    print(a)\n",
    "add()"
   ]
  },
  {
   "cell_type": "code",
   "execution_count": 7,
   "id": "fb124796",
   "metadata": {},
   "outputs": [
    {
     "name": "stdout",
     "output_type": "stream",
     "text": [
      "10\n"
     ]
    }
   ],
   "source": [
    "b=0\n",
    "def add():\n",
    "    s=b+10\n",
    "    print(s)\n",
    "add()"
   ]
  },
  {
   "cell_type": "code",
   "execution_count": 8,
   "id": "f68eb594",
   "metadata": {},
   "outputs": [
    {
     "ename": "UnboundLocalError",
     "evalue": "local variable 's' referenced before assignment",
     "output_type": "error",
     "traceback": [
      "\u001b[1;31m---------------------------------------------------------------------------\u001b[0m",
      "\u001b[1;31mUnboundLocalError\u001b[0m                         Traceback (most recent call last)",
      "\u001b[1;32m~\\AppData\\Local\\Temp\\ipykernel_8\\2101328035.py\u001b[0m in \u001b[0;36m<module>\u001b[1;34m\u001b[0m\n\u001b[0;32m      4\u001b[0m     \u001b[0ms\u001b[0m\u001b[1;33m=\u001b[0m\u001b[0mc\u001b[0m\u001b[1;33m\u001b[0m\u001b[1;33m\u001b[0m\u001b[0m\n\u001b[0;32m      5\u001b[0m     \u001b[0mprint\u001b[0m\u001b[1;33m(\u001b[0m\u001b[0ms\u001b[0m\u001b[1;33m)\u001b[0m\u001b[1;33m\u001b[0m\u001b[1;33m\u001b[0m\u001b[0m\n\u001b[1;32m----> 6\u001b[1;33m \u001b[0madd\u001b[0m\u001b[1;33m(\u001b[0m\u001b[1;33m)\u001b[0m\u001b[1;33m\u001b[0m\u001b[1;33m\u001b[0m\u001b[0m\n\u001b[0m",
      "\u001b[1;32m~\\AppData\\Local\\Temp\\ipykernel_8\\2101328035.py\u001b[0m in \u001b[0;36madd\u001b[1;34m()\u001b[0m\n\u001b[0;32m      1\u001b[0m \u001b[0ms\u001b[0m\u001b[1;33m=\u001b[0m\u001b[1;36m0\u001b[0m\u001b[1;33m\u001b[0m\u001b[1;33m\u001b[0m\u001b[0m\n\u001b[0;32m      2\u001b[0m \u001b[1;32mdef\u001b[0m \u001b[0madd\u001b[0m\u001b[1;33m(\u001b[0m\u001b[1;33m)\u001b[0m\u001b[1;33m:\u001b[0m\u001b[1;33m\u001b[0m\u001b[1;33m\u001b[0m\u001b[0m\n\u001b[1;32m----> 3\u001b[1;33m     \u001b[0mc\u001b[0m\u001b[1;33m=\u001b[0m\u001b[0ms\u001b[0m\u001b[1;33m+\u001b[0m\u001b[1;36m10\u001b[0m\u001b[1;33m\u001b[0m\u001b[1;33m\u001b[0m\u001b[0m\n\u001b[0m\u001b[0;32m      4\u001b[0m     \u001b[0ms\u001b[0m\u001b[1;33m=\u001b[0m\u001b[0mc\u001b[0m\u001b[1;33m\u001b[0m\u001b[1;33m\u001b[0m\u001b[0m\n\u001b[0;32m      5\u001b[0m     \u001b[0mprint\u001b[0m\u001b[1;33m(\u001b[0m\u001b[0ms\u001b[0m\u001b[1;33m)\u001b[0m\u001b[1;33m\u001b[0m\u001b[1;33m\u001b[0m\u001b[0m\n",
      "\u001b[1;31mUnboundLocalError\u001b[0m: local variable 's' referenced before assignment"
     ]
    }
   ],
   "source": [
    "s=0\n",
    "def add():\n",
    "    c=s+10\n",
    "    s=c\n",
    "    print(s)\n",
    "add()"
   ]
  },
  {
   "cell_type": "code",
   "execution_count": 9,
   "id": "3f5c2579",
   "metadata": {},
   "outputs": [
    {
     "name": "stdout",
     "output_type": "stream",
     "text": [
      "10 20 30\n"
     ]
    }
   ],
   "source": [
    "n1=10\n",
    "def addition():\n",
    "    n1=10\n",
    "    n2=20\n",
    "    n3=n1+n2\n",
    "    print(n1,n2,n3)\n",
    "addition()"
   ]
  },
  {
   "cell_type": "markdown",
   "id": "c7044267",
   "metadata": {},
   "source": [
    "Note"
   ]
  },
  {
   "cell_type": "markdown",
   "id": "5e9fe24f",
   "metadata": {},
   "source": [
    "- if you give same variable as global and local\n",
    "- make sure that the variable should not use as value inside the function"
   ]
  },
  {
   "cell_type": "code",
   "execution_count": 11,
   "id": "6079b838",
   "metadata": {},
   "outputs": [
    {
     "name": "stdout",
     "output_type": "stream",
     "text": [
      "10 210 220\n"
     ]
    }
   ],
   "source": [
    "n11=10\n",
    "def addition():\n",
    "    n22=200+n11\n",
    "    n33=n11+n22\n",
    "    print(n11,n22,n33)\n",
    "addition()\n",
    "#step1: n11 =10\n",
    "# step-2: define the function\n",
    "# step-3: call the function\n",
    "# step-4: run the function\n",
    "# n11 is global variable passing inside the function (yes)\n",
    "# n22=200+n11= 200+10=210\n",
    "# n33=10+210=220\n",
    "# print(10,210,220)"
   ]
  },
  {
   "cell_type": "code",
   "execution_count": 12,
   "id": "f484cbb2",
   "metadata": {},
   "outputs": [
    {
     "ename": "UnboundLocalError",
     "evalue": "local variable 's' referenced before assignment",
     "output_type": "error",
     "traceback": [
      "\u001b[1;31m---------------------------------------------------------------------------\u001b[0m",
      "\u001b[1;31mUnboundLocalError\u001b[0m                         Traceback (most recent call last)",
      "\u001b[1;32m~\\AppData\\Local\\Temp\\ipykernel_8\\1032482346.py\u001b[0m in \u001b[0;36m<module>\u001b[1;34m\u001b[0m\n\u001b[0;32m      4\u001b[0m     \u001b[0ms\u001b[0m\u001b[1;33m=\u001b[0m\u001b[0mc\u001b[0m\u001b[1;33m\u001b[0m\u001b[1;33m\u001b[0m\u001b[0m\n\u001b[0;32m      5\u001b[0m     \u001b[0mprint\u001b[0m\u001b[1;33m(\u001b[0m\u001b[0ms\u001b[0m\u001b[1;33m)\u001b[0m\u001b[1;33m\u001b[0m\u001b[1;33m\u001b[0m\u001b[0m\n\u001b[1;32m----> 6\u001b[1;33m \u001b[0madd\u001b[0m\u001b[1;33m(\u001b[0m\u001b[1;33m)\u001b[0m\u001b[1;33m\u001b[0m\u001b[1;33m\u001b[0m\u001b[0m\n\u001b[0m\u001b[0;32m      7\u001b[0m \u001b[1;31m# step1: s=0 gv\u001b[0m\u001b[1;33m\u001b[0m\u001b[1;33m\u001b[0m\u001b[0m\n\u001b[0;32m      8\u001b[0m \u001b[1;31m# step-2: define the function\u001b[0m\u001b[1;33m\u001b[0m\u001b[1;33m\u001b[0m\u001b[0m\n",
      "\u001b[1;32m~\\AppData\\Local\\Temp\\ipykernel_8\\1032482346.py\u001b[0m in \u001b[0;36madd\u001b[1;34m()\u001b[0m\n\u001b[0;32m      1\u001b[0m \u001b[0ms\u001b[0m\u001b[1;33m=\u001b[0m\u001b[1;36m0\u001b[0m\u001b[1;33m\u001b[0m\u001b[1;33m\u001b[0m\u001b[0m\n\u001b[0;32m      2\u001b[0m \u001b[1;32mdef\u001b[0m \u001b[0madd\u001b[0m\u001b[1;33m(\u001b[0m\u001b[1;33m)\u001b[0m\u001b[1;33m:\u001b[0m\u001b[1;33m\u001b[0m\u001b[1;33m\u001b[0m\u001b[0m\n\u001b[1;32m----> 3\u001b[1;33m     \u001b[0mc\u001b[0m\u001b[1;33m=\u001b[0m\u001b[0ms\u001b[0m\u001b[1;33m+\u001b[0m\u001b[1;36m10\u001b[0m\u001b[1;33m\u001b[0m\u001b[1;33m\u001b[0m\u001b[0m\n\u001b[0m\u001b[0;32m      4\u001b[0m     \u001b[0ms\u001b[0m\u001b[1;33m=\u001b[0m\u001b[0mc\u001b[0m\u001b[1;33m\u001b[0m\u001b[1;33m\u001b[0m\u001b[0m\n\u001b[0;32m      5\u001b[0m     \u001b[0mprint\u001b[0m\u001b[1;33m(\u001b[0m\u001b[0ms\u001b[0m\u001b[1;33m)\u001b[0m\u001b[1;33m\u001b[0m\u001b[1;33m\u001b[0m\u001b[0m\n",
      "\u001b[1;31mUnboundLocalError\u001b[0m: local variable 's' referenced before assignment"
     ]
    }
   ],
   "source": [
    "s=0\n",
    "def add():\n",
    "    c=s+10\n",
    "    s=c\n",
    "    print(s)\n",
    "add()\n",
    "# step1: s=0 gv\n",
    "# step-2: define the function\n",
    "# step-3: call the function\n",
    "# step-4: run the function\n",
    "# c is lv : c= s+10 = c=10\n",
    "# we are creating a new variable same like as global s\n",
    "# we are creating a new variable with same name as global variable\n",
    "# by using global variable"
   ]
  },
  {
   "cell_type": "code",
   "execution_count": 14,
   "id": "1348cc26",
   "metadata": {},
   "outputs": [
    {
     "name": "stdout",
     "output_type": "stream",
     "text": [
      "hello\n"
     ]
    }
   ],
   "source": [
    "value=100\n",
    "def greet():\n",
    "    value=200\n",
    "    print('hello')\n",
    "greet()"
   ]
  },
  {
   "cell_type": "code",
   "execution_count": 15,
   "id": "f0004f03",
   "metadata": {},
   "outputs": [
    {
     "data": {
      "text/plain": [
       "100"
      ]
     },
     "execution_count": 15,
     "metadata": {},
     "output_type": "execute_result"
    }
   ],
   "source": [
    "value"
   ]
  },
  {
   "cell_type": "markdown",
   "id": "16ca85a4",
   "metadata": {},
   "source": [
    "**global**\n",
    "- global keyword is used to take the local variable value outside the function"
   ]
  },
  {
   "cell_type": "code",
   "execution_count": 16,
   "id": "d714361e",
   "metadata": {},
   "outputs": [
    {
     "name": "stdout",
     "output_type": "stream",
     "text": [
      "hello\n",
      "value: 200\n"
     ]
    }
   ],
   "source": [
    "value=100\n",
    "def greet():\n",
    "    global value\n",
    "    value=200\n",
    "    print('hello')\n",
    "greet()\n",
    "print('value:',value)"
   ]
  },
  {
   "cell_type": "code",
   "execution_count": 17,
   "id": "6c182886",
   "metadata": {},
   "outputs": [
    {
     "name": "stdout",
     "output_type": "stream",
     "text": [
      "10 200 210\n"
     ]
    }
   ],
   "source": [
    "n11=10\n",
    "def addition():\n",
    "    global n33,n22\n",
    "    n22=200\n",
    "    n33=n11+n22\n",
    "    print(n11,n22,n33)\n",
    "addition()"
   ]
  },
  {
   "cell_type": "code",
   "execution_count": 18,
   "id": "cb388d68",
   "metadata": {},
   "outputs": [
    {
     "data": {
      "text/plain": [
       "210"
      ]
     },
     "execution_count": 18,
     "metadata": {},
     "output_type": "execute_result"
    }
   ],
   "source": [
    "n33"
   ]
  },
  {
   "cell_type": "markdown",
   "id": "af71a166",
   "metadata": {},
   "source": [
    "- Outside the function is called Global variables\n",
    "- Inside the function is local varaiable\n",
    "- local variables can not use outside the function\n",
    "- if you want to use outside the function use global keyword"
   ]
  },
  {
   "cell_type": "code",
   "execution_count": 20,
   "id": "463ca869",
   "metadata": {},
   "outputs": [
    {
     "name": "stdout",
     "output_type": "stream",
     "text": [
      "20\n",
      "30\n",
      "600\n"
     ]
    }
   ],
   "source": [
    "def mul(a,b):\n",
    "    print(a*b)\n",
    "mul(eval(input()),\n",
    "    eval(input()))"
   ]
  },
  {
   "cell_type": "markdown",
   "id": "2fec0d17",
   "metadata": {},
   "source": [
    "***Return***\n",
    "\n",
    "- we can use the local variable or function outputs outside the function using return\n",
    "- print is different\n",
    "- return is different\n",
    "- print is used to only to print the values\n",
    "\n",
    "- that value you can only see, but you can not use\n",
    "- if you want to use outside we will use return (it is also possibile by using global)"
   ]
  },
  {
   "cell_type": "code",
   "execution_count": 21,
   "id": "4022f88a",
   "metadata": {},
   "outputs": [],
   "source": [
    "def average():\n",
    "    n1=10\n",
    "    n2=20\n",
    "    n3=30\n",
    "    avg=(n1+n2+n3)/3\n",
    "    return(avg)\n",
    "avg=average()\n",
    "# function is ready to return values to me\n",
    "# so i need to store"
   ]
  },
  {
   "cell_type": "code",
   "execution_count": 22,
   "id": "0bb12734",
   "metadata": {},
   "outputs": [
    {
     "data": {
      "text/plain": [
       "20.0"
      ]
     },
     "execution_count": 22,
     "metadata": {},
     "output_type": "execute_result"
    }
   ],
   "source": [
    "avg"
   ]
  },
  {
   "cell_type": "code",
   "execution_count": 23,
   "id": "dbd0ec74",
   "metadata": {},
   "outputs": [],
   "source": [
    "def average():\n",
    "    n1=10\n",
    "    n2=20\n",
    "    n3=30\n",
    "    avg=(n1+n2+n3)/3\n",
    "    return(avg,n3)\n",
    "avg,n3=average()\n",
    "#how many values we are returning\n",
    "# we will store each return values in different variable\n",
    "# because two values are different\n",
    "# If you use only variable to store : tuple value"
   ]
  },
  {
   "cell_type": "code",
   "execution_count": 24,
   "id": "855fec9e",
   "metadata": {},
   "outputs": [
    {
     "name": "stdout",
     "output_type": "stream",
     "text": [
      "20.0\n",
      "30\n"
     ]
    }
   ],
   "source": [
    "print(avg)\n",
    "print(n3)"
   ]
  },
  {
   "cell_type": "code",
   "execution_count": 25,
   "id": "94a0d803",
   "metadata": {},
   "outputs": [],
   "source": [
    "def sub():\n",
    "    a=10\n",
    "    b=20\n",
    "    sub1=b-a\n",
    "    return(sub1)\n",
    "sub1=sub()"
   ]
  },
  {
   "cell_type": "code",
   "execution_count": 26,
   "id": "535130f0",
   "metadata": {},
   "outputs": [
    {
     "data": {
      "text/plain": [
       "10"
      ]
     },
     "execution_count": 26,
     "metadata": {},
     "output_type": "execute_result"
    }
   ],
   "source": [
    "sub1"
   ]
  },
  {
   "cell_type": "code",
   "execution_count": 27,
   "id": "89513251",
   "metadata": {},
   "outputs": [],
   "source": [
    "#return always at last line of the function\n",
    "# Not in middile lines\n",
    "#Sir in real time projects, do we use return or global more sir?\n",
    "#return"
   ]
  },
  {
   "cell_type": "code",
   "execution_count": 28,
   "id": "a6713adb",
   "metadata": {},
   "outputs": [],
   "source": [
    "def sub():\n",
    "    a=10\n",
    "    b=20\n",
    "    sub1=b-a\n",
    "    return(a,b,sub1)\n",
    "out=sub()"
   ]
  },
  {
   "cell_type": "code",
   "execution_count": 29,
   "id": "ef1581b6",
   "metadata": {},
   "outputs": [
    {
     "data": {
      "text/plain": [
       "(10, 20, 10)"
      ]
     },
     "execution_count": 29,
     "metadata": {},
     "output_type": "execute_result"
    }
   ],
   "source": [
    "out"
   ]
  },
  {
   "cell_type": "markdown",
   "id": "2817760c",
   "metadata": {},
   "source": [
    "- with out arguments\n",
    "- with arguments\n",
    "- default arguments\n",
    "- local vs global\n",
    "- global keywords\n",
    "- return\n",
    "- function in function\n",
    "- *kwargs: keyword arguments"
   ]
  },
  {
   "cell_type": "markdown",
   "id": "bb152974",
   "metadata": {},
   "source": [
    "****unbound local error*****"
   ]
  },
  {
   "cell_type": "code",
   "execution_count": 1,
   "id": "dfb4a96a",
   "metadata": {},
   "outputs": [
    {
     "name": "stdout",
     "output_type": "stream",
     "text": [
      "100\n"
     ]
    }
   ],
   "source": [
    "num=10\n",
    "def fun1():\n",
    "    num1=100\n",
    "    print(num1)\n",
    "fun1()\n",
    "    "
   ]
  },
  {
   "cell_type": "code",
   "execution_count": 3,
   "id": "14573f6f",
   "metadata": {},
   "outputs": [
    {
     "ename": "UnboundLocalError",
     "evalue": "local variable 'num2' referenced before assignment",
     "output_type": "error",
     "traceback": [
      "\u001b[1;31m---------------------------------------------------------------------------\u001b[0m",
      "\u001b[1;31mUnboundLocalError\u001b[0m                         Traceback (most recent call last)",
      "\u001b[1;32m~\\AppData\\Local\\Temp\\ipykernel_14060\\930571526.py\u001b[0m in \u001b[0;36m<module>\u001b[1;34m\u001b[0m\n\u001b[0;32m      3\u001b[0m     \u001b[0mprint\u001b[0m\u001b[1;33m(\u001b[0m\u001b[0mnum2\u001b[0m\u001b[1;33m)\u001b[0m\u001b[1;33m\u001b[0m\u001b[1;33m\u001b[0m\u001b[0m\n\u001b[0;32m      4\u001b[0m     \u001b[0mnum2\u001b[0m\u001b[1;33m=\u001b[0m\u001b[1;36m200\u001b[0m\u001b[1;33m\u001b[0m\u001b[1;33m\u001b[0m\u001b[0m\n\u001b[1;32m----> 5\u001b[1;33m \u001b[0mfun2\u001b[0m\u001b[1;33m(\u001b[0m\u001b[1;33m)\u001b[0m\u001b[1;33m\u001b[0m\u001b[1;33m\u001b[0m\u001b[0m\n\u001b[0m",
      "\u001b[1;32m~\\AppData\\Local\\Temp\\ipykernel_14060\\930571526.py\u001b[0m in \u001b[0;36mfun2\u001b[1;34m()\u001b[0m\n\u001b[0;32m      1\u001b[0m \u001b[0mnum2\u001b[0m\u001b[1;33m=\u001b[0m\u001b[1;36m10\u001b[0m\u001b[1;33m\u001b[0m\u001b[1;33m\u001b[0m\u001b[0m\n\u001b[0;32m      2\u001b[0m \u001b[1;32mdef\u001b[0m \u001b[0mfun2\u001b[0m\u001b[1;33m(\u001b[0m\u001b[1;33m)\u001b[0m\u001b[1;33m:\u001b[0m\u001b[1;33m\u001b[0m\u001b[1;33m\u001b[0m\u001b[0m\n\u001b[1;32m----> 3\u001b[1;33m     \u001b[0mprint\u001b[0m\u001b[1;33m(\u001b[0m\u001b[0mnum2\u001b[0m\u001b[1;33m)\u001b[0m\u001b[1;33m\u001b[0m\u001b[1;33m\u001b[0m\u001b[0m\n\u001b[0m\u001b[0;32m      4\u001b[0m     \u001b[0mnum2\u001b[0m\u001b[1;33m=\u001b[0m\u001b[1;36m200\u001b[0m\u001b[1;33m\u001b[0m\u001b[1;33m\u001b[0m\u001b[0m\n\u001b[0;32m      5\u001b[0m \u001b[0mfun2\u001b[0m\u001b[1;33m(\u001b[0m\u001b[1;33m)\u001b[0m\u001b[1;33m\u001b[0m\u001b[1;33m\u001b[0m\u001b[0m\n",
      "\u001b[1;31mUnboundLocalError\u001b[0m: local variable 'num2' referenced before assignment"
     ]
    }
   ],
   "source": [
    "num2=10\n",
    "def fun2():\n",
    "    print(num2)\n",
    "    num2=200\n",
    "fun2()"
   ]
  },
  {
   "cell_type": "code",
   "execution_count": 5,
   "id": "7f0263a8",
   "metadata": {},
   "outputs": [
    {
     "ename": "UnboundLocalError",
     "evalue": "local variable 'num' referenced before assignment",
     "output_type": "error",
     "traceback": [
      "\u001b[1;31m---------------------------------------------------------------------------\u001b[0m",
      "\u001b[1;31mUnboundLocalError\u001b[0m                         Traceback (most recent call last)",
      "\u001b[1;32m~\\AppData\\Local\\Temp\\ipykernel_14060\\386474233.py\u001b[0m in \u001b[0;36m<module>\u001b[1;34m\u001b[0m\n\u001b[0;32m      3\u001b[0m     \u001b[0mprint\u001b[0m\u001b[1;33m(\u001b[0m\u001b[0mnum\u001b[0m\u001b[1;33m)\u001b[0m\u001b[1;33m\u001b[0m\u001b[1;33m\u001b[0m\u001b[0m\n\u001b[0;32m      4\u001b[0m     \u001b[0mnum\u001b[0m\u001b[1;33m=\u001b[0m\u001b[1;36m100\u001b[0m\u001b[1;33m\u001b[0m\u001b[1;33m\u001b[0m\u001b[0m\n\u001b[1;32m----> 5\u001b[1;33m \u001b[0mfun3\u001b[0m\u001b[1;33m(\u001b[0m\u001b[1;33m)\u001b[0m\u001b[1;33m\u001b[0m\u001b[1;33m\u001b[0m\u001b[0m\n\u001b[0m",
      "\u001b[1;32m~\\AppData\\Local\\Temp\\ipykernel_14060\\386474233.py\u001b[0m in \u001b[0;36mfun3\u001b[1;34m()\u001b[0m\n\u001b[0;32m      1\u001b[0m \u001b[0mnum\u001b[0m\u001b[1;33m=\u001b[0m\u001b[1;36m10\u001b[0m\u001b[1;33m\u001b[0m\u001b[1;33m\u001b[0m\u001b[0m\n\u001b[0;32m      2\u001b[0m \u001b[1;32mdef\u001b[0m \u001b[0mfun3\u001b[0m\u001b[1;33m(\u001b[0m\u001b[1;33m)\u001b[0m\u001b[1;33m:\u001b[0m\u001b[1;33m\u001b[0m\u001b[1;33m\u001b[0m\u001b[0m\n\u001b[1;32m----> 3\u001b[1;33m     \u001b[0mprint\u001b[0m\u001b[1;33m(\u001b[0m\u001b[0mnum\u001b[0m\u001b[1;33m)\u001b[0m\u001b[1;33m\u001b[0m\u001b[1;33m\u001b[0m\u001b[0m\n\u001b[0m\u001b[0;32m      4\u001b[0m     \u001b[0mnum\u001b[0m\u001b[1;33m=\u001b[0m\u001b[1;36m100\u001b[0m\u001b[1;33m\u001b[0m\u001b[1;33m\u001b[0m\u001b[0m\n\u001b[0;32m      5\u001b[0m \u001b[0mfun3\u001b[0m\u001b[1;33m(\u001b[0m\u001b[1;33m)\u001b[0m\u001b[1;33m\u001b[0m\u001b[1;33m\u001b[0m\u001b[0m\n",
      "\u001b[1;31mUnboundLocalError\u001b[0m: local variable 'num' referenced before assignment"
     ]
    }
   ],
   "source": [
    "num=10\n",
    "def fun3():\n",
    "    print(num)\n",
    "    num=100\n",
    "fun3()\n",
    "#name arror will come\n",
    "#Local variable and gloabal variables bothe names are same\n",
    "#try to access local variable before assign"
   ]
  },
  {
   "cell_type": "code",
   "execution_count": 8,
   "id": "b7993352",
   "metadata": {},
   "outputs": [
    {
     "ename": "SyntaxError",
     "evalue": "invalid syntax (1490978961.py, line 10)",
     "output_type": "error",
     "traceback": [
      "\u001b[1;36m  File \u001b[1;32m\"C:\\Users\\My world\\AppData\\Local\\Temp\\ipykernel_14060\\1490978961.py\"\u001b[1;36m, line \u001b[1;32m10\u001b[0m\n\u001b[1;33m    ============================================================\u001b[0m\n\u001b[1;37m    ^\u001b[0m\n\u001b[1;31mSyntaxError\u001b[0m\u001b[1;31m:\u001b[0m invalid syntax\n"
     ]
    }
   ],
   "source": [
    "a1=100                      \n",
    "b1=200\n",
    "def funt():                             \n",
    "    add1=a1+b1\n",
    "    a1=50                  # error\n",
    "    b1=30\n",
    "    \n",
    "    print(add1)             \n",
    "funt()\n",
    " # local variables are initialized  as input  \n",
    "# which shows  lv assigned after making operation\n",
    "============================================================\n",
    "a1=100\n",
    "b1=200                           # answer\n",
    "def funt():\n",
    "    \n",
    "    a1=50\n",
    "    b1=30\n",
    "    add1=a1+b1\n",
    "    print(add1)\n",
    "funt()\n",
    "# local variables are initialized  as input  \n",
    "# which shows  lv assigned before making operation\n",
    "====================================\n",
    "a1=100                      \n",
    "b1=200\n",
    "def funt():                             \n",
    "    add1=a1+b1               # answer\n",
    "    \n",
    "    print(add1)             \n",
    "funt()\n",
    "# here no lv will be assigned"
   ]
  },
  {
   "cell_type": "markdown",
   "id": "4bf3bd9c",
   "metadata": {},
   "source": [
    "- global variable\n",
    "- define the function\n",
    "- call the function\n",
    "- run the function"
   ]
  },
  {
   "cell_type": "markdown",
   "id": "448dc033",
   "metadata": {},
   "source": [
    "***Functions in Functions***"
   ]
  },
  {
   "cell_type": "code",
   "execution_count": 9,
   "id": "dfd44937",
   "metadata": {},
   "outputs": [
    {
     "name": "stdout",
     "output_type": "stream",
     "text": [
      "hello good morning\n",
      "good night\n"
     ]
    }
   ],
   "source": [
    "def greet1():\n",
    "    print(\"hello good morning\")\n",
    "def greet2():\n",
    "    print(\"good night\")\n",
    "greet1()\n",
    "greet2()"
   ]
  },
  {
   "cell_type": "code",
   "execution_count": 10,
   "id": "58c238a8",
   "metadata": {},
   "outputs": [
    {
     "name": "stdout",
     "output_type": "stream",
     "text": [
      "hello good morning\n",
      "good night\n"
     ]
    }
   ],
   "source": [
    "def greet2():\n",
    "    print(\"good night\")\n",
    "def greet1():\n",
    "    print(\"hello good morning\")\n",
    "    greet2()\n",
    "\n",
    "greet1()\n"
   ]
  },
  {
   "cell_type": "code",
   "execution_count": null,
   "id": "76439382",
   "metadata": {},
   "outputs": [],
   "source": [
    "def greet2():\n",
    "    print(\"good night\")\n",
    "    greet1()\n",
    "def greet1():\n",
    "    print(\"hello good morning\")\n",
    "    greet2()\n",
    "\n",
    "greet1()\n"
   ]
  },
  {
   "cell_type": "code",
   "execution_count": 1,
   "id": "f99c3a07",
   "metadata": {},
   "outputs": [
    {
     "name": "stdout",
     "output_type": "stream",
     "text": [
      "enter the distance: 40\n",
      "enter the distance: 25\n",
      "your free charge is applicable for this upto 25 kms\n",
      "enter the charge: 3\n",
      "45\n"
     ]
    }
   ],
   "source": [
    "def distance():\n",
    "    kms=eval(input(\"enter the distance: \"))\n",
    "    cutoff=eval(input(\"enter the distance: \"))\n",
    "    if(kms>cutoff):\n",
    "        print(\"your free charge is applicable for this upto 25 kms\")\n",
    "        charge=eval(input(\"enter the charge: \"))\n",
    "        chargabledistance= kms-cutoff\n",
    "        print(chargabledistance*charge)\n",
    "    else:\n",
    "        print(\"you are eligible for free ride\")\n",
    "distance()"
   ]
  },
  {
   "cell_type": "code",
   "execution_count": 2,
   "id": "57bb8f76",
   "metadata": {},
   "outputs": [
    {
     "name": "stdout",
     "output_type": "stream",
     "text": [
      "your free charge is applicable for this upto 25 kms\n",
      "105\n"
     ]
    }
   ],
   "source": [
    "def distance(kms,cutoff,charge):\n",
    "    \n",
    "    if(kms>cutoff):\n",
    "        print(\"your free charge is applicable for this upto 25 kms\")\n",
    "        \n",
    "        chargabledistance= kms-cutoff\n",
    "        print(chargabledistance*charge)\n",
    "    else:\n",
    "        print(\"you are eligible for free ride\")\n",
    "distance(60,25,3)"
   ]
  },
  {
   "cell_type": "code",
   "execution_count": 3,
   "id": "31f3cc93",
   "metadata": {},
   "outputs": [
    {
     "name": "stdout",
     "output_type": "stream",
     "text": [
      "your free charge is applicable for this upto 25 kms\n",
      "105\n"
     ]
    }
   ],
   "source": [
    "def distance(kms,cutoff=25,charge=3):\n",
    "    \n",
    "    if(kms>cutoff):\n",
    "        print(\"your free charge is applicable for this upto 25 kms\")\n",
    "        \n",
    "        chargabledistance= kms-cutoff\n",
    "        print(chargabledistance*charge)\n",
    "    else:\n",
    "        print(\"you are eligible for free ride\")\n",
    "distance(60)"
   ]
  },
  {
   "cell_type": "code",
   "execution_count": 4,
   "id": "df74b6e5",
   "metadata": {},
   "outputs": [
    {
     "name": "stdout",
     "output_type": "stream",
     "text": [
      "enter the distance: 40\n",
      "enter the distance: 25\n",
      "your free charge is applicable for this upto 25 kms\n",
      "45\n"
     ]
    }
   ],
   "source": [
    "charge=3\n",
    "def distance():\n",
    "    kms=eval(input(\"enter the distance: \"))\n",
    "    cutoff=eval(input(\"enter the distance: \"))\n",
    "    if(kms>cutoff):\n",
    "        print(\"your free charge is applicable for this upto 25 kms\")\n",
    "        \n",
    "        chargabledistance= kms-cutoff\n",
    "        print(chargabledistance*charge)\n",
    "    else:\n",
    "        print(\"you are eligible for free ride\")\n",
    "distance()"
   ]
  },
  {
   "cell_type": "code",
   "execution_count": 6,
   "id": "2c488df8",
   "metadata": {},
   "outputs": [
    {
     "name": "stdout",
     "output_type": "stream",
     "text": [
      "enter the distance: 40\n",
      "enter the distance: 25\n",
      "your free charge is applicable for this upto 25 kms\n",
      "enter charge: 3\n",
      "45\n"
     ]
    }
   ],
   "source": [
    "kms=eval(input(\"enter the distance: \"))\n",
    "cutoff=eval(input(\"enter the distance: \"))\n",
    "def distance():\n",
    "   \n",
    "    if(kms>cutoff):\n",
    "        print(\"your free charge is applicable for this upto 25 kms\")\n",
    "        charge=eval(input(\"enter charge: \"))\n",
    "        chargabledistance= kms-cutoff\n",
    "        print(chargabledistance*charge)\n",
    "    else:\n",
    "        print(\"you are eligible for free ride\")\n",
    "distance()"
   ]
  },
  {
   "cell_type": "code",
   "execution_count": 8,
   "id": "453d1d02",
   "metadata": {},
   "outputs": [
    {
     "name": "stdout",
     "output_type": "stream",
     "text": [
      "enter the distance: 40\n",
      "enter the distance: 25\n",
      "your free charge is applicable for this upto 25 kms\n",
      "enter the charge: 3\n"
     ]
    },
    {
     "data": {
      "text/plain": [
       "45"
      ]
     },
     "execution_count": 8,
     "metadata": {},
     "output_type": "execute_result"
    }
   ],
   "source": [
    "def distance():\n",
    "    kms=eval(input(\"enter the distance: \"))\n",
    "    cutoff=eval(input(\"enter the distance: \"))\n",
    "    if(kms>cutoff):\n",
    "        print(\"your free charge is applicable for this upto 25 kms\")\n",
    "        charge=eval(input(\"enter the charge: \"))\n",
    "        chargabledistance= kms-cutoff\n",
    "        fare=chargabledistance* charge\n",
    "        return fare\n",
    "    else:\n",
    "        return \"free ride\"\n",
    "distance()"
   ]
  },
  {
   "cell_type": "code",
   "execution_count": 9,
   "id": "07496e1c",
   "metadata": {},
   "outputs": [
    {
     "name": "stdout",
     "output_type": "stream",
     "text": [
      "enter the distance: 40\n",
      "enter the distance: 25\n",
      "your free charge is applicable for this upto 25 kms\n",
      "enter the charge: 3\n",
      "45\n"
     ]
    },
    {
     "ename": "UnboundLocalError",
     "evalue": "local variable 'cost' referenced before assignment",
     "output_type": "error",
     "traceback": [
      "\u001b[1;31m---------------------------------------------------------------------------\u001b[0m",
      "\u001b[1;31mUnboundLocalError\u001b[0m                         Traceback (most recent call last)",
      "\u001b[1;32m~\\AppData\\Local\\Temp\\ipykernel_12956\\2086909132.py\u001b[0m in \u001b[0;36m<module>\u001b[1;34m\u001b[0m\n\u001b[0;32m     10\u001b[0m         \u001b[0mcost\u001b[0m\u001b[1;33m=\u001b[0m\u001b[1;36m100\u001b[0m\u001b[1;33m\u001b[0m\u001b[1;33m\u001b[0m\u001b[0m\n\u001b[0;32m     11\u001b[0m     \u001b[1;32mreturn\u001b[0m\u001b[1;33m(\u001b[0m\u001b[0mcost\u001b[0m\u001b[1;33m)\u001b[0m\u001b[1;33m\u001b[0m\u001b[1;33m\u001b[0m\u001b[0m\n\u001b[1;32m---> 12\u001b[1;33m \u001b[0mdistance\u001b[0m\u001b[1;33m(\u001b[0m\u001b[1;33m)\u001b[0m\u001b[1;33m\u001b[0m\u001b[1;33m\u001b[0m\u001b[0m\n\u001b[0m",
      "\u001b[1;32m~\\AppData\\Local\\Temp\\ipykernel_12956\\2086909132.py\u001b[0m in \u001b[0;36mdistance\u001b[1;34m()\u001b[0m\n\u001b[0;32m      9\u001b[0m     \u001b[1;32melse\u001b[0m\u001b[1;33m:\u001b[0m\u001b[1;33m\u001b[0m\u001b[1;33m\u001b[0m\u001b[0m\n\u001b[0;32m     10\u001b[0m         \u001b[0mcost\u001b[0m\u001b[1;33m=\u001b[0m\u001b[1;36m100\u001b[0m\u001b[1;33m\u001b[0m\u001b[1;33m\u001b[0m\u001b[0m\n\u001b[1;32m---> 11\u001b[1;33m     \u001b[1;32mreturn\u001b[0m\u001b[1;33m(\u001b[0m\u001b[0mcost\u001b[0m\u001b[1;33m)\u001b[0m\u001b[1;33m\u001b[0m\u001b[1;33m\u001b[0m\u001b[0m\n\u001b[0m\u001b[0;32m     12\u001b[0m \u001b[0mdistance\u001b[0m\u001b[1;33m(\u001b[0m\u001b[1;33m)\u001b[0m\u001b[1;33m\u001b[0m\u001b[1;33m\u001b[0m\u001b[0m\n",
      "\u001b[1;31mUnboundLocalError\u001b[0m: local variable 'cost' referenced before assignment"
     ]
    }
   ],
   "source": [
    "def distance():\n",
    "    kms=eval(input(\"enter the distance: \"))\n",
    "    cutoff=eval(input(\"enter the distance: \"))\n",
    "    if(kms>cutoff):\n",
    "        print(\"your free charge is applicable for this upto 25 kms\")\n",
    "        charge=eval(input(\"enter the charge: \"))\n",
    "        chargabledistance= kms-cutoff\n",
    "        print(chargabledistance*charge)\n",
    "    else:\n",
    "        cost=100\n",
    "    return(cost)\n",
    "distance()"
   ]
  },
  {
   "cell_type": "code",
   "execution_count": 10,
   "id": "ecb53fed",
   "metadata": {},
   "outputs": [],
   "source": [
    "#first create 4 individual functions \n",
    "#fun1 =add\n",
    "#fun2=sub\n",
    "#fun3= mul\n",
    "#fun4= div\n",
    "def add(a,b):\n",
    "    print(a+b)\n",
    "# create a min function name: calculator\n",
    "#inside main function\n",
    "#print some statements\n",
    "#option1= addition\n",
    "# option 2= sub\n",
    "# opt3= mul\n",
    "# opt4= div\n",
    "#option =eval(input('1-4'))\n",
    "# a value\n",
    "# b value\n",
    "# if option==1:\n",
    "# add fun\n",
    "#elif option==2:\n",
    "#  sub fun\n",
    "# elif option==3:\n",
    "#  mul fun\n",
    "#elif option==4:\n",
    "#  div fun\n",
    "#else:\n",
    "# no option availabl\n"
   ]
  },
  {
   "cell_type": "code",
   "execution_count": 17,
   "id": "be3ae123",
   "metadata": {},
   "outputs": [
    {
     "name": "stdout",
     "output_type": "stream",
     "text": [
      "enter option: 3\n",
      "enter a: 5\n",
      "enter b: 4\n",
      "20\n"
     ]
    }
   ],
   "source": [
    "def add():\n",
    "    a=eval(input(\"enter a: \"))\n",
    "    b= eval(input(\"enter b: \"))\n",
    "    c=a+b\n",
    "    print(c)\n",
    "def sub():\n",
    "    a=eval(input(\"enter a: \"))\n",
    "    b= eval(input(\"enter b: \"))\n",
    "    c=a-b\n",
    "    print(c)\n",
    "def mul():\n",
    "    a=eval(input(\"enter a: \"))\n",
    "    b= eval(input(\"enter b: \"))\n",
    "    c=a*b\n",
    "    print(c)\n",
    "def div():\n",
    "    a=eval(input(\"enter a: \"))\n",
    "    b= eval(input(\"enter b: \"))\n",
    "    c=a/b\n",
    "    print(c)\n",
    "\n",
    "def calculator():\n",
    "    option= eval(input(\"enter option: \"))\n",
    "    if option==1:\n",
    "        add()\n",
    "    elif option==2:\n",
    "        sub()\n",
    "    elif option==3:\n",
    "        mul()\n",
    "    elif option==4:\n",
    "        div()\n",
    "    else:\n",
    "        print(\"invalid option\")\n",
    "calculator()"
   ]
  },
  {
   "cell_type": "code",
   "execution_count": null,
   "id": "756c8b73",
   "metadata": {},
   "outputs": [],
   "source": []
  }
 ],
 "metadata": {
  "kernelspec": {
   "display_name": "Python 3 (ipykernel)",
   "language": "python",
   "name": "python3"
  },
  "language_info": {
   "codemirror_mode": {
    "name": "ipython",
    "version": 3
   },
   "file_extension": ".py",
   "mimetype": "text/x-python",
   "name": "python",
   "nbconvert_exporter": "python",
   "pygments_lexer": "ipython3",
   "version": "3.9.13"
  }
 },
 "nbformat": 4,
 "nbformat_minor": 5
}
