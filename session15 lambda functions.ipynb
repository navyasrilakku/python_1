{
 "cells": [
  {
   "cell_type": "markdown",
   "id": "cea2ae29",
   "metadata": {},
   "source": [
    "**Lambda**\n"
   ]
  },
  {
   "cell_type": "markdown",
   "id": "9e0658da",
   "metadata": {},
   "source": [
    "- lambda functions represents function concept \n",
    "- but we can write in a single line \n",
    "- like list comprehension, lambda functions also similar only\n",
    "- it will decrease the time complexity\n",
    "- always remember if we use many for loops or many conditions using multiple line, the time complexity will increase.\n"
   ]
  },
  {
   "cell_type": "markdown",
   "id": "97bda2ea",
   "metadata": {},
   "source": [
    "**It will use a keyword called lambda**\n",
    "#lambda <arguements>: <expression>"
   ]
  },
  {
   "cell_type": "code",
   "execution_count": 3,
   "id": "25002a57",
   "metadata": {},
   "outputs": [
    {
     "data": {
      "text/plain": [
       "20"
      ]
     },
     "execution_count": 3,
     "metadata": {},
     "output_type": "execute_result"
    }
   ],
   "source": [
    "def summ(n):\n",
    "    return(n+10)\n",
    "summ(10)\n",
    "#func name= summ\n",
    "#arg name = n\n",
    "#return output n+10"
   ]
  },
  {
   "cell_type": "markdown",
   "id": "6be7c9ea",
   "metadata": {},
   "source": [
    "$pattern-1$\n",
    "- function with only one arguement\n",
    "- function name\n",
    "- arguement name\n",
    "- return output"
   ]
  },
  {
   "cell_type": "code",
   "execution_count": null,
   "id": "bb2ac0ee",
   "metadata": {},
   "outputs": [],
   "source": [
    "# syntax\n",
    "# <function name>= lambda <argument name>: <return output>"
   ]
  },
  {
   "cell_type": "code",
   "execution_count": 9,
   "id": "a2ccf2df",
   "metadata": {},
   "outputs": [
    {
     "data": {
      "text/plain": [
       "113"
      ]
     },
     "execution_count": 9,
     "metadata": {},
     "output_type": "execute_result"
    }
   ],
   "source": [
    "summ= lambda n: n+103\n",
    "summ(10)"
   ]
  },
  {
   "cell_type": "code",
   "execution_count": 10,
   "id": "ff914dd8",
   "metadata": {},
   "outputs": [
    {
     "data": {
      "text/plain": [
       "1000"
      ]
     },
     "execution_count": 10,
     "metadata": {},
     "output_type": "execute_result"
    }
   ],
   "source": [
    "def cube(n):\n",
    "    return(n**3)\n",
    "cube(10)"
   ]
  },
  {
   "cell_type": "code",
   "execution_count": 11,
   "id": "a7263614",
   "metadata": {},
   "outputs": [
    {
     "data": {
      "text/plain": [
       "1000"
      ]
     },
     "execution_count": 11,
     "metadata": {},
     "output_type": "execute_result"
    }
   ],
   "source": [
    "cube= lambda n: n**3\n",
    "cube(10)"
   ]
  },
  {
   "cell_type": "markdown",
   "id": "42e8794e",
   "metadata": {},
   "source": [
    "$pattern-2$\n",
    "- two arguements in a function"
   ]
  },
  {
   "cell_type": "code",
   "execution_count": 13,
   "id": "882219f7",
   "metadata": {},
   "outputs": [
    {
     "data": {
      "text/plain": [
       "100"
      ]
     },
     "execution_count": 13,
     "metadata": {},
     "output_type": "execute_result"
    }
   ],
   "source": [
    "def sq(n,m):\n",
    "    return(n**m)\n",
    "sq(10,2)"
   ]
  },
  {
   "cell_type": "code",
   "execution_count": 14,
   "id": "3bd08294",
   "metadata": {},
   "outputs": [
    {
     "data": {
      "text/plain": [
       "100"
      ]
     },
     "execution_count": 14,
     "metadata": {},
     "output_type": "execute_result"
    }
   ],
   "source": [
    "sq= lambda n,m: n**m\n",
    "sq(10,2)"
   ]
  },
  {
   "cell_type": "code",
   "execution_count": 15,
   "id": "d8705b2d",
   "metadata": {},
   "outputs": [
    {
     "data": {
      "text/plain": [
       "100"
      ]
     },
     "execution_count": 15,
     "metadata": {},
     "output_type": "execute_result"
    }
   ],
   "source": [
    "def add(a,b):\n",
    "    return a+b\n",
    "add(50,50)"
   ]
  },
  {
   "cell_type": "code",
   "execution_count": 17,
   "id": "1fcc9772",
   "metadata": {},
   "outputs": [
    {
     "data": {
      "text/plain": [
       "110"
      ]
     },
     "execution_count": 17,
     "metadata": {},
     "output_type": "execute_result"
    }
   ],
   "source": [
    "add=lambda a,b:a+b\n",
    "add(50,60)"
   ]
  },
  {
   "cell_type": "code",
   "execution_count": 18,
   "id": "d3145f00",
   "metadata": {},
   "outputs": [
    {
     "data": {
      "text/plain": [
       "15.0"
      ]
     },
     "execution_count": 18,
     "metadata": {},
     "output_type": "execute_result"
    }
   ],
   "source": [
    "def avg(a,b):\n",
    "    return (a+b)/2\n",
    "avg(10,20)"
   ]
  },
  {
   "cell_type": "code",
   "execution_count": 26,
   "id": "f8575ff3",
   "metadata": {},
   "outputs": [
    {
     "data": {
      "text/plain": [
       "203.33"
      ]
     },
     "execution_count": 26,
     "metadata": {},
     "output_type": "execute_result"
    }
   ],
   "source": [
    "avg= lambda a,b,c:round((a+b+c)/3,2)\n",
    "avg(100,202,308)"
   ]
  },
  {
   "cell_type": "markdown",
   "id": "60922d58",
   "metadata": {},
   "source": [
    "$pattern-3$\n",
    "- default arguements"
   ]
  },
  {
   "cell_type": "code",
   "execution_count": 27,
   "id": "e6dc713f",
   "metadata": {},
   "outputs": [
    {
     "data": {
      "text/plain": [
       "30"
      ]
     },
     "execution_count": 27,
     "metadata": {},
     "output_type": "execute_result"
    }
   ],
   "source": [
    "add=lambda a=10,b=20:a+b\n",
    "add()"
   ]
  },
  {
   "cell_type": "code",
   "execution_count": 28,
   "id": "11fb2817",
   "metadata": {},
   "outputs": [
    {
     "data": {
      "text/plain": [
       "200.67"
      ]
     },
     "execution_count": 28,
     "metadata": {},
     "output_type": "execute_result"
    }
   ],
   "source": [
    "avg= lambda a,b,c=300:round((a+b+c)/3,2)\n",
    "avg(100,202)"
   ]
  },
  {
   "cell_type": "markdown",
   "id": "d7e2901b",
   "metadata": {},
   "source": [
    "$pattern-4$\n",
    "- if- else"
   ]
  },
  {
   "cell_type": "code",
   "execution_count": null,
   "id": "467c3cc0",
   "metadata": {},
   "outputs": [],
   "source": [
    "# syntax:function name = lambda arguements: <ifoutput if if condition else elseoutput>\n",
    "# syntax:function name = lambda arguements: <list comprehension>"
   ]
  },
  {
   "cell_type": "code",
   "execution_count": 30,
   "id": "86f27aaa",
   "metadata": {},
   "outputs": [
    {
     "data": {
      "text/plain": [
       "20"
      ]
     },
     "execution_count": 30,
     "metadata": {},
     "output_type": "execute_result"
    }
   ],
   "source": [
    "def maxy(a,b):\n",
    "    if a>b:\n",
    "        return a\n",
    "    else:\n",
    "        return b\n",
    "maxy(10,20)"
   ]
  },
  {
   "cell_type": "code",
   "execution_count": 31,
   "id": "e851cea1",
   "metadata": {},
   "outputs": [
    {
     "data": {
      "text/plain": [
       "20"
      ]
     },
     "execution_count": 31,
     "metadata": {},
     "output_type": "execute_result"
    }
   ],
   "source": [
    "maxy=lambda a,b: a if a>b else b\n",
    "maxy(10,20)"
   ]
  },
  {
   "cell_type": "markdown",
   "id": "05ae09b8",
   "metadata": {},
   "source": [
    "$pattern-5$\n",
    "- using list operations"
   ]
  },
  {
   "cell_type": "code",
   "execution_count": 32,
   "id": "0b9cdb4a",
   "metadata": {},
   "outputs": [
    {
     "data": {
      "text/plain": [
       "['Hyd', 'Chennai', 'Mumbai']"
      ]
     },
     "execution_count": 32,
     "metadata": {},
     "output_type": "execute_result"
    }
   ],
   "source": [
    "l=['hyd','chennai','mumbai']\n",
    "op=[]\n",
    "for i in l:\n",
    "    op.append(i.capitalize())\n",
    "op"
   ]
  },
  {
   "cell_type": "code",
   "execution_count": null,
   "id": "920b58ac",
   "metadata": {},
   "outputs": [],
   "source": [
    "lambda <variable>:<op>\n",
    "#variable:i\n",
    "#op: i.capitalize()\n",
    "lambda <variable>:<op>,<iterator>\n",
    "#<iterator>:list"
   ]
  },
  {
   "cell_type": "code",
   "execution_count": 37,
   "id": "c74664b3",
   "metadata": {},
   "outputs": [
    {
     "data": {
      "text/plain": [
       "(<function __main__.<lambda>(i)>, ['hyd', 'chennai', 'mumbai'])"
      ]
     },
     "execution_count": 37,
     "metadata": {},
     "output_type": "execute_result"
    }
   ],
   "source": [
    "l=['hyd','chennai','mumbai']\n",
    "lambda i:i.capitalize(),l\n",
    "\n"
   ]
  },
  {
   "cell_type": "markdown",
   "id": "ad2830be",
   "metadata": {},
   "source": [
    "**map**\n",
    "- the function and iterator are available now\n",
    "- we need to map both"
   ]
  },
  {
   "cell_type": "code",
   "execution_count": 38,
   "id": "a3f25cd4",
   "metadata": {},
   "outputs": [
    {
     "data": {
      "text/plain": [
       "<map at 0x2b4577aa700>"
      ]
     },
     "execution_count": 38,
     "metadata": {},
     "output_type": "execute_result"
    }
   ],
   "source": [
    "l=['hyd','chennai','mumbai']\n",
    "map(lambda i:i.capitalize(),l)"
   ]
  },
  {
   "cell_type": "code",
   "execution_count": null,
   "id": "50b72704",
   "metadata": {},
   "outputs": [],
   "source": [
    "#apply the list to see the values"
   ]
  },
  {
   "cell_type": "code",
   "execution_count": 39,
   "id": "6b232544",
   "metadata": {},
   "outputs": [
    {
     "data": {
      "text/plain": [
       "['Hyd', 'Chennai', 'Mumbai']"
      ]
     },
     "execution_count": 39,
     "metadata": {},
     "output_type": "execute_result"
    }
   ],
   "source": [
    "l=['hyd','chennai','mumbai']\n",
    "list(map(lambda i:i.capitalize(),l))"
   ]
  },
  {
   "cell_type": "code",
   "execution_count": 40,
   "id": "289fafe2",
   "metadata": {},
   "outputs": [
    {
     "data": {
      "text/plain": [
       "('Hyd', 'Chennai', 'Mumbai')"
      ]
     },
     "execution_count": 40,
     "metadata": {},
     "output_type": "execute_result"
    }
   ],
   "source": [
    "l=['hyd','chennai','mumbai']\n",
    "tuple(map(lambda i:i.capitalize(),l))"
   ]
  },
  {
   "cell_type": "markdown",
   "id": "7977525e",
   "metadata": {},
   "source": [
    "- step1: write your normal expression \n",
    "-       ex: lambda <variable>: <op>===>lambda i: i.capitalize()\n",
    "- step2: add the iterator\n",
    "-       ex: lambda <variable>: <op>,<list>===>lambda i: i.capitalize(),list1\n",
    "- step3: map the both\n",
    "-       ex: map(lambda <variable>: <op>,<list>)===>map(lambda i: i.capitalize(),list1)\n",
    "- step4: save the values in a list\n",
    "-       ex: list(map(lambda <variable>: <op>,<list>))===>list(map(lambda i: i.capitalize(),list1))\n",
    "#note: those who are getting list objct not callable use tuple"
   ]
  },
  {
   "cell_type": "markdown",
   "id": "ef9e6651",
   "metadata": {},
   "source": [
    "- case1:- function call with one arguement\n",
    "    - lambda arguements: Expression\n",
    "    - lambda variables: return output\n",
    "- case2:- function call with two arguements\n",
    "    - lambda arg1,arg2:expression\n",
    "    - lambda var1,var2: return output\n",
    "- case3:- function call with default arguements\n",
    "    - lambda arg1,arg2=500: Expression\n",
    "    - lambda var1,var2=500: return output\n",
    "- case4:- function call with 2 arguements and if- else statement\n",
    "    - lambda arg1,arg2:Expression\n",
    "    - lambda var1, var2: if_output if_con else els_op for loop\n",
    "- case5:- lambda operation using list\n",
    "    - lambda arg: expression, iterator\n",
    "    - map(lambda var: operation, list)  \n",
    "    - list(map(lambda var: operation, list))"
   ]
  },
  {
   "cell_type": "code",
   "execution_count": 3,
   "id": "1cfd6249",
   "metadata": {},
   "outputs": [
    {
     "data": {
      "text/plain": [
       "(<function __main__.<lambda>(i)>, ['hyd', 'chennai', 'mumbai'])"
      ]
     },
     "execution_count": 3,
     "metadata": {},
     "output_type": "execute_result"
    }
   ],
   "source": [
    "l=['hyd','chennai','mumbai']\n",
    "lambda i: i.upper(),l"
   ]
  },
  {
   "cell_type": "code",
   "execution_count": 4,
   "id": "ce01dbd4",
   "metadata": {},
   "outputs": [
    {
     "data": {
      "text/plain": [
       "<map at 0x25a6106b6a0>"
      ]
     },
     "execution_count": 4,
     "metadata": {},
     "output_type": "execute_result"
    }
   ],
   "source": [
    "map(lambda i: i.upper(),l)"
   ]
  },
  {
   "cell_type": "code",
   "execution_count": 5,
   "id": "b0eebdc6",
   "metadata": {},
   "outputs": [
    {
     "data": {
      "text/plain": [
       "['HYD', 'CHENNAI', 'MUMBAI']"
      ]
     },
     "execution_count": 5,
     "metadata": {},
     "output_type": "execute_result"
    }
   ],
   "source": [
    "list(map(lambda i: i.upper(),l))"
   ]
  },
  {
   "cell_type": "code",
   "execution_count": 6,
   "id": "17d2d30c",
   "metadata": {},
   "outputs": [
    {
     "data": {
      "text/plain": [
       "('HYD', 'CHENNAI', 'MUMBAI')"
      ]
     },
     "execution_count": 6,
     "metadata": {},
     "output_type": "execute_result"
    }
   ],
   "source": [
    "tuple(map(lambda i: i.upper(),l))"
   ]
  },
  {
   "cell_type": "code",
   "execution_count": 7,
   "id": "a5703a17",
   "metadata": {},
   "outputs": [
    {
     "ename": "SyntaxError",
     "evalue": "invalid syntax (1195214711.py, line 2)",
     "output_type": "error",
     "traceback": [
      "\u001b[1;36m  File \u001b[1;32m\"C:\\Users\\My world\\AppData\\Local\\Temp\\ipykernel_1160\\1195214711.py\"\u001b[1;36m, line \u001b[1;32m2\u001b[0m\n\u001b[1;33m    lambda i:i if '#' in i ,for i in ls\u001b[0m\n\u001b[1;37m                           ^\u001b[0m\n\u001b[1;31mSyntaxError\u001b[0m\u001b[1;31m:\u001b[0m invalid syntax\n"
     ]
    }
   ],
   "source": [
    "ls=['hyd','che#nnai','mum#bai','blr']\n",
    "lambda i:i if '#' in i ,for i in ls\n",
    "# not use if and for like this"
   ]
  },
  {
   "cell_type": "code",
   "execution_count": 13,
   "id": "f32727e6",
   "metadata": {},
   "outputs": [
    {
     "data": {
      "text/plain": [
       "['che#nnai', 'mum#bai']"
      ]
     },
     "execution_count": 13,
     "metadata": {},
     "output_type": "execute_result"
    }
   ],
   "source": [
    "ls=['hyd','che#nnai','mum#bai','blr']\n",
    "list(filter(lambda i:'#' in i ,ls))\n",
    "#use if and for like this \n",
    "#if any itrations are occur use filter instead of map"
   ]
  },
  {
   "cell_type": "code",
   "execution_count": 14,
   "id": "a30d6174",
   "metadata": {},
   "outputs": [
    {
     "data": {
      "text/plain": [
       "[False, True, True, False]"
      ]
     },
     "execution_count": 14,
     "metadata": {},
     "output_type": "execute_result"
    }
   ],
   "source": [
    "#if we use map we got the output like this\n",
    "ls=['hyd','che#nnai','mum#bai','blr']\n",
    "list(map(lambda i:'#' in i ,ls))"
   ]
  },
  {
   "cell_type": "markdown",
   "id": "9cedb529",
   "metadata": {},
   "source": [
    "**Filter**"
   ]
  },
  {
   "cell_type": "code",
   "execution_count": 15,
   "id": "c9a7f7d8",
   "metadata": {},
   "outputs": [
    {
     "data": {
      "text/plain": [
       "[2, 6]"
      ]
     },
     "execution_count": 15,
     "metadata": {},
     "output_type": "execute_result"
    }
   ],
   "source": [
    "num=[1,3,2,7,6]\n",
    "list(filter(lambda i:i%2==0,num))"
   ]
  },
  {
   "cell_type": "code",
   "execution_count": 17,
   "id": "68abba1b",
   "metadata": {},
   "outputs": [
    {
     "data": {
      "text/plain": [
       "[2, 6]"
      ]
     },
     "execution_count": 17,
     "metadata": {},
     "output_type": "execute_result"
    }
   ],
   "source": [
    "num=[1,3,2,7,6]\n",
    "m=[]\n",
    "for i in num:\n",
    "    if i%2==0:\n",
    "        m.append(i)\n",
    "m"
   ]
  },
  {
   "cell_type": "markdown",
   "id": "68a4c0ba",
   "metadata": {},
   "source": [
    "**reduce**\n",
    "- all inbuilt functions can achieve by reduse\n",
    "- reduce is available from functools package\n",
    "- level-1 reduce(lambda summ:summ_i,l1)\n",
    "- level-2: filter(lambda summ: summ+i,l1,initial_value)\n",
    "- for example we want initialize summ=0 then we choose level-1\n",
    "- for example we want start with other than zero then we choose level-2"
   ]
  },
  {
   "cell_type": "code",
   "execution_count": 34,
   "id": "99d7f9fc",
   "metadata": {},
   "outputs": [
    {
     "ename": "TypeError",
     "evalue": "<lambda>() missing 1 required positional argument: 'i'",
     "output_type": "error",
     "traceback": [
      "\u001b[1;31m---------------------------------------------------------------------------\u001b[0m",
      "\u001b[1;31mTypeError\u001b[0m                                 Traceback (most recent call last)",
      "\u001b[1;32m~\\AppData\\Local\\Temp\\ipykernel_1160\\2126564644.py\u001b[0m in \u001b[0;36m<module>\u001b[1;34m\u001b[0m\n\u001b[0;32m      1\u001b[0m \u001b[0ml1\u001b[0m\u001b[1;33m=\u001b[0m\u001b[1;33m[\u001b[0m\u001b[1;36m1\u001b[0m\u001b[1;33m,\u001b[0m\u001b[1;36m2\u001b[0m\u001b[1;33m,\u001b[0m\u001b[1;36m3\u001b[0m\u001b[1;33m,\u001b[0m\u001b[1;36m4\u001b[0m\u001b[1;33m,\u001b[0m\u001b[1;36m5\u001b[0m\u001b[1;33m]\u001b[0m\u001b[1;33m\u001b[0m\u001b[1;33m\u001b[0m\u001b[0m\n\u001b[1;32m----> 2\u001b[1;33m \u001b[0mlist\u001b[0m\u001b[1;33m(\u001b[0m\u001b[0mfilter\u001b[0m\u001b[1;33m(\u001b[0m\u001b[1;32mlambda\u001b[0m \u001b[0msumm\u001b[0m\u001b[1;33m,\u001b[0m\u001b[0mi\u001b[0m\u001b[1;33m:\u001b[0m\u001b[0msumm\u001b[0m\u001b[1;33m+\u001b[0m\u001b[0mi\u001b[0m\u001b[1;33m,\u001b[0m\u001b[0ml1\u001b[0m\u001b[1;33m)\u001b[0m\u001b[1;33m)\u001b[0m\u001b[1;33m\u001b[0m\u001b[1;33m\u001b[0m\u001b[0m\n\u001b[0m",
      "\u001b[1;31mTypeError\u001b[0m: <lambda>() missing 1 required positional argument: 'i'"
     ]
    }
   ],
   "source": [
    "l1=[1,2,3,4,5]\n",
    "list(filter(lambda summ,i:summ+i,l1))"
   ]
  },
  {
   "cell_type": "code",
   "execution_count": 39,
   "id": "96bbd7d7",
   "metadata": {},
   "outputs": [
    {
     "data": {
      "text/plain": [
       "['GenericAlias',\n",
       " 'RLock',\n",
       " 'WRAPPER_ASSIGNMENTS',\n",
       " 'WRAPPER_UPDATES',\n",
       " '_CacheInfo',\n",
       " '_HashedSeq',\n",
       " '_NOT_FOUND',\n",
       " '__all__',\n",
       " '__builtins__',\n",
       " '__cached__',\n",
       " '__doc__',\n",
       " '__file__',\n",
       " '__loader__',\n",
       " '__name__',\n",
       " '__package__',\n",
       " '__spec__',\n",
       " '_c3_merge',\n",
       " '_c3_mro',\n",
       " '_compose_mro',\n",
       " '_convert',\n",
       " '_find_impl',\n",
       " '_ge_from_gt',\n",
       " '_ge_from_le',\n",
       " '_ge_from_lt',\n",
       " '_gt_from_ge',\n",
       " '_gt_from_le',\n",
       " '_gt_from_lt',\n",
       " '_initial_missing',\n",
       " '_le_from_ge',\n",
       " '_le_from_gt',\n",
       " '_le_from_lt',\n",
       " '_lru_cache_wrapper',\n",
       " '_lt_from_ge',\n",
       " '_lt_from_gt',\n",
       " '_lt_from_le',\n",
       " '_make_key',\n",
       " '_unwrap_partial',\n",
       " 'cache',\n",
       " 'cached_property',\n",
       " 'cmp_to_key',\n",
       " 'get_cache_token',\n",
       " 'lru_cache',\n",
       " 'namedtuple',\n",
       " 'partial',\n",
       " 'partialmethod',\n",
       " 'recursive_repr',\n",
       " 'reduce',\n",
       " 'singledispatch',\n",
       " 'singledispatchmethod',\n",
       " 'total_ordering',\n",
       " 'update_wrapper',\n",
       " 'wraps']"
      ]
     },
     "execution_count": 39,
     "metadata": {},
     "output_type": "execute_result"
    }
   ],
   "source": [
    "import functools\n",
    "dir(functools)"
   ]
  },
  {
   "cell_type": "code",
   "execution_count": 41,
   "id": "353edfcd",
   "metadata": {},
   "outputs": [
    {
     "data": {
      "text/plain": [
       "15"
      ]
     },
     "execution_count": 41,
     "metadata": {},
     "output_type": "execute_result"
    }
   ],
   "source": [
    "# case-1\n",
    "import functools\n",
    "l1=[1,2,3,4,5]\n",
    "functools.reduce(lambda summ,i:summ+i,l1)"
   ]
  },
  {
   "cell_type": "code",
   "execution_count": 42,
   "id": "11e4036b",
   "metadata": {},
   "outputs": [
    {
     "data": {
      "text/plain": [
       "15"
      ]
     },
     "execution_count": 42,
     "metadata": {},
     "output_type": "execute_result"
    }
   ],
   "source": [
    "#case-2\n",
    "from functools import reduce\n",
    "l1=[1,2,3,4,5]\n",
    "reduce(lambda summ,i:summ+i,l1)"
   ]
  },
  {
   "cell_type": "code",
   "execution_count": 43,
   "id": "a2999bab",
   "metadata": {},
   "outputs": [
    {
     "data": {
      "text/plain": [
       "15"
      ]
     },
     "execution_count": 43,
     "metadata": {},
     "output_type": "execute_result"
    }
   ],
   "source": [
    "#case-3\n",
    "import functools as ft\n",
    "l1=[1,2,3,4,5]\n",
    "ft.reduce(lambda summ,i:summ+i,l1)"
   ]
  },
  {
   "cell_type": "code",
   "execution_count": 45,
   "id": "a736b97d",
   "metadata": {},
   "outputs": [
    {
     "data": {
      "text/plain": [
       "15"
      ]
     },
     "execution_count": 45,
     "metadata": {},
     "output_type": "execute_result"
    }
   ],
   "source": [
    "import functools as ft\n",
    "ft.reduce(lambda summ,i:summ+i,[1,2,3,4,5])"
   ]
  },
  {
   "cell_type": "code",
   "execution_count": 51,
   "id": "40c5a474",
   "metadata": {},
   "outputs": [
    {
     "data": {
      "text/plain": [
       "14"
      ]
     },
     "execution_count": 51,
     "metadata": {},
     "output_type": "execute_result"
    }
   ],
   "source": [
    "from functools import reduce\n",
    "l1=[1,2,3,4,5]\n",
    "reduce(lambda summ,i:summ+i,l1[1:])"
   ]
  },
  {
   "cell_type": "code",
   "execution_count": 52,
   "id": "825bb69e",
   "metadata": {},
   "outputs": [
    {
     "data": {
      "text/plain": [
       "18"
      ]
     },
     "execution_count": 52,
     "metadata": {},
     "output_type": "execute_result"
    }
   ],
   "source": [
    "from functools import reduce\n",
    "l1=[1,2,3,4,5]\n",
    "reduce(lambda summ,i:summ+i,l1,3)"
   ]
  },
  {
   "cell_type": "code",
   "execution_count": 7,
   "id": "a4d0b5e8",
   "metadata": {},
   "outputs": [
    {
     "data": {
      "text/plain": [
       "5"
      ]
     },
     "execution_count": 7,
     "metadata": {},
     "output_type": "execute_result"
    }
   ],
   "source": [
    "from functools import reduce\n",
    "l1=[1,2,3,4,5]\n",
    "reduce(lambda x,y:x if x>y else y ,l1)"
   ]
  },
  {
   "cell_type": "code",
   "execution_count": 62,
   "id": "cc571441",
   "metadata": {},
   "outputs": [
    {
     "data": {
      "text/plain": [
       "<module 'functools' from 'C:\\\\ProgramData\\\\Anaconda3\\\\lib\\\\functools.py'>"
      ]
     },
     "execution_count": 62,
     "metadata": {},
     "output_type": "execute_result"
    }
   ],
   "source": [
    "import functools\n",
    "functools"
   ]
  },
  {
   "cell_type": "code",
   "execution_count": null,
   "id": "4b80e3c1",
   "metadata": {},
   "outputs": [],
   "source": [
    "#max value using reduce\n",
    "# map: direct attack\n",
    "#filter: if conditions\n",
    "#reduce: inbuilt functions some initialization\n",
    "#detailed word documnt with one example"
   ]
  },
  {
   "cell_type": "code",
   "execution_count": 5,
   "id": "2c2f798c",
   "metadata": {},
   "outputs": [
    {
     "name": "stdout",
     "output_type": "stream",
     "text": [
      "20\n"
     ]
    }
   ],
   "source": [
    "from functools import reduce\n",
    "\n",
    "nums = [1, 9, 3, 20, 5]\n",
    "\n",
    "maxv = reduce(lambda x, y: x if x > y else y, nums)\n",
    "\n",
    "print(maxv)"
   ]
  },
  {
   "cell_type": "code",
   "execution_count": null,
   "id": "28a5103b",
   "metadata": {},
   "outputs": [],
   "source": []
  }
 ],
 "metadata": {
  "kernelspec": {
   "display_name": "Python 3 (ipykernel)",
   "language": "python",
   "name": "python3"
  },
  "language_info": {
   "codemirror_mode": {
    "name": "ipython",
    "version": 3
   },
   "file_extension": ".py",
   "mimetype": "text/x-python",
   "name": "python",
   "nbconvert_exporter": "python",
   "pygments_lexer": "ipython3",
   "version": "3.9.13"
  }
 },
 "nbformat": 4,
 "nbformat_minor": 5
}
