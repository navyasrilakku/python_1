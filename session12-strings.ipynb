{
 "cells": [
  {
   "cell_type": "markdown",
   "id": "0c601ff7",
   "metadata": {},
   "source": [
    "########python divided 3 parts##########\n",
    "-------  Basics\n",
    "- 1)variables\n",
    "- 2)Data types\n",
    "- 3)type conversions\n",
    "- 4)eval input\n",
    "- 5)packages\n",
    "- 6)conditional statements\n",
    "- 7)try-except\n",
    "- 8)functions\n",
    "- 9)for\n",
    "- 10)while\n",
    "--------------intermediate part\n",
    "- 11)strings\n",
    "- 12)lists\n",
    "- 13)dictionary\n",
    "- 14)tuples\n",
    "- 15)sets\n",
    "- 16)lambda functions\n",
    "- 17)file handling \n",
    "----------------advanced\n",
    "- 18)oops"
   ]
  },
  {
   "cell_type": "markdown",
   "id": "95b4b5fe",
   "metadata": {},
   "source": [
    "----------------------part-1--------------------\n",
    "- initialization\n",
    "- type\n",
    "- len\n",
    "- max\n",
    "- min\n",
    "- sorted\n",
    "- reversed\n",
    "- in \n",
    "- for loop using in \n",
    "- indexing\n",
    "- for loop using indexing\n",
    "- mutable concept\n",
    "- concatenation\n",
    "--------------------------part-2-------------------------\n",
    "- #methods"
   ]
  },
  {
   "cell_type": "markdown",
   "id": "025ad88b",
   "metadata": {},
   "source": [
    "**initializtion**"
   ]
  },
  {
   "cell_type": "code",
   "execution_count": 1,
   "id": "3b9800e8",
   "metadata": {},
   "outputs": [
    {
     "data": {
      "text/plain": [
       "'python'"
      ]
     },
     "execution_count": 1,
     "metadata": {},
     "output_type": "execute_result"
    }
   ],
   "source": [
    "str1=\"python\"\n",
    "str1"
   ]
  },
  {
   "cell_type": "markdown",
   "id": "856b7f6e",
   "metadata": {},
   "source": [
    "**note**"
   ]
  },
  {
   "cell_type": "markdown",
   "id": "04f1c2ad",
   "metadata": {},
   "source": [
    "- if we mentioned single quots or double quotes by default python provides in single quotes only\n",
    "- if we mentioned print the strings we will see answers without codes\n",
    "- triple quotes are using for doc string\n",
    "- in order to convey the information about coding part we will use doc string\n",
    "- anything inside single ,double quotes is considered as a string in python"
   ]
  },
  {
   "cell_type": "markdown",
   "id": "82049e2b",
   "metadata": {},
   "source": [
    "***triple quotes***"
   ]
  },
  {
   "cell_type": "code",
   "execution_count": 5,
   "id": "4e197ff5",
   "metadata": {},
   "outputs": [],
   "source": [
    "str3=\"\"\" hi how are you i am good\"\"\""
   ]
  },
  {
   "cell_type": "code",
   "execution_count": 6,
   "id": "f6cdce42",
   "metadata": {},
   "outputs": [
    {
     "data": {
      "text/plain": [
       "' hi how are you i am good'"
      ]
     },
     "execution_count": 6,
     "metadata": {},
     "output_type": "execute_result"
    }
   ],
   "source": [
    "str3"
   ]
  },
  {
   "cell_type": "markdown",
   "id": "79f70851",
   "metadata": {},
   "source": [
    "**type**"
   ]
  },
  {
   "cell_type": "code",
   "execution_count": 7,
   "id": "2c5cfb12",
   "metadata": {},
   "outputs": [
    {
     "data": {
      "text/plain": [
       "str"
      ]
     },
     "execution_count": 7,
     "metadata": {},
     "output_type": "execute_result"
    }
   ],
   "source": [
    "type(str1)"
   ]
  },
  {
   "cell_type": "code",
   "execution_count": 8,
   "id": "5afb51e3",
   "metadata": {},
   "outputs": [],
   "source": [
    "str4='10'#integer value in the form of string\n",
    "str5='10.6'#float valuee in the form of string\n",
    "str6='123abc'#alphanumeric  in the form of string\n",
    "str7='True'#boolean can also in the form of string"
   ]
  },
  {
   "cell_type": "markdown",
   "id": "6ed1a036",
   "metadata": {},
   "source": [
    "**len**"
   ]
  },
  {
   "cell_type": "code",
   "execution_count": 9,
   "id": "2104e673",
   "metadata": {},
   "outputs": [
    {
     "data": {
      "text/plain": [
       "'python'"
      ]
     },
     "execution_count": 9,
     "metadata": {},
     "output_type": "execute_result"
    }
   ],
   "source": [
    "str1=\"python\"\n",
    "str1"
   ]
  },
  {
   "cell_type": "code",
   "execution_count": 10,
   "id": "6c6a840e",
   "metadata": {},
   "outputs": [
    {
     "data": {
      "text/plain": [
       "6"
      ]
     },
     "execution_count": 10,
     "metadata": {},
     "output_type": "execute_result"
    }
   ],
   "source": [
    "len(str1)"
   ]
  },
  {
   "cell_type": "markdown",
   "id": "e6b1ac67",
   "metadata": {},
   "source": [
    "**max**"
   ]
  },
  {
   "cell_type": "code",
   "execution_count": 11,
   "id": "353a749e",
   "metadata": {},
   "outputs": [
    {
     "data": {
      "text/plain": [
       "20"
      ]
     },
     "execution_count": 11,
     "metadata": {},
     "output_type": "execute_result"
    }
   ],
   "source": [
    "a=10\n",
    "b=20\n",
    "max(a,b)"
   ]
  },
  {
   "cell_type": "markdown",
   "id": "a1a1eb51",
   "metadata": {},
   "source": [
    "**min**"
   ]
  },
  {
   "cell_type": "code",
   "execution_count": 13,
   "id": "7e66dc8e",
   "metadata": {},
   "outputs": [
    {
     "data": {
      "text/plain": [
       "10"
      ]
     },
     "execution_count": 13,
     "metadata": {},
     "output_type": "execute_result"
    }
   ],
   "source": [
    "a=10\n",
    "b=20\n",
    "min(a,b)"
   ]
  },
  {
   "cell_type": "code",
   "execution_count": 14,
   "id": "38e1ff1e",
   "metadata": {},
   "outputs": [
    {
     "data": {
      "text/plain": [
       "'y'"
      ]
     },
     "execution_count": 14,
     "metadata": {},
     "output_type": "execute_result"
    }
   ],
   "source": [
    "max(str1)"
   ]
  },
  {
   "cell_type": "code",
   "execution_count": 15,
   "id": "a49b820b",
   "metadata": {},
   "outputs": [
    {
     "data": {
      "text/plain": [
       "'h'"
      ]
     },
     "execution_count": 15,
     "metadata": {},
     "output_type": "execute_result"
    }
   ],
   "source": [
    "min(str1)"
   ]
  },
  {
   "cell_type": "code",
   "execution_count": 16,
   "id": "c049cff7",
   "metadata": {},
   "outputs": [
    {
     "data": {
      "text/plain": [
       "(112, 121, 116, 104, 111, 110)"
      ]
     },
     "execution_count": 16,
     "metadata": {},
     "output_type": "execute_result"
    }
   ],
   "source": [
    "ord('p'),ord('y'),ord('t'),ord('h'),ord('o'),ord('n')"
   ]
  },
  {
   "cell_type": "markdown",
   "id": "baf96c98",
   "metadata": {},
   "source": [
    "**keywords v/s methods**"
   ]
  },
  {
   "cell_type": "markdown",
   "id": "ca367302",
   "metadata": {},
   "source": [
    "##methods##\n",
    "- in order to use methods we need to call package\n",
    "import random\n",
    "random.randint()\n",
    "\n",
    "import math\n",
    "math.sqrt()\n",
    " \n",
    "import time\n",
    "time.slep()"
   ]
  },
  {
   "cell_type": "code",
   "execution_count": null,
   "id": "0585bb52",
   "metadata": {},
   "outputs": [],
   "source": [
    "type(<>)\n",
    "max(<>)\n",
    "min(<>)\n",
    "len(<>)\n",
    "print(<>)\n",
    "input(<>)\n",
    "sum(<>)\n",
    "eval(<>)\n"
   ]
  },
  {
   "cell_type": "markdown",
   "id": "e57cb8b5",
   "metadata": {},
   "source": [
    "**sum**"
   ]
  },
  {
   "cell_type": "code",
   "execution_count": 21,
   "id": "1a8efb83",
   "metadata": {},
   "outputs": [
    {
     "ename": "TypeError",
     "evalue": "unsupported operand type(s) for +: 'int' and 'str'",
     "output_type": "error",
     "traceback": [
      "\u001b[1;31m---------------------------------------------------------------------------\u001b[0m",
      "\u001b[1;31mTypeError\u001b[0m                                 Traceback (most recent call last)",
      "\u001b[1;32m~\\AppData\\Local\\Temp\\ipykernel_4440\\1700756558.py\u001b[0m in \u001b[0;36m<module>\u001b[1;34m\u001b[0m\n\u001b[0;32m      1\u001b[0m \u001b[0mstr1\u001b[0m\u001b[1;33m=\u001b[0m\u001b[1;34m'python'\u001b[0m\u001b[1;33m\u001b[0m\u001b[1;33m\u001b[0m\u001b[0m\n\u001b[1;32m----> 2\u001b[1;33m \u001b[0msum\u001b[0m\u001b[1;33m(\u001b[0m\u001b[0mstr1\u001b[0m\u001b[1;33m)\u001b[0m\u001b[1;33m\u001b[0m\u001b[1;33m\u001b[0m\u001b[0m\n\u001b[0m",
      "\u001b[1;31mTypeError\u001b[0m: unsupported operand type(s) for +: 'int' and 'str'"
     ]
    }
   ],
   "source": [
    "str1='python'\n",
    "sum(str1)"
   ]
  },
  {
   "cell_type": "code",
   "execution_count": 22,
   "id": "1f305031",
   "metadata": {},
   "outputs": [
    {
     "data": {
      "text/plain": [
       "6"
      ]
     },
     "execution_count": 22,
     "metadata": {},
     "output_type": "execute_result"
    }
   ],
   "source": [
    "sum([1,2,3])"
   ]
  },
  {
   "cell_type": "markdown",
   "id": "fa65afef",
   "metadata": {},
   "source": [
    "**sorted**"
   ]
  },
  {
   "cell_type": "code",
   "execution_count": 23,
   "id": "39935530",
   "metadata": {},
   "outputs": [
    {
     "data": {
      "text/plain": [
       "['h', 'n', 'o', 'p', 't', 'y']"
      ]
     },
     "execution_count": 23,
     "metadata": {},
     "output_type": "execute_result"
    }
   ],
   "source": [
    "sorted('python')#ascending order"
   ]
  },
  {
   "cell_type": "markdown",
   "id": "332bee72",
   "metadata": {},
   "source": [
    "- sorted givs ascending order based on ascii values\n",
    "- sorted is a kind of a function\n",
    "- every function we have arguements\n",
    "- in that one default arguement is **revrse=False**\n",
    "- by default sorted output gives **ascnding order**\n",
    "- we can change the order, by providing **reverse=True**\n",
    "- **if we do not mention, it will give the default answer**"
   ]
  },
  {
   "cell_type": "code",
   "execution_count": 24,
   "id": "b685baf8",
   "metadata": {},
   "outputs": [
    {
     "data": {
      "text/plain": [
       "['y', 't', 'p', 'o', 'n', 'h']"
      ]
     },
     "execution_count": 24,
     "metadata": {},
     "output_type": "execute_result"
    }
   ],
   "source": [
    "sorted('python',reverse=True)#descending order"
   ]
  },
  {
   "cell_type": "code",
   "execution_count": 25,
   "id": "13498185",
   "metadata": {},
   "outputs": [
    {
     "data": {
      "text/plain": [
       "0j"
      ]
     },
     "execution_count": 25,
     "metadata": {},
     "output_type": "execute_result"
    }
   ],
   "source": [
    "complex()"
   ]
  },
  {
   "cell_type": "code",
   "execution_count": 26,
   "id": "ef86fc65",
   "metadata": {},
   "outputs": [
    {
     "data": {
      "text/plain": [
       "(10+20j)"
      ]
     },
     "execution_count": 26,
     "metadata": {},
     "output_type": "execute_result"
    }
   ],
   "source": [
    "complex(10,20)"
   ]
  },
  {
   "cell_type": "code",
   "execution_count": 27,
   "id": "a697cd0c",
   "metadata": {},
   "outputs": [
    {
     "data": {
      "text/plain": [
       "(10+20j)"
      ]
     },
     "execution_count": 27,
     "metadata": {},
     "output_type": "execute_result"
    }
   ],
   "source": [
    "complex(real=10,imag=20)"
   ]
  },
  {
   "cell_type": "code",
   "execution_count": 28,
   "id": "6d422c37",
   "metadata": {},
   "outputs": [
    {
     "ename": "TypeError",
     "evalue": "randint() missing 2 required positional arguments: 'a' and 'b'",
     "output_type": "error",
     "traceback": [
      "\u001b[1;31m---------------------------------------------------------------------------\u001b[0m",
      "\u001b[1;31mTypeError\u001b[0m                                 Traceback (most recent call last)",
      "\u001b[1;32m~\\AppData\\Local\\Temp\\ipykernel_4440\\3490375205.py\u001b[0m in \u001b[0;36m<module>\u001b[1;34m\u001b[0m\n\u001b[0;32m      1\u001b[0m \u001b[1;32mimport\u001b[0m \u001b[0mrandom\u001b[0m\u001b[1;33m\u001b[0m\u001b[1;33m\u001b[0m\u001b[0m\n\u001b[1;32m----> 2\u001b[1;33m \u001b[0mrandom\u001b[0m\u001b[1;33m.\u001b[0m\u001b[0mrandint\u001b[0m\u001b[1;33m(\u001b[0m\u001b[1;33m)\u001b[0m\u001b[1;33m\u001b[0m\u001b[1;33m\u001b[0m\u001b[0m\n\u001b[0m",
      "\u001b[1;31mTypeError\u001b[0m: randint() missing 2 required positional arguments: 'a' and 'b'"
     ]
    }
   ],
   "source": [
    "import random\n",
    "random.randint()"
   ]
  },
  {
   "cell_type": "code",
   "execution_count": 30,
   "id": "79cca9f3",
   "metadata": {},
   "outputs": [
    {
     "ename": "NameError",
     "evalue": "name 'function' is not defined",
     "output_type": "error",
     "traceback": [
      "\u001b[1;31m---------------------------------------------------------------------------\u001b[0m",
      "\u001b[1;31mNameError\u001b[0m                                 Traceback (most recent call last)",
      "\u001b[1;32m~\\AppData\\Local\\Temp\\ipykernel_4440\\3106039059.py\u001b[0m in \u001b[0;36m<module>\u001b[1;34m\u001b[0m\n\u001b[1;32m----> 1\u001b[1;33m \u001b[0mfunction\u001b[0m\u001b[1;33m(\u001b[0m\u001b[1;33m)\u001b[0m\u001b[1;31m#answer\u001b[0m\u001b[1;33m\u001b[0m\u001b[1;33m\u001b[0m\u001b[0m\n\u001b[0m\u001b[0;32m      2\u001b[0m \u001b[0mfunction\u001b[0m\u001b[1;33m(\u001b[0m\u001b[0ma\u001b[0m\u001b[1;33m,\u001b[0m\u001b[0mb\u001b[0m\u001b[1;33m)\u001b[0m\u001b[1;31m#might shows error\u001b[0m\u001b[1;33m\u001b[0m\u001b[1;33m\u001b[0m\u001b[0m\n\u001b[0;32m      3\u001b[0m \u001b[0mfunction\u001b[0m\u001b[1;33m(\u001b[0m\u001b[0ma\u001b[0m\u001b[1;33m=\u001b[0m\u001b[1;36m10\u001b[0m\u001b[1;33m,\u001b[0m\u001b[0mb\u001b[0m\u001b[1;33m=\u001b[0m\u001b[1;36m20\u001b[0m\u001b[1;33m)\u001b[0m\u001b[1;31m#answer\u001b[0m\u001b[1;33m\u001b[0m\u001b[1;33m\u001b[0m\u001b[0m\n",
      "\u001b[1;31mNameError\u001b[0m: name 'function' is not defined"
     ]
    }
   ],
   "source": [
    "function()#answer\n",
    "function(a,b)#might shows error\n",
    "function(a=10,b=20)#answer"
   ]
  },
  {
   "cell_type": "code",
   "execution_count": 32,
   "id": "a0522bf2",
   "metadata": {},
   "outputs": [
    {
     "data": {
      "text/plain": [
       "0.6050623580244421"
      ]
     },
     "execution_count": 32,
     "metadata": {},
     "output_type": "execute_result"
    }
   ],
   "source": [
    "import random\n",
    "random.random()#we will get answer but anser is not in our hands"
   ]
  },
  {
   "cell_type": "code",
   "execution_count": 33,
   "id": "bf1dab45",
   "metadata": {},
   "outputs": [
    {
     "data": {
      "text/plain": [
       "20"
      ]
     },
     "execution_count": 33,
     "metadata": {},
     "output_type": "execute_result"
    }
   ],
   "source": [
    "import random\n",
    "random.randint(10,20)#answer we can change"
   ]
  },
  {
   "cell_type": "code",
   "execution_count": 34,
   "id": "c0455684",
   "metadata": {},
   "outputs": [
    {
     "data": {
      "text/plain": [
       "0j"
      ]
     },
     "execution_count": 34,
     "metadata": {},
     "output_type": "execute_result"
    }
   ],
   "source": [
    "complex()# by default 0,0"
   ]
  },
  {
   "cell_type": "code",
   "execution_count": 35,
   "id": "472a30b6",
   "metadata": {},
   "outputs": [
    {
     "data": {
      "text/plain": [
       "(10+20j)"
      ]
     },
     "execution_count": 35,
     "metadata": {},
     "output_type": "execute_result"
    }
   ],
   "source": [
    "complex(10,20)"
   ]
  },
  {
   "cell_type": "code",
   "execution_count": 36,
   "id": "3414c32c",
   "metadata": {},
   "outputs": [
    {
     "ename": "TypeError",
     "evalue": "sorted expected 1 argument, got 0",
     "output_type": "error",
     "traceback": [
      "\u001b[1;31m---------------------------------------------------------------------------\u001b[0m",
      "\u001b[1;31mTypeError\u001b[0m                                 Traceback (most recent call last)",
      "\u001b[1;32m~\\AppData\\Local\\Temp\\ipykernel_4440\\2348610163.py\u001b[0m in \u001b[0;36m<module>\u001b[1;34m\u001b[0m\n\u001b[1;32m----> 1\u001b[1;33m \u001b[0msorted\u001b[0m\u001b[1;33m(\u001b[0m\u001b[0miterable\u001b[0m\u001b[1;33m=\u001b[0m\u001b[1;34m'python'\u001b[0m\u001b[1;33m)\u001b[0m\u001b[1;33m\u001b[0m\u001b[1;33m\u001b[0m\u001b[0m\n\u001b[0m\u001b[0;32m      2\u001b[0m \u001b[0mrandom\u001b[0m\u001b[1;33m.\u001b[0m\u001b[0mrandint\u001b[0m\u001b[1;33m(\u001b[0m\u001b[1;36m10\u001b[0m\u001b[1;33m,\u001b[0m\u001b[1;36m20\u001b[0m\u001b[1;33m)\u001b[0m\u001b[1;33m\u001b[0m\u001b[1;33m\u001b[0m\u001b[0m\n",
      "\u001b[1;31mTypeError\u001b[0m: sorted expected 1 argument, got 0"
     ]
    }
   ],
   "source": [
    "sorted(iterable='python')#error\n",
    "random.randint(10,20)#answer"
   ]
  },
  {
   "cell_type": "markdown",
   "id": "4edc8397",
   "metadata": {},
   "source": [
    "**note**\n",
    "- we have arguement before and after\"/\" (slash)\n",
    "- we can use the arguement names after/ only\n",
    "- for example sorted has two arguements one is iterable and another one is reverse\n",
    "- iterable is mentioned before / symbol\n",
    "- reverse is mentioned after / symbol\n",
    "- so we can use only reverse arguement name while we are doing the work\n",
    "- we can not use iterable arguement nname \n",
    "- instead of using iterable name, we can provide direct valu at that position"
   ]
  },
  {
   "cell_type": "markdown",
   "id": "6f233864",
   "metadata": {},
   "source": [
    "**reversed**"
   ]
  },
  {
   "cell_type": "code",
   "execution_count": 38,
   "id": "fe221b41",
   "metadata": {},
   "outputs": [
    {
     "data": {
      "text/plain": [
       "<reversed at 0x1eba0a87040>"
      ]
     },
     "execution_count": 38,
     "metadata": {},
     "output_type": "execute_result"
    }
   ],
   "source": [
    "reversed('python')\n"
   ]
  },
  {
   "cell_type": "markdown",
   "id": "2f49e776",
   "metadata": {},
   "source": [
    "- it shows that i already done your out put is stored in that loacation\n",
    "- whenever we see this type of answer less than or greater than symbol or memory\n",
    "- use for loop to se the answer"
   ]
  },
  {
   "cell_type": "code",
   "execution_count": 40,
   "id": "119b22b0",
   "metadata": {},
   "outputs": [
    {
     "name": "stdout",
     "output_type": "stream",
     "text": [
      "n o h t y p "
     ]
    }
   ],
   "source": [
    "str1='python'\n",
    "output=reversed(str1)\n",
    "for i in output:\n",
    "    print(i, end=\" \")"
   ]
  },
  {
   "cell_type": "code",
   "execution_count": 41,
   "id": "68fce3be",
   "metadata": {},
   "outputs": [
    {
     "name": "stdout",
     "output_type": "stream",
     "text": [
      "h n o p t y "
     ]
    }
   ],
   "source": [
    "str1='python'\n",
    "output=sorted(str1)\n",
    "for i in output:\n",
    "    print(i, end=\" \")"
   ]
  },
  {
   "cell_type": "code",
   "execution_count": 4,
   "id": "f6f62865",
   "metadata": {},
   "outputs": [
    {
     "data": {
      "text/plain": [
       "['s', 'r', 'n', 'h', 'e', 'a']"
      ]
     },
     "execution_count": 4,
     "metadata": {},
     "output_type": "execute_result"
    }
   ],
   "source": [
    "sorted('naresh',reverse=True)"
   ]
  },
  {
   "cell_type": "code",
   "execution_count": 6,
   "id": "64de0328",
   "metadata": {},
   "outputs": [
    {
     "name": "stdout",
     "output_type": "stream",
     "text": [
      "h s e r a n "
     ]
    }
   ],
   "source": [
    "for i in reversed('naresh'):\n",
    "    print(i,end=' ')"
   ]
  },
  {
   "cell_type": "code",
   "execution_count": 7,
   "id": "eea84b37",
   "metadata": {},
   "outputs": [
    {
     "data": {
      "text/plain": [
       "[1, 2, 10, 20, 30]"
      ]
     },
     "execution_count": 7,
     "metadata": {},
     "output_type": "execute_result"
    }
   ],
   "source": [
    "sorted([1,10,2,20,30])"
   ]
  },
  {
   "cell_type": "code",
   "execution_count": 8,
   "id": "614f0d5a",
   "metadata": {},
   "outputs": [
    {
     "data": {
      "text/plain": [
       "[30, 20, 10, 2, 1]"
      ]
     },
     "execution_count": 8,
     "metadata": {},
     "output_type": "execute_result"
    }
   ],
   "source": [
    "sorted([1,10,2,20,30], reverse=True)"
   ]
  },
  {
   "cell_type": "markdown",
   "id": "79e9e33d",
   "metadata": {},
   "source": [
    "# in"
   ]
  },
  {
   "cell_type": "code",
   "execution_count": 9,
   "id": "90fcded9",
   "metadata": {},
   "outputs": [
    {
     "data": {
      "text/plain": [
       "True"
      ]
     },
     "execution_count": 9,
     "metadata": {},
     "output_type": "execute_result"
    }
   ],
   "source": [
    "str1=\"naresh\"\n",
    "'n' in str1"
   ]
  },
  {
   "cell_type": "code",
   "execution_count": 11,
   "id": "4f2c0473",
   "metadata": {},
   "outputs": [
    {
     "data": {
      "text/plain": [
       "False"
      ]
     },
     "execution_count": 11,
     "metadata": {},
     "output_type": "execute_result"
    }
   ],
   "source": [
    "str1=\"naresh\"\n",
    "'n' not in str1"
   ]
  },
  {
   "cell_type": "code",
   "execution_count": 12,
   "id": "0236b866",
   "metadata": {},
   "outputs": [
    {
     "data": {
      "text/plain": [
       "True"
      ]
     },
     "execution_count": 12,
     "metadata": {},
     "output_type": "execute_result"
    }
   ],
   "source": [
    "str1=\"naresh\"\n",
    "'ns' not in str1"
   ]
  },
  {
   "cell_type": "markdown",
   "id": "893347b0",
   "metadata": {},
   "source": [
    "**note**\n",
    "- in operator directly access the letters"
   ]
  },
  {
   "cell_type": "code",
   "execution_count": 18,
   "id": "ad6d360c",
   "metadata": {},
   "outputs": [
    {
     "name": "stdout",
     "output_type": "stream",
     "text": [
      "the count of 'h' is 3\n"
     ]
    }
   ],
   "source": [
    "#1)wap ask the user count how many 'a' are present in a given string \n",
    "#str1='hai naresh how are you'\n",
    "#idea: counter wrapper\n",
    "#step1:- count=0\n",
    "#step2:- using for loop in oprator iterate through gven string\n",
    "#step3:- apply the if condition, whenever the letter equal to 'a'\n",
    "#step:- count=count+1\n",
    "\n",
    "\n",
    "\n",
    "str1='hai naresh how are you'\n",
    "count=0\n",
    "for i in str1:\n",
    "    if i=='h':\n",
    "        count=count+1\n",
    "print(\"the count of 'h' is\",count)"
   ]
  },
  {
   "cell_type": "code",
   "execution_count": 20,
   "id": "23046691",
   "metadata": {},
   "outputs": [
    {
     "name": "stdout",
     "output_type": "stream",
     "text": [
      "the count of vowels is 9\n"
     ]
    }
   ],
   "source": [
    "#2)wap ask the user find vowels are there in a givn string\n",
    "str2='hai naresh how are you'\n",
    "count=0\n",
    "for i in str2:\n",
    "    if i=='a' or i=='e' or i=='i' or i=='o'or i=='u':\n",
    "        count=count+1\n",
    "print(\"the count of vowels is\",count)"
   ]
  },
  {
   "cell_type": "code",
   "execution_count": 21,
   "id": "a7ee4777",
   "metadata": {},
   "outputs": [
    {
     "name": "stdout",
     "output_type": "stream",
     "text": [
      "the count of vowels is 9\n"
     ]
    }
   ],
   "source": [
    "str2='hai naresh how are you'\n",
    "count=0\n",
    "for i in str2:\n",
    "    if i in 'aeiou':\n",
    "        count=count+1\n",
    "print(\"the count of vowels is\",count)"
   ]
  },
  {
   "cell_type": "code",
   "execution_count": 24,
   "id": "2a8fe1a8",
   "metadata": {},
   "outputs": [
    {
     "name": "stdout",
     "output_type": "stream",
     "text": [
      "aeou\n",
      "4\n"
     ]
    }
   ],
   "source": [
    "#3) home work question\n",
    "#str1='hai naresh how are you'\n",
    "#repeated vowels are there\n",
    "#we dont want repeated vowls\n",
    "#count th vowels avoid the repetition: unique vowels\n",
    "#stp1:- count=0\n",
    "#step2:- take one more empty string s2=\"\"\n",
    "#step3:- using for loop in operator itereate through given string\n",
    "#step4:- condition-1: that letter should not available in s2\n",
    "#step5:- condition2:- vowl check condition\n",
    "#step6:- count=count+1\n",
    "#step7:- update the s2 s2=s2+<letter>\n",
    "str1=\"naresh how are you\"\n",
    "s2=''\n",
    "count=0\n",
    "for i in str1:\n",
    "    if i not in s2:\n",
    "        if i in \"aeiou\":\n",
    "            s2=s2+i\n",
    "            count=count+1                  #concatenation\n",
    "print(s2)\n",
    "print(count)"
   ]
  },
  {
   "cell_type": "code",
   "execution_count": 25,
   "id": "b182a4df",
   "metadata": {},
   "outputs": [
    {
     "data": {
      "text/plain": [
       "'hellobye'"
      ]
     },
     "execution_count": 25,
     "metadata": {},
     "output_type": "execute_result"
    }
   ],
   "source": [
    "s1='hello'\n",
    "s2='bye'\n",
    "s1+s2"
   ]
  },
  {
   "cell_type": "code",
   "execution_count": 27,
   "id": "3d3509f3",
   "metadata": {},
   "outputs": [
    {
     "data": {
      "text/plain": [
       "'hello  bye'"
      ]
     },
     "execution_count": 27,
     "metadata": {},
     "output_type": "execute_result"
    }
   ],
   "source": [
    "s1='hello'\n",
    "s2='bye'\n",
    "s3='  '\n",
    "s1+s3+s2"
   ]
  },
  {
   "cell_type": "code",
   "execution_count": 28,
   "id": "133e6a85",
   "metadata": {},
   "outputs": [],
   "source": [
    "#concatination is a process which is used to add the strings"
   ]
  },
  {
   "cell_type": "code",
   "execution_count": 29,
   "id": "cf89f816",
   "metadata": {},
   "outputs": [
    {
     "ename": "TypeError",
     "evalue": "can't multiply sequence by non-int of type 'str'",
     "output_type": "error",
     "traceback": [
      "\u001b[1;31m---------------------------------------------------------------------------\u001b[0m",
      "\u001b[1;31mTypeError\u001b[0m                                 Traceback (most recent call last)",
      "\u001b[1;32m~\\AppData\\Local\\Temp\\ipykernel_10204\\2483744765.py\u001b[0m in \u001b[0;36m<module>\u001b[1;34m\u001b[0m\n\u001b[0;32m      1\u001b[0m \u001b[0ms1\u001b[0m\u001b[1;33m=\u001b[0m\u001b[1;34m'hello'\u001b[0m\u001b[1;33m\u001b[0m\u001b[1;33m\u001b[0m\u001b[0m\n\u001b[0;32m      2\u001b[0m \u001b[0ms2\u001b[0m\u001b[1;33m=\u001b[0m\u001b[1;34m'bye'\u001b[0m\u001b[1;33m\u001b[0m\u001b[1;33m\u001b[0m\u001b[0m\n\u001b[1;32m----> 3\u001b[1;33m \u001b[0ms1\u001b[0m\u001b[1;33m*\u001b[0m\u001b[0ms2\u001b[0m\u001b[1;33m\u001b[0m\u001b[1;33m\u001b[0m\u001b[0m\n\u001b[0m",
      "\u001b[1;31mTypeError\u001b[0m: can't multiply sequence by non-int of type 'str'"
     ]
    }
   ],
   "source": [
    "s1='hello'\n",
    "s2='bye'\n",
    "s1*s2"
   ]
  },
  {
   "cell_type": "code",
   "execution_count": 30,
   "id": "702f463f",
   "metadata": {},
   "outputs": [
    {
     "ename": "TypeError",
     "evalue": "unsupported operand type(s) for -: 'str' and 'str'",
     "output_type": "error",
     "traceback": [
      "\u001b[1;31m---------------------------------------------------------------------------\u001b[0m",
      "\u001b[1;31mTypeError\u001b[0m                                 Traceback (most recent call last)",
      "\u001b[1;32m~\\AppData\\Local\\Temp\\ipykernel_10204\\2927043274.py\u001b[0m in \u001b[0;36m<module>\u001b[1;34m\u001b[0m\n\u001b[0;32m      1\u001b[0m \u001b[0ms1\u001b[0m\u001b[1;33m=\u001b[0m\u001b[1;34m'hello'\u001b[0m\u001b[1;33m\u001b[0m\u001b[1;33m\u001b[0m\u001b[0m\n\u001b[0;32m      2\u001b[0m \u001b[0ms2\u001b[0m\u001b[1;33m=\u001b[0m\u001b[1;34m'bye'\u001b[0m\u001b[1;33m\u001b[0m\u001b[1;33m\u001b[0m\u001b[0m\n\u001b[1;32m----> 3\u001b[1;33m \u001b[0ms1\u001b[0m\u001b[1;33m-\u001b[0m\u001b[0ms2\u001b[0m\u001b[1;33m\u001b[0m\u001b[1;33m\u001b[0m\u001b[0m\n\u001b[0m",
      "\u001b[1;31mTypeError\u001b[0m: unsupported operand type(s) for -: 'str' and 'str'"
     ]
    }
   ],
   "source": [
    "s1='hello'\n",
    "s2='bye'\n",
    "s1-s2"
   ]
  },
  {
   "cell_type": "code",
   "execution_count": 31,
   "id": "b7fb5f5b",
   "metadata": {},
   "outputs": [
    {
     "ename": "TypeError",
     "evalue": "unsupported operand type(s) for /: 'str' and 'str'",
     "output_type": "error",
     "traceback": [
      "\u001b[1;31m---------------------------------------------------------------------------\u001b[0m",
      "\u001b[1;31mTypeError\u001b[0m                                 Traceback (most recent call last)",
      "\u001b[1;32m~\\AppData\\Local\\Temp\\ipykernel_10204\\3641165825.py\u001b[0m in \u001b[0;36m<module>\u001b[1;34m\u001b[0m\n\u001b[0;32m      1\u001b[0m \u001b[0ms1\u001b[0m\u001b[1;33m=\u001b[0m\u001b[1;34m'hello'\u001b[0m\u001b[1;33m\u001b[0m\u001b[1;33m\u001b[0m\u001b[0m\n\u001b[0;32m      2\u001b[0m \u001b[0ms2\u001b[0m\u001b[1;33m=\u001b[0m\u001b[1;34m'bye'\u001b[0m\u001b[1;33m\u001b[0m\u001b[1;33m\u001b[0m\u001b[0m\n\u001b[1;32m----> 3\u001b[1;33m \u001b[0ms1\u001b[0m\u001b[1;33m/\u001b[0m\u001b[0ms2\u001b[0m\u001b[1;33m\u001b[0m\u001b[1;33m\u001b[0m\u001b[0m\n\u001b[0m",
      "\u001b[1;31mTypeError\u001b[0m: unsupported operand type(s) for /: 'str' and 'str'"
     ]
    }
   ],
   "source": [
    "s1='hello'\n",
    "s2='bye'\n",
    "s1/s2"
   ]
  },
  {
   "cell_type": "code",
   "execution_count": 32,
   "id": "9fe42dca",
   "metadata": {},
   "outputs": [
    {
     "data": {
      "text/plain": [
       "'hellohello'"
      ]
     },
     "execution_count": 32,
     "metadata": {},
     "output_type": "execute_result"
    }
   ],
   "source": [
    "s1='hello'\n",
    "s2=2\n",
    "s1*s2"
   ]
  },
  {
   "cell_type": "markdown",
   "id": "be4bce02",
   "metadata": {},
   "source": [
    "**index**\n",
    "- index meaning a number attached to a letter\n",
    "- in python index starts with a zero\n",
    "- we have two directions\n",
    "   - positive direction\n",
    "   \n",
    "      - positive numbers starts with zero\n",
    "   - negative direction\n",
    "      - negative number starts with -1, applicable to last letter"
   ]
  },
  {
   "cell_type": "code",
   "execution_count": null,
   "id": "51c3f1ab",
   "metadata": {},
   "outputs": [],
   "source": [
    "s1='python'\n",
    "-6      -5       -4      -3       -2          -1          =========>negative\n",
    "p       y        t       h         o           n\n",
    "0       1        2       3         4           5          ==========>positive"
   ]
  },
  {
   "cell_type": "code",
   "execution_count": 35,
   "id": "a4cdf28c",
   "metadata": {},
   "outputs": [
    {
     "data": {
      "text/plain": [
       "('p', 'y', 't', 'h', 'o', 'n')"
      ]
     },
     "execution_count": 35,
     "metadata": {},
     "output_type": "execute_result"
    }
   ],
   "source": [
    "s1=\"python\"\n",
    "s1[0],s1[1],s1[2], s1[3],s1[4], s1[5]"
   ]
  },
  {
   "cell_type": "code",
   "execution_count": 38,
   "id": "c1d34454",
   "metadata": {},
   "outputs": [
    {
     "data": {
      "text/plain": [
       "('n', 'o', 'h', 't', 'y', 'p')"
      ]
     },
     "execution_count": 38,
     "metadata": {},
     "output_type": "execute_result"
    }
   ],
   "source": [
    "s1=\"python\"\n",
    "s1[-1],s1[-2], s1[-3],s1[-4], s1[-5],s1[-6]"
   ]
  },
  {
   "cell_type": "markdown",
   "id": "c15a5441",
   "metadata": {},
   "source": [
    "# **mutable concept and immutable concept**"
   ]
  },
  {
   "cell_type": "markdown",
   "id": "a79e9934",
   "metadata": {},
   "source": [
    "- mutable: it can change\n",
    "- we can change using indexing\n",
    "- immutable: can not change\n",
    "- we can not change using indexing   \n",
    "- strings are immutable"
   ]
  },
  {
   "cell_type": "code",
   "execution_count": 1,
   "id": "bdeb5659",
   "metadata": {},
   "outputs": [
    {
     "data": {
      "text/plain": [
       "'c'"
      ]
     },
     "execution_count": 1,
     "metadata": {},
     "output_type": "execute_result"
    }
   ],
   "source": [
    "s='welcome'\n",
    "#i want to replace 'l' with 'L'\n",
    "#possible\n",
    "#not possible\n",
    "s[3]"
   ]
  },
  {
   "cell_type": "code",
   "execution_count": 2,
   "id": "cc0b7474",
   "metadata": {},
   "outputs": [
    {
     "ename": "TypeError",
     "evalue": "'str' object does not support item assignment",
     "output_type": "error",
     "traceback": [
      "\u001b[1;31m---------------------------------------------------------------------------\u001b[0m",
      "\u001b[1;31mTypeError\u001b[0m                                 Traceback (most recent call last)",
      "\u001b[1;32m~\\AppData\\Local\\Temp\\ipykernel_6732\\3888711704.py\u001b[0m in \u001b[0;36m<module>\u001b[1;34m\u001b[0m\n\u001b[0;32m      1\u001b[0m \u001b[0ms\u001b[0m\u001b[1;33m=\u001b[0m\u001b[1;34m'welcome'\u001b[0m\u001b[1;33m\u001b[0m\u001b[1;33m\u001b[0m\u001b[0m\n\u001b[1;32m----> 2\u001b[1;33m \u001b[0ms\u001b[0m\u001b[1;33m[\u001b[0m\u001b[1;36m3\u001b[0m\u001b[1;33m]\u001b[0m\u001b[1;33m=\u001b[0m\u001b[1;34m'L'\u001b[0m\u001b[1;33m\u001b[0m\u001b[1;33m\u001b[0m\u001b[0m\n\u001b[0m",
      "\u001b[1;31mTypeError\u001b[0m: 'str' object does not support item assignment"
     ]
    }
   ],
   "source": [
    "s='welcome'\n",
    "s[3]='L'"
   ]
  },
  {
   "cell_type": "markdown",
   "id": "2b772454",
   "metadata": {},
   "source": [
    "# strings are immutable"
   ]
  },
  {
   "cell_type": "code",
   "execution_count": 3,
   "id": "da241cff",
   "metadata": {},
   "outputs": [
    {
     "data": {
      "text/plain": [
       "[1, 200, 3, 4]"
      ]
     },
     "execution_count": 3,
     "metadata": {},
     "output_type": "execute_result"
    }
   ],
   "source": [
    "\n",
    "l=[1,2,3,4]\n",
    "l[1]=200\n",
    "l"
   ]
  },
  {
   "cell_type": "markdown",
   "id": "80f30711",
   "metadata": {},
   "source": [
    "# lists are mutable"
   ]
  },
  {
   "cell_type": "code",
   "execution_count": 4,
   "id": "2a020fe0",
   "metadata": {},
   "outputs": [
    {
     "name": "stdout",
     "output_type": "stream",
     "text": [
      "w\n",
      "e\n",
      "l\n",
      "c\n",
      "o\n",
      "m\n",
      "e\n"
     ]
    }
   ],
   "source": [
    "#4) print each ltter using for loop range \n",
    "s='welcome'\n",
    "for i in s:\n",
    "    print(i)"
   ]
  },
  {
   "cell_type": "code",
   "execution_count": 7,
   "id": "df3db66e",
   "metadata": {},
   "outputs": [
    {
     "name": "stdout",
     "output_type": "stream",
     "text": [
      "w\n",
      "e\n",
      "l\n",
      "c\n",
      "o\n",
      "m\n",
      "e\n",
      " \n",
      "t\n",
      "o\n",
      " \n",
      "n\n",
      "a\n",
      "r\n",
      "e\n",
      "s\n",
      "h\n",
      " \n",
      "i\n",
      "t\n"
     ]
    }
   ],
   "source": [
    "s='welcome to naresh it'\n",
    "n=len(s)\n",
    "#range belongs to which family\n",
    "#insid bracket we nedto provid a number\n",
    "#how many numbers we need to provide\n",
    "#no of letters=7\n",
    "#how to access a letter using a numbr:\n",
    "for i in range(n):\n",
    "    print(s[i])"
   ]
  },
  {
   "cell_type": "markdown",
   "id": "da9ca9b3",
   "metadata": {},
   "source": [
    "- range belongs to which family\n",
    "  - math family\n",
    "- inside bracket what we need to provide\n",
    "  - number\n",
    "- how many numbers we need to provide\n",
    "  - number of letter: len(string)\n",
    "- how to access a letter using a number:\n",
    "  - by using index"
   ]
  },
  {
   "cell_type": "markdown",
   "id": "37a945c6",
   "metadata": {},
   "source": [
    "- **For- in ** directly access the letter\n",
    "- ** for- range** will accessing using index\n"
   ]
  },
  {
   "cell_type": "code",
   "execution_count": 8,
   "id": "bd331eae",
   "metadata": {},
   "outputs": [
    {
     "name": "stdout",
     "output_type": "stream",
     "text": [
      "n\n",
      "a\n",
      "v\n",
      "y\n",
      "a\n",
      " \n",
      "s\n",
      "r\n",
      "i\n"
     ]
    }
   ],
   "source": [
    "s=\"navya sri\"\n",
    "for i in s:\n",
    "    print(i)"
   ]
  },
  {
   "cell_type": "code",
   "execution_count": 9,
   "id": "2a9d52ea",
   "metadata": {},
   "outputs": [
    {
     "name": "stdout",
     "output_type": "stream",
     "text": [
      "n\n",
      "a\n",
      "v\n",
      "y\n",
      "a\n",
      " \n",
      "s\n",
      "r\n",
      "i\n"
     ]
    }
   ],
   "source": [
    "s=\"navya sri\"\n",
    "m=len(s)\n",
    "for i in range(m):\n",
    "    print(s[i])"
   ]
  },
  {
   "cell_type": "code",
   "execution_count": 10,
   "id": "66d0b9ef",
   "metadata": {},
   "outputs": [
    {
     "name": "stdout",
     "output_type": "stream",
     "text": [
      "n\n",
      "a\n",
      "v\n",
      "y\n",
      "a\n",
      " \n",
      "s\n",
      "r\n",
      "i\n"
     ]
    }
   ],
   "source": [
    "s=\"navya sri\"\n",
    "for i in range(len(s)):\n",
    "    print(s[i])"
   ]
  },
  {
   "cell_type": "code",
   "execution_count": 17,
   "id": "a6a299f3",
   "metadata": {},
   "outputs": [
    {
     "name": "stdout",
     "output_type": "stream",
     "text": [
      "0 w\n",
      "the positive index of w is 0\n",
      "1 e\n",
      "the positive index of e is 1\n",
      "2 l\n",
      "the positive index of l is 2\n",
      "3 c\n",
      "the positive index of c is 3\n",
      "4 o\n",
      "the positive index of o is 4\n",
      "5 m\n",
      "the positive index of m is 5\n",
      "6 e\n",
      "the positive index of e is 6\n"
     ]
    }
   ],
   "source": [
    "#5) wap ask the user iterate using a string\n",
    "#string='welcome'\n",
    "#print the positive index of w is 0\n",
    "#the positive index of e is w\n",
    "#the negative index of e is -6\n",
    "#the negative index of l is -5\n",
    "string='welcome'\n",
    "for i in range(len(string)):\n",
    "    print(i,string[i])\n",
    "    print(f\"the positive index of {string[i]} is {i}\")"
   ]
  },
  {
   "cell_type": "code",
   "execution_count": 18,
   "id": "ccae9907",
   "metadata": {},
   "outputs": [
    {
     "name": "stdout",
     "output_type": "stream",
     "text": [
      "0 -7 w\n",
      "the negative index of w is -7\n",
      "1 -6 e\n",
      "the negative index of e is -6\n",
      "2 -5 l\n",
      "the negative index of l is -5\n",
      "3 -4 c\n",
      "the negative index of c is -4\n",
      "4 -3 o\n",
      "the negative index of o is -3\n",
      "5 -2 m\n",
      "the negative index of m is -2\n",
      "6 -1 e\n",
      "the negative index of e is -1\n"
     ]
    }
   ],
   "source": [
    "string='welcome'\n",
    "for i in range(len(string)):\n",
    "    print(i,i-len(string),string[i])\n",
    "    print(f\"the negative index of {string[i]} is {i-len(string)}\")"
   ]
  },
  {
   "cell_type": "code",
   "execution_count": 20,
   "id": "d3f61255",
   "metadata": {},
   "outputs": [
    {
     "name": "stdout",
     "output_type": "stream",
     "text": [
      "the index of a is 1\n",
      "the index of a is 8\n",
      "the index of a is 18\n"
     ]
    }
   ],
   "source": [
    "#8) wap ask the user get the index of each 'a' in a given string\n",
    "#s='hai how are you i am good'\n",
    "s='hai how are you i am good'\n",
    "\n",
    "for i in range(len(s)):\n",
    "    if s[i]=='a':\n",
    "        print(f\"the index of {s[i]} is {i}\")\n",
    "        \n"
   ]
  },
  {
   "cell_type": "code",
   "execution_count": 21,
   "id": "bb51b1ca",
   "metadata": {},
   "outputs": [
    {
     "name": "stdout",
     "output_type": "stream",
     "text": [
      "count of a 3\n"
     ]
    }
   ],
   "source": [
    "#9)count of'a'\n",
    "s='hai how are you i am good'\n",
    "count =0\n",
    "for i in range(len(s)):\n",
    "    if s[i]=='a':\n",
    "        count=count+1\n",
    "print(\"count of a\",count)"
   ]
  },
  {
   "cell_type": "code",
   "execution_count": 22,
   "id": "afef3d6a",
   "metadata": {},
   "outputs": [
    {
     "name": "stdout",
     "output_type": "stream",
     "text": [
      "the index of a is 1\n",
      "the index of a is 8\n",
      "the index of a is 18\n",
      "27\n"
     ]
    }
   ],
   "source": [
    "#10) sum of all index numbers of'a'\n",
    "s='hai how are you i am good'\n",
    "sum=0\n",
    "for i in range(len(s)):\n",
    "    if s[i]=='a':\n",
    "        print(f\"the index of {s[i]} is {i}\")\n",
    "        sum=sum+i\n",
    "print(\"the sum of indexes of a: \",sum)\n",
    "        \n"
   ]
  },
  {
   "cell_type": "code",
   "execution_count": 25,
   "id": "2aff72f8",
   "metadata": {},
   "outputs": [
    {
     "name": "stdout",
     "output_type": "stream",
     "text": [
      " a is 1\n",
      " i is 2\n",
      " o is 5\n",
      " a is 8\n",
      " e is 10\n",
      " o is 13\n",
      " u is 14\n",
      " i is 16\n",
      " a is 18\n",
      " o is 22\n",
      " o is 23\n"
     ]
    }
   ],
   "source": [
    "#11)vowels from a given string using for- range\n",
    "s='hai how are you i am good'\n",
    "for i in range(len(s)):\n",
    "    if s[i] in 'aeiou':\n",
    "        print(f\" {s[i]} is {i}\")\n",
    "         "
   ]
  },
  {
   "cell_type": "code",
   "execution_count": 30,
   "id": "16a4d642",
   "metadata": {},
   "outputs": [
    {
     "name": "stdout",
     "output_type": "stream",
     "text": [
      "a i o e u \n",
      "count of unique vowels 5\n"
     ]
    }
   ],
   "source": [
    "#12) unique vowels\n",
    "s='hai how are you i am good'\n",
    "count=0\n",
    "st=''\n",
    "for i in range(len(s)):\n",
    "    if s[i] not in st:\n",
    "        if s[i] in 'aeiou':\n",
    "            print(s[i],end=' ')\n",
    "            st=st+s[i]\n",
    "            count=count+1\n",
    "print(\"\\ncount of unique vowels\",count)            "
   ]
  },
  {
   "cell_type": "code",
   "execution_count": 31,
   "id": "84269dce",
   "metadata": {},
   "outputs": [
    {
     "name": "stdout",
     "output_type": "stream",
     "text": [
      "a i o e u \n",
      "count of unique vowels 5\n"
     ]
    }
   ],
   "source": [
    "s='hai how are you i am good'\n",
    "count=0\n",
    "st=''\n",
    "for i in range(len(s)):\n",
    "    if s[i] not in st and s[i] in 'aeiou':\n",
    "        \n",
    "        print(s[i],end=' ')\n",
    "        st=st+s[i]\n",
    "        count=count+1\n",
    "print(\"\\ncount of unique vowels\",count)            "
   ]
  },
  {
   "cell_type": "code",
   "execution_count": null,
   "id": "42bd139b",
   "metadata": {},
   "outputs": [],
   "source": [
    "#14) string1='ola ola ola'\n",
    "#number of ola's\n",
    "\n",
    "#15) string1=\"hello hello hello how how how how are you\"\n",
    "#answer : how\n",
    "# most repeated words\n",
    "\n",
    "#16)string1='heloooooooooooo how aree u'\n",
    "#maximum length of word is 'hellooooooooo'\n",
    "#minimum length of word is 'u'\n",
    "\n",
    "\n",
    "#17)without using sorted method then sort the letters"
   ]
  },
  {
   "cell_type": "code",
   "execution_count": 33,
   "id": "71471890",
   "metadata": {},
   "outputs": [
    {
     "name": "stdout",
     "output_type": "stream",
     "text": [
      "ola\n",
      "11\n"
     ]
    }
   ],
   "source": [
    "sg='ola ola ola'\n",
    "count=0\n",
    "si=input() \n",
    "for i in range(len(sg)):\n",
    "    if si in sg:\n",
    "        count=count+1\n",
    "print(count)"
   ]
  },
  {
   "cell_type": "markdown",
   "id": "7862bcc2",
   "metadata": {},
   "source": [
    "# **slice**"
   ]
  },
  {
   "cell_type": "markdown",
   "id": "ee838a8e",
   "metadata": {},
   "source": [
    "- we can cut into pieces\n",
    "- similar to range concept\n",
    "- start, stop, step here also"
   ]
  },
  {
   "cell_type": "code",
   "execution_count": null,
   "id": "049bc326",
   "metadata": {},
   "outputs": [],
   "source": [
    "str1='navya'"
   ]
  },
  {
   "cell_type": "code",
   "execution_count": null,
   "id": "f59e200d",
   "metadata": {},
   "outputs": [],
   "source": [
    "1   2   3   4  5\n",
    "n   a   v   y  a\n",
    "-5 -4  -3  -2  -1"
   ]
  },
  {
   "cell_type": "code",
   "execution_count": null,
   "id": "ed707f5c",
   "metadata": {},
   "outputs": [],
   "source": [
    "str1[start:stop:step]"
   ]
  },
  {
   "cell_type": "markdown",
   "id": "1ce8de6d",
   "metadata": {},
   "source": [
    "$pattern-1$"
   ]
  },
  {
   "cell_type": "code",
   "execution_count": 3,
   "id": "1b811db3",
   "metadata": {},
   "outputs": [],
   "source": [
    "str1=\"navya sri reddy lakku\""
   ]
  },
  {
   "cell_type": "code",
   "execution_count": 4,
   "id": "b3b1ed77",
   "metadata": {},
   "outputs": [
    {
     "data": {
      "text/plain": [
       "'lakku'"
      ]
     },
     "execution_count": 4,
     "metadata": {},
     "output_type": "execute_result"
    }
   ],
   "source": [
    "str1[-5:21]"
   ]
  },
  {
   "cell_type": "code",
   "execution_count": 5,
   "id": "731af3a6",
   "metadata": {},
   "outputs": [
    {
     "data": {
      "text/plain": [
       "' sri reddy lakku'"
      ]
     },
     "execution_count": 5,
     "metadata": {},
     "output_type": "execute_result"
    }
   ],
   "source": [
    "str1[5:21]"
   ]
  },
  {
   "cell_type": "code",
   "execution_count": 6,
   "id": "8ea81d45",
   "metadata": {},
   "outputs": [
    {
     "data": {
      "text/plain": [
       "''"
      ]
     },
     "execution_count": 6,
     "metadata": {},
     "output_type": "execute_result"
    }
   ],
   "source": [
    "str1[5:-21]"
   ]
  },
  {
   "cell_type": "code",
   "execution_count": 7,
   "id": "1516332e",
   "metadata": {},
   "outputs": [
    {
     "data": {
      "text/plain": [
       "''"
      ]
     },
     "execution_count": 7,
     "metadata": {},
     "output_type": "execute_result"
    }
   ],
   "source": [
    "str1[-5:-21]"
   ]
  },
  {
   "cell_type": "code",
   "execution_count": 8,
   "id": "d33c217e",
   "metadata": {},
   "outputs": [
    {
     "data": {
      "text/plain": [
       "'ay r ed ak'"
      ]
     },
     "execution_count": 8,
     "metadata": {},
     "output_type": "execute_result"
    }
   ],
   "source": [
    "str1[1:21:2]"
   ]
  },
  {
   "cell_type": "code",
   "execution_count": 9,
   "id": "97e717b7",
   "metadata": {},
   "outputs": [
    {
     "data": {
      "text/plain": [
       "''"
      ]
     },
     "execution_count": 9,
     "metadata": {},
     "output_type": "execute_result"
    }
   ],
   "source": [
    "str1[-1:-10:2]"
   ]
  },
  {
   "cell_type": "code",
   "execution_count": 10,
   "id": "381863be",
   "metadata": {},
   "outputs": [
    {
     "data": {
      "text/plain": [
       "'ay r '"
      ]
     },
     "execution_count": 10,
     "metadata": {},
     "output_type": "execute_result"
    }
   ],
   "source": [
    "str1[1:-10:2]"
   ]
  },
  {
   "cell_type": "code",
   "execution_count": 11,
   "id": "4f1c3f44",
   "metadata": {},
   "outputs": [
    {
     "data": {
      "text/plain": [
       "''"
      ]
     },
     "execution_count": 11,
     "metadata": {},
     "output_type": "execute_result"
    }
   ],
   "source": [
    "str1[-1:10:2]"
   ]
  },
  {
   "cell_type": "code",
   "execution_count": 12,
   "id": "3c684b73",
   "metadata": {},
   "outputs": [
    {
     "data": {
      "text/plain": [
       "'ay r '"
      ]
     },
     "execution_count": 12,
     "metadata": {},
     "output_type": "execute_result"
    }
   ],
   "source": [
    "str1[1:10:2]"
   ]
  },
  {
   "cell_type": "code",
   "execution_count": 13,
   "id": "9d2a7e9d",
   "metadata": {},
   "outputs": [
    {
     "data": {
      "text/plain": [
       "''"
      ]
     },
     "execution_count": 13,
     "metadata": {},
     "output_type": "execute_result"
    }
   ],
   "source": [
    "str1[1:10:-2]"
   ]
  },
  {
   "cell_type": "code",
   "execution_count": 1,
   "id": "f330ba4a",
   "metadata": {},
   "outputs": [
    {
     "ename": "SyntaxError",
     "evalue": "leading zeros in decimal integer literals are not permitted; use an 0o prefix for octal integers (1571813932.py, line 1)",
     "output_type": "error",
     "traceback": [
      "\u001b[1;36m  File \u001b[1;32m\"C:\\Users\\My world\\AppData\\Local\\Temp\\ipykernel_11172\\1571813932.py\"\u001b[1;36m, line \u001b[1;32m1\u001b[0m\n\u001b[1;33m    13-07-2024\u001b[0m\n\u001b[1;37m        ^\u001b[0m\n\u001b[1;31mSyntaxError\u001b[0m\u001b[1;31m:\u001b[0m leading zeros in decimal integer literals are not permitted; use an 0o prefix for octal integers\n"
     ]
    }
   ],
   "source": [
    "13-07-2024"
   ]
  },
  {
   "cell_type": "markdown",
   "id": "fbc96c60",
   "metadata": {},
   "source": [
    "$Pattern-2$\n",
    "\n",
    "str1[start:stop]\n",
    "\n",
    "- start value means by default start only\n",
    "\n",
    "- step is not mentioned postive direction \n",
    "\n",
    "- last = stop-1"
   ]
  },
  {
   "cell_type": "code",
   "execution_count": 2,
   "id": "af6d93c0",
   "metadata": {},
   "outputs": [
    {
     "data": {
      "text/plain": [
       "'ow are yo'"
      ]
     },
     "execution_count": 2,
     "metadata": {},
     "output_type": "execute_result"
    }
   ],
   "source": [
    "#-15  -14  -13  -12  -11  -10  -9  -8   -7  -6  -5  -4  -3  -2  -1\n",
    "# h    a     i        h    o    w       a   r    e        y   o  u\n",
    "# 0    1     2   3    4    5    6   7   8   9   10   11  12  13  14 \n",
    "\n",
    "str1='hai how are you'\n",
    "str1[5:14]"
   ]
  },
  {
   "cell_type": "code",
   "execution_count": 3,
   "id": "0f782ff4",
   "metadata": {},
   "outputs": [
    {
     "data": {
      "text/plain": [
       "'e yo'"
      ]
     },
     "execution_count": 3,
     "metadata": {},
     "output_type": "execute_result"
    }
   ],
   "source": [
    "str1[-5:14]\n",
    "# start=-5 \n",
    "# last = 14-1 =13   positive"
   ]
  },
  {
   "cell_type": "code",
   "execution_count": 4,
   "id": "df2b670a",
   "metadata": {},
   "outputs": [
    {
     "data": {
      "text/plain": [
       "'e yo'"
      ]
     },
     "execution_count": 4,
     "metadata": {},
     "output_type": "execute_result"
    }
   ],
   "source": [
    "str1[-5:14]"
   ]
  },
  {
   "cell_type": "code",
   "execution_count": 5,
   "id": "0483ae64",
   "metadata": {},
   "outputs": [
    {
     "data": {
      "text/plain": [
       "''"
      ]
     },
     "execution_count": 5,
     "metadata": {},
     "output_type": "execute_result"
    }
   ],
   "source": [
    "str1[-5:-14]   #  Postive"
   ]
  },
  {
   "cell_type": "markdown",
   "id": "b0c4788c",
   "metadata": {},
   "source": [
    "**Truncation behaviour**\n",
    "\n",
    "- when ever string range is limited, but we provided unlimited number\n",
    "\n",
    "- string will consider till the range we have\n",
    "\n",
    "- In the above example our range only 15 letters\n",
    "\n",
    "- we provided 500 , then 500 will truncate to till 15 letters only"
   ]
  },
  {
   "cell_type": "code",
   "execution_count": 9,
   "id": "d7b0f503",
   "metadata": {},
   "outputs": [
    {
     "data": {
      "text/plain": [
       "''"
      ]
     },
     "execution_count": 9,
     "metadata": {},
     "output_type": "execute_result"
    }
   ],
   "source": [
    "str1[5:500] #  Answer\n",
    "str1[-500:500] # Answer\n",
    "str1[-1:500]  # Answer\n",
    "str1[500:]    # no answer\n",
    "str1[-500:-100] # No answer"
   ]
  },
  {
   "cell_type": "code",
   "execution_count": 6,
   "id": "910a94b1",
   "metadata": {},
   "outputs": [
    {
     "data": {
      "text/plain": [
       "''"
      ]
     },
     "execution_count": 6,
     "metadata": {},
     "output_type": "execute_result"
    }
   ],
   "source": [
    "#-15  -14  -13  -12  -11  -10  -9  -8   -7  -6  -5  -4  -3  -2  -1\n",
    "# h    a     i        h    o    w       a   r    e        y   o  u\n",
    "# 0    1     2   3    4    5    6   7   8   9   10   11  12  13  14 \n",
    "str1='hai how are you'  # step is mentioned or not mentioned\n",
    "str1[5:14],   # Answer\n",
    "str1[-5:14],  #  Answer\n",
    "str1[5:-14],  # No answer\n",
    "str1[-5:-14]  # No answer"
   ]
  },
  {
   "cell_type": "markdown",
   "id": "51482aeb",
   "metadata": {},
   "source": [
    "$Pattern-3$\n",
    "**str1[start:stop:step]**\n",
    "\n",
    "- start value means start only\n",
    "\n",
    "- If step value positive\n",
    "\n",
    "    - last value= stop-1\n",
    "\n",
    "- If step value negative\n",
    "\n",
    "    - last value=stop+1"
   ]
  },
  {
   "cell_type": "code",
   "execution_count": 7,
   "id": "dabf2161",
   "metadata": {},
   "outputs": [
    {
     "data": {
      "text/plain": [
       "15"
      ]
     },
     "execution_count": 7,
     "metadata": {},
     "output_type": "execute_result"
    }
   ],
   "source": [
    "len(str1)"
   ]
  },
  {
   "cell_type": "code",
   "execution_count": 8,
   "id": "86066e23",
   "metadata": {},
   "outputs": [
    {
     "ename": "SyntaxError",
     "evalue": "invalid syntax (4045761963.py, line 3)",
     "output_type": "error",
     "traceback": [
      "\u001b[1;36m  File \u001b[1;32m\"C:\\Users\\My world\\AppData\\Local\\Temp\\ipykernel_11172\\4045761963.py\"\u001b[1;36m, line \u001b[1;32m3\u001b[0m\n\u001b[1;33m    y  e  s  h  w  a  n  t h\u001b[0m\n\u001b[1;37m       ^\u001b[0m\n\u001b[1;31mSyntaxError\u001b[0m\u001b[1;31m:\u001b[0m invalid syntax\n"
     ]
    }
   ],
   "source": [
    "str2='yeshwanth'\n",
    "\n",
    "y  e  s  h  w  a  n  t h\n",
    "0  1  2  3  4  5  6  7 8 "
   ]
  },
  {
   "cell_type": "code",
   "execution_count": 11,
   "id": "f805782f",
   "metadata": {},
   "outputs": [
    {
     "data": {
      "text/plain": [
       "''"
      ]
     },
     "execution_count": 11,
     "metadata": {},
     "output_type": "execute_result"
    }
   ],
   "source": [
    "#-15  -14  -13  -12  -11  -10  -9  -8   -7  -6  -5  -4  -3  -2  -1\n",
    "# h    a     i        h    o    w       a   r    e        y   o  u\n",
    "# 0    1     2   3    4    5    6   7   8   9   10   11  12  13  14 \n",
    "\n",
    "str1[2:13:2]  # P\n",
    "str1[2:13:-2] # NP \n",
    "str1[2:-13:2] # NP (CHECK)  str1[2:-13]  str1[2:3:2]  str1[2:2]\n",
    "str1[2:-13:-2] # NP (CHECK)\n",
    "str1[-2:13:2]  # NP (CHECK)\n",
    "str1[-2:-13:2] # NP\n",
    "str1[-2:-13:-2] # P\n",
    "str1[13:2:2] # NP\n",
    "str1[-13:2:2] # NP (CHECK)\n",
    "str1[-13:-2:2] # P\n",
    "str1[-13:-2:-2] # NP\n",
    "str1[-13:2:-2]  # NP(CHECK)"
   ]
  },
  {
   "cell_type": "markdown",
   "id": "bb6e0658",
   "metadata": {},
   "source": [
    "==================== PART-1=====================================\n",
    "- Intiaization\n",
    "\n",
    "- type\n",
    "\n",
    "- len\n",
    "\n",
    "- max\n",
    "\n",
    "- min\n",
    "\n",
    "- sorted\n",
    "\n",
    "- reveresed\n",
    "\n",
    "- in\n",
    "\n",
    "- for loop using in\n",
    "\n",
    "- index\n",
    "\n",
    "- for loop using index\n",
    "\n",
    "- mutable\n",
    "\n",
    "- concatenation\n",
    "\n",
    "- slice\n",
    "\n",
    "#================== PART-2=====================\n",
    "# Methods"
   ]
  },
  {
   "cell_type": "code",
   "execution_count": 13,
   "id": "71b207b5",
   "metadata": {},
   "outputs": [
    {
     "data": {
      "text/plain": [
       "'uyeaw'"
      ]
     },
     "execution_count": 13,
     "metadata": {},
     "output_type": "execute_result"
    }
   ],
   "source": [
    "#-15  -14  -13  -12  -11  -10  -9  -8   -7  -6  -5  -4  -3  -2  -1\n",
    "# h    a     i        h    o    w       a   r    e        y   o  u\n",
    "# 0    1     2   3    4    5    6   7   8   9   10   11  12  13  14 \n",
    "\n",
    "str1[:5:-2]  # start value  -1"
   ]
  },
  {
   "cell_type": "code",
   "execution_count": 14,
   "id": "ac77006d",
   "metadata": {},
   "outputs": [
    {
     "data": {
      "text/plain": [
       "''"
      ]
     },
     "execution_count": 14,
     "metadata": {},
     "output_type": "execute_result"
    }
   ],
   "source": [
    "str1[-13:2:2]  # postive direction    start value :0"
   ]
  },
  {
   "cell_type": "code",
   "execution_count": 15,
   "id": "287ae6df",
   "metadata": {},
   "outputs": [
    {
     "ename": "SyntaxError",
     "evalue": "invalid syntax (3082723056.py, line 3)",
     "output_type": "error",
     "traceback": [
      "\u001b[1;36m  File \u001b[1;32m\"C:\\Users\\My world\\AppData\\Local\\Temp\\ipykernel_11172\\3082723056.py\"\u001b[1;36m, line \u001b[1;32m3\u001b[0m\n\u001b[1;33m    str1[<start>::-1] # Reveres  start value=-1\u001b[0m\n\u001b[1;37m         ^\u001b[0m\n\u001b[1;31mSyntaxError\u001b[0m\u001b[1;31m:\u001b[0m invalid syntax\n"
     ]
    }
   ],
   "source": [
    "str1[:]  # Complete string\n",
    "str1[::] # Complete string\n",
    "str1[<start>::-1] # Reveres  start value=-1\n",
    "str1[<start>:5:-2]"
   ]
  },
  {
   "cell_type": "markdown",
   "id": "e8c99558",
   "metadata": {},
   "source": [
    "**Methods**\n",
    "\n",
    "- Strings lists tuple dictionary every data type has its own methods\n",
    "\n",
    "- We already seen that packages has different method\n",
    "\n",
    "- For example random package :  randint method\n",
    "\n",
    "- Math package : sqrt\n",
    "\n",
    "- In the same way strings also have methods\n",
    "\n",
    "- In order to see methods for the packages\n",
    "\n",
    "    - we are importing the package\n",
    "\n",
    "    - we are applying dir\n",
    "\n",
    "- In the similar way in order to see the methods of string , we need to apply dir only"
   ]
  },
  {
   "cell_type": "code",
   "execution_count": 16,
   "id": "b45d164e",
   "metadata": {},
   "outputs": [
    {
     "data": {
      "text/plain": [
       "['__add__',\n",
       " '__class__',\n",
       " '__contains__',\n",
       " '__delattr__',\n",
       " '__dir__',\n",
       " '__doc__',\n",
       " '__eq__',\n",
       " '__format__',\n",
       " '__ge__',\n",
       " '__getattribute__',\n",
       " '__getitem__',\n",
       " '__getnewargs__',\n",
       " '__gt__',\n",
       " '__hash__',\n",
       " '__init__',\n",
       " '__init_subclass__',\n",
       " '__iter__',\n",
       " '__le__',\n",
       " '__len__',\n",
       " '__lt__',\n",
       " '__mod__',\n",
       " '__mul__',\n",
       " '__ne__',\n",
       " '__new__',\n",
       " '__reduce__',\n",
       " '__reduce_ex__',\n",
       " '__repr__',\n",
       " '__rmod__',\n",
       " '__rmul__',\n",
       " '__setattr__',\n",
       " '__sizeof__',\n",
       " '__str__',\n",
       " '__subclasshook__',\n",
       " 'capitalize',\n",
       " 'casefold',\n",
       " 'center',\n",
       " 'count',\n",
       " 'encode',\n",
       " 'endswith',\n",
       " 'expandtabs',\n",
       " 'find',\n",
       " 'format',\n",
       " 'format_map',\n",
       " 'index',\n",
       " 'isalnum',\n",
       " 'isalpha',\n",
       " 'isascii',\n",
       " 'isdecimal',\n",
       " 'isdigit',\n",
       " 'isidentifier',\n",
       " 'islower',\n",
       " 'isnumeric',\n",
       " 'isprintable',\n",
       " 'isspace',\n",
       " 'istitle',\n",
       " 'isupper',\n",
       " 'join',\n",
       " 'ljust',\n",
       " 'lower',\n",
       " 'lstrip',\n",
       " 'maketrans',\n",
       " 'partition',\n",
       " 'removeprefix',\n",
       " 'removesuffix',\n",
       " 'replace',\n",
       " 'rfind',\n",
       " 'rindex',\n",
       " 'rjust',\n",
       " 'rpartition',\n",
       " 'rsplit',\n",
       " 'rstrip',\n",
       " 'split',\n",
       " 'splitlines',\n",
       " 'startswith',\n",
       " 'strip',\n",
       " 'swapcase',\n",
       " 'title',\n",
       " 'translate',\n",
       " 'upper',\n",
       " 'zfill']"
      ]
     },
     "execution_count": 16,
     "metadata": {},
     "output_type": "execute_result"
    }
   ],
   "source": [
    "dir('')  \n",
    "# dir('hai')\n",
    "# str1='apple'\n",
    "# dir(str1)"
   ]
  },
  {
   "cell_type": "markdown",
   "id": "5f6a75af",
   "metadata": {},
   "source": [
    "- lower\n",
    "\n",
    "- upper\n",
    "\n",
    "- capitalize\n",
    "\n",
    "- Title\n",
    "\n",
    "- casefold\n",
    "\n",
    "- Center"
   ]
  },
  {
   "cell_type": "markdown",
   "id": "ae8b2e35",
   "metadata": {},
   "source": [
    "**upper**"
   ]
  },
  {
   "cell_type": "code",
   "execution_count": 17,
   "id": "4f1114a3",
   "metadata": {},
   "outputs": [],
   "source": [
    "str1='hai how are you'\n"
   ]
  },
  {
   "cell_type": "code",
   "execution_count": 18,
   "id": "0e7587dc",
   "metadata": {},
   "outputs": [
    {
     "name": "stdout",
     "output_type": "stream",
     "text": [
      "Help on built-in function upper:\n",
      "\n",
      "upper() method of builtins.str instance\n",
      "    Return a copy of the string converted to uppercase.\n",
      "\n"
     ]
    }
   ],
   "source": [
    "type(str1)\n",
    "help(str1.upper)"
   ]
  },
  {
   "cell_type": "code",
   "execution_count": 19,
   "id": "622031f9",
   "metadata": {},
   "outputs": [
    {
     "data": {
      "text/plain": [
       "'HAI HOW ARE YOU'"
      ]
     },
     "execution_count": 19,
     "metadata": {},
     "output_type": "execute_result"
    }
   ],
   "source": [
    "str1.upper()"
   ]
  },
  {
   "cell_type": "code",
   "execution_count": 20,
   "id": "fa6eae37",
   "metadata": {},
   "outputs": [
    {
     "data": {
      "text/plain": [
       "'HAI HOW ARE YOU'"
      ]
     },
     "execution_count": 20,
     "metadata": {},
     "output_type": "execute_result"
    }
   ],
   "source": [
    "str1.upper()"
   ]
  },
  {
   "cell_type": "code",
   "execution_count": 21,
   "id": "8ac9a0ef",
   "metadata": {},
   "outputs": [
    {
     "data": {
      "text/plain": [
       "'HAI HOW ARE YOU'"
      ]
     },
     "execution_count": 21,
     "metadata": {},
     "output_type": "execute_result"
    }
   ],
   "source": [
    "str1='hai how are you'\n",
    "str1.upper()"
   ]
  },
  {
   "cell_type": "markdown",
   "id": "134aa5f7",
   "metadata": {},
   "source": [
    "**lower**"
   ]
  },
  {
   "cell_type": "code",
   "execution_count": 22,
   "id": "9eb802dd",
   "metadata": {},
   "outputs": [
    {
     "name": "stdout",
     "output_type": "stream",
     "text": [
      "Help on built-in function lower:\n",
      "\n",
      "lower() method of builtins.str instance\n",
      "    Return a copy of the string converted to lowercase.\n",
      "\n"
     ]
    }
   ],
   "source": [
    "help(str1.lower)"
   ]
  },
  {
   "cell_type": "code",
   "execution_count": 23,
   "id": "873c8e40",
   "metadata": {},
   "outputs": [
    {
     "data": {
      "text/plain": [
       "'hai how are you'"
      ]
     },
     "execution_count": 23,
     "metadata": {},
     "output_type": "execute_result"
    }
   ],
   "source": [
    "str1.lower()"
   ]
  },
  {
   "cell_type": "markdown",
   "id": "22a58dd1",
   "metadata": {},
   "source": [
    "**capitalize**"
   ]
  },
  {
   "cell_type": "code",
   "execution_count": 24,
   "id": "708d06ae",
   "metadata": {},
   "outputs": [
    {
     "data": {
      "text/plain": [
       "'Hai how are you'"
      ]
     },
     "execution_count": 24,
     "metadata": {},
     "output_type": "execute_result"
    }
   ],
   "source": [
    "str1.capitalize()"
   ]
  },
  {
   "cell_type": "markdown",
   "id": "114dec96",
   "metadata": {},
   "source": [
    "**casefold**"
   ]
  },
  {
   "cell_type": "code",
   "execution_count": 25,
   "id": "e31b1689",
   "metadata": {},
   "outputs": [
    {
     "data": {
      "text/plain": [
       "'hai how are you'"
      ]
     },
     "execution_count": 25,
     "metadata": {},
     "output_type": "execute_result"
    }
   ],
   "source": [
    "str1.casefold()"
   ]
  },
  {
   "cell_type": "markdown",
   "id": "d8533ede",
   "metadata": {},
   "source": [
    "**Title**"
   ]
  },
  {
   "cell_type": "code",
   "execution_count": 26,
   "id": "39dd6c4e",
   "metadata": {},
   "outputs": [
    {
     "data": {
      "text/plain": [
       "'Hai How Are You'"
      ]
     },
     "execution_count": 26,
     "metadata": {},
     "output_type": "execute_result"
    }
   ],
   "source": [
    "str1.title()"
   ]
  },
  {
   "cell_type": "code",
   "execution_count": null,
   "id": "f8a9757c",
   "metadata": {},
   "outputs": [],
   "source": [
    "# str1='hai how are you'\n",
    "# o/p = 'Hai How Are You'  \n",
    "# with out using any method\n",
    "# One more level : iterate each letter apply capitalize\n",
    "# scratch : ord char\n"
   ]
  },
  {
   "cell_type": "markdown",
   "id": "79823e7f",
   "metadata": {},
   "source": [
    "**center**"
   ]
  },
  {
   "cell_type": "code",
   "execution_count": 27,
   "id": "dca518af",
   "metadata": {},
   "outputs": [
    {
     "data": {
      "text/plain": [
       "'  hai how are you   '"
      ]
     },
     "execution_count": 27,
     "metadata": {},
     "output_type": "execute_result"
    }
   ],
   "source": [
    "str1.center(20)"
   ]
  },
  {
   "cell_type": "code",
   "execution_count": 28,
   "id": "d37579ad",
   "metadata": {},
   "outputs": [
    {
     "data": {
      "text/plain": [
       "20"
      ]
     },
     "execution_count": 28,
     "metadata": {},
     "output_type": "execute_result"
    }
   ],
   "source": [
    "len(str1.center(20))"
   ]
  },
  {
   "cell_type": "markdown",
   "id": "fd1e8508",
   "metadata": {},
   "source": [
    "- center has two arguments\n",
    "\n",
    "    - width\n",
    "\n",
    "    - fill char\n",
    "\n",
    "- original string alread : 15 lettters\n",
    "\n",
    "- we want to create a new string with 20 letters\n",
    "\n",
    "- Remaining 5 letters by default empty\n",
    "\n",
    "- we can fill with charcters also"
   ]
  },
  {
   "cell_type": "code",
   "execution_count": 29,
   "id": "496f1f91",
   "metadata": {},
   "outputs": [
    {
     "data": {
      "text/plain": [
       "'*****hai how are you******'"
      ]
     },
     "execution_count": 29,
     "metadata": {},
     "output_type": "execute_result"
    }
   ],
   "source": [
    "str1.center(26,'*')"
   ]
  },
  {
   "cell_type": "code",
   "execution_count": 30,
   "id": "31e943ba",
   "metadata": {},
   "outputs": [
    {
     "ename": "TypeError",
     "evalue": "center expected at least 1 argument, got 0",
     "output_type": "error",
     "traceback": [
      "\u001b[1;31m---------------------------------------------------------------------------\u001b[0m",
      "\u001b[1;31mTypeError\u001b[0m                                 Traceback (most recent call last)",
      "\u001b[1;32m~\\AppData\\Local\\Temp\\ipykernel_11172\\1509273600.py\u001b[0m in \u001b[0;36m<module>\u001b[1;34m\u001b[0m\n\u001b[1;32m----> 1\u001b[1;33m \u001b[0mstr1\u001b[0m\u001b[1;33m.\u001b[0m\u001b[0mcenter\u001b[0m\u001b[1;33m(\u001b[0m\u001b[1;33m)\u001b[0m\u001b[1;33m\u001b[0m\u001b[1;33m\u001b[0m\u001b[0m\n\u001b[0m",
      "\u001b[1;31mTypeError\u001b[0m: center expected at least 1 argument, got 0"
     ]
    }
   ],
   "source": [
    "str1.center()"
   ]
  },
  {
   "cell_type": "markdown",
   "id": "cf7bb297",
   "metadata": {},
   "source": [
    "- upper \n",
    "\n",
    "- lower\n",
    "\n",
    "- casefold\n",
    "\n",
    "- Title\n",
    "\n",
    "- Capitalize\n",
    "\n",
    "- Center"
   ]
  },
  {
   "cell_type": "code",
   "execution_count": null,
   "id": "3e309dff",
   "metadata": {},
   "outputs": [],
   "source": []
  },
  {
   "cell_type": "code",
   "execution_count": null,
   "id": "4ffec1f2",
   "metadata": {},
   "outputs": [],
   "source": []
  },
  {
   "cell_type": "code",
   "execution_count": null,
   "id": "bb538a58",
   "metadata": {},
   "outputs": [],
   "source": []
  },
  {
   "cell_type": "markdown",
   "id": "65b2bfaf",
   "metadata": {},
   "source": [
    "# count"
   ]
  },
  {
   "cell_type": "code",
   "execution_count": 14,
   "id": "ae42085e",
   "metadata": {},
   "outputs": [],
   "source": [
    "str1=\"hai how are you\"\n",
    "#how many 'a' s are there"
   ]
  },
  {
   "cell_type": "code",
   "execution_count": 17,
   "id": "53037bda",
   "metadata": {},
   "outputs": [
    {
     "name": "stdout",
     "output_type": "stream",
     "text": [
      "2\n"
     ]
    }
   ],
   "source": [
    "count=0\n",
    "for i in str1:\n",
    "    if i=='a':\n",
    "        count=count+1\n",
    "print(count)"
   ]
  },
  {
   "cell_type": "code",
   "execution_count": 16,
   "id": "f7046659",
   "metadata": {},
   "outputs": [
    {
     "data": {
      "text/plain": [
       "2"
      ]
     },
     "execution_count": 16,
     "metadata": {},
     "output_type": "execute_result"
    }
   ],
   "source": [
    "str1.count('a')"
   ]
  },
  {
   "cell_type": "code",
   "execution_count": 25,
   "id": "8897f6e2",
   "metadata": {},
   "outputs": [
    {
     "ename": "TypeError",
     "evalue": "count() takes at least 1 argument (0 given)",
     "output_type": "error",
     "traceback": [
      "\u001b[1;31m---------------------------------------------------------------------------\u001b[0m",
      "\u001b[1;31mTypeError\u001b[0m                                 Traceback (most recent call last)",
      "\u001b[1;32m~\\AppData\\Local\\Temp\\ipykernel_13044\\3859590404.py\u001b[0m in \u001b[0;36m<module>\u001b[1;34m\u001b[0m\n\u001b[1;32m----> 1\u001b[1;33m \u001b[0mstr1\u001b[0m\u001b[1;33m.\u001b[0m\u001b[0mcount\u001b[0m\u001b[1;33m(\u001b[0m\u001b[1;33m)\u001b[0m\u001b[1;33m\u001b[0m\u001b[1;33m\u001b[0m\u001b[0m\n\u001b[0m",
      "\u001b[1;31mTypeError\u001b[0m: count() takes at least 1 argument (0 given)"
     ]
    }
   ],
   "source": [
    "str1.count()"
   ]
  },
  {
   "cell_type": "code",
   "execution_count": 19,
   "id": "3c6dc0f6",
   "metadata": {},
   "outputs": [
    {
     "data": {
      "text/plain": [
       "2"
      ]
     },
     "execution_count": 19,
     "metadata": {},
     "output_type": "execute_result"
    }
   ],
   "source": [
    "str1=\"hai how are you\"\n",
    "str1.count('a')"
   ]
  },
  {
   "cell_type": "code",
   "execution_count": 21,
   "id": "cf72d3bb",
   "metadata": {},
   "outputs": [
    {
     "data": {
      "text/plain": [
       "3"
      ]
     },
     "execution_count": 21,
     "metadata": {},
     "output_type": "execute_result"
    }
   ],
   "source": [
    "str1='hai hai hai'\n",
    "str1.count(str1[10])"
   ]
  },
  {
   "cell_type": "markdown",
   "id": "f6c71b20",
   "metadata": {},
   "source": [
    "- we want number from a specific index\n",
    "- we want number between two indexes"
   ]
  },
  {
   "cell_type": "code",
   "execution_count": 22,
   "id": "dd55ab27",
   "metadata": {},
   "outputs": [
    {
     "data": {
      "text/plain": [
       "2"
      ]
     },
     "execution_count": 22,
     "metadata": {},
     "output_type": "execute_result"
    }
   ],
   "source": [
    "str1.count('a',3)"
   ]
  },
  {
   "cell_type": "code",
   "execution_count": 23,
   "id": "463727b5",
   "metadata": {},
   "outputs": [
    {
     "data": {
      "text/plain": [
       "2"
      ]
     },
     "execution_count": 23,
     "metadata": {},
     "output_type": "execute_result"
    }
   ],
   "source": [
    "str1.count('a',5)"
   ]
  },
  {
   "cell_type": "code",
   "execution_count": null,
   "id": "e784735f",
   "metadata": {},
   "outputs": [],
   "source": [
    "#here we are searching number of 'a' s from a particular index"
   ]
  },
  {
   "cell_type": "code",
   "execution_count": 26,
   "id": "bcbef50d",
   "metadata": {},
   "outputs": [
    {
     "data": {
      "text/plain": [
       "1"
      ]
     },
     "execution_count": 26,
     "metadata": {},
     "output_type": "execute_result"
    }
   ],
   "source": [
    "str1.count('a',5,8)#between two indexes"
   ]
  },
  {
   "cell_type": "code",
   "execution_count": 27,
   "id": "40397357",
   "metadata": {},
   "outputs": [
    {
     "data": {
      "text/plain": [
       "0"
      ]
     },
     "execution_count": 27,
     "metadata": {},
     "output_type": "execute_result"
    }
   ],
   "source": [
    "#reverse \n",
    "str1.count('a',-5,-8)"
   ]
  },
  {
   "cell_type": "code",
   "execution_count": 28,
   "id": "084ec885",
   "metadata": {},
   "outputs": [
    {
     "data": {
      "text/plain": [
       "1"
      ]
     },
     "execution_count": 28,
     "metadata": {},
     "output_type": "execute_result"
    }
   ],
   "source": [
    "str1.count('a',-8,-5)"
   ]
  },
  {
   "cell_type": "code",
   "execution_count": 29,
   "id": "8abc4b0b",
   "metadata": {},
   "outputs": [
    {
     "data": {
      "text/plain": [
       "3"
      ]
     },
     "execution_count": 29,
     "metadata": {},
     "output_type": "execute_result"
    }
   ],
   "source": [
    "str1='ola ola ola'\n",
    "str1.count('ola')"
   ]
  },
  {
   "cell_type": "code",
   "execution_count": null,
   "id": "b5c21aae",
   "metadata": {},
   "outputs": [],
   "source": [
    "#in interviews they ask without using methods"
   ]
  },
  {
   "cell_type": "code",
   "execution_count": 32,
   "id": "aed6d3ea",
   "metadata": {},
   "outputs": [],
   "source": [
    "str2='ola ola ola'\n",
    "count=0\n",
    "for i in str2:\n",
    "    if i=='ola':\n",
    "        print(i)"
   ]
  },
  {
   "cell_type": "code",
   "execution_count": null,
   "id": "d08de301",
   "metadata": {},
   "outputs": [],
   "source": [
    "#window method"
   ]
  },
  {
   "cell_type": "code",
   "execution_count": 33,
   "id": "069ba0b8",
   "metadata": {},
   "outputs": [
    {
     "ename": "TypeError",
     "evalue": "can only concatenate str (not \"int\") to str",
     "output_type": "error",
     "traceback": [
      "\u001b[1;31m---------------------------------------------------------------------------\u001b[0m",
      "\u001b[1;31mTypeError\u001b[0m                                 Traceback (most recent call last)",
      "\u001b[1;32m~\\AppData\\Local\\Temp\\ipykernel_13044\\2121034396.py\u001b[0m in \u001b[0;36m<module>\u001b[1;34m\u001b[0m\n\u001b[1;32m----> 1\u001b[1;33m \u001b[0mstr2\u001b[0m\u001b[1;33m[\u001b[0m\u001b[0mi\u001b[0m\u001b[1;33m:\u001b[0m\u001b[0mi\u001b[0m\u001b[1;33m+\u001b[0m\u001b[1;36m3\u001b[0m\u001b[1;33m]\u001b[0m\u001b[1;33m\u001b[0m\u001b[1;33m\u001b[0m\u001b[0m\n\u001b[0m\u001b[0;32m      2\u001b[0m \u001b[0mstr2\u001b[0m\u001b[1;33m[\u001b[0m\u001b[1;36m0\u001b[0m\u001b[1;33m:\u001b[0m\u001b[1;36m3\u001b[0m\u001b[1;33m]\u001b[0m \u001b[1;31m#i=0\u001b[0m\u001b[1;33m\u001b[0m\u001b[1;33m\u001b[0m\u001b[0m\n\u001b[0;32m      3\u001b[0m \u001b[0mstr2\u001b[0m\u001b[1;33m[\u001b[0m\u001b[1;36m1\u001b[0m\u001b[1;33m:\u001b[0m\u001b[1;36m4\u001b[0m\u001b[1;33m]\u001b[0m\u001b[1;31m#i=1\u001b[0m\u001b[1;33m\u001b[0m\u001b[1;33m\u001b[0m\u001b[0m\n",
      "\u001b[1;31mTypeError\u001b[0m: can only concatenate str (not \"int\") to str"
     ]
    }
   ],
   "source": [
    "str2[i:i+3]\n",
    "str2[0:3] #i=0\n",
    "str2[1:4]#i=1\n"
   ]
  },
  {
   "cell_type": "code",
   "execution_count": 34,
   "id": "092024fc",
   "metadata": {},
   "outputs": [
    {
     "name": "stdout",
     "output_type": "stream",
     "text": [
      "3\n"
     ]
    }
   ],
   "source": [
    "str1='ola ola ola'\n",
    "count=0\n",
    "for i in range(len(str1)):\n",
    "    if str1[i:i+3]=='ola':\n",
    "        count=count+1\n",
    "print(count)"
   ]
  },
  {
   "cell_type": "code",
   "execution_count": 35,
   "id": "01067b50",
   "metadata": {},
   "outputs": [
    {
     "data": {
      "text/plain": [
       "1"
      ]
     },
     "execution_count": 35,
     "metadata": {},
     "output_type": "execute_result"
    }
   ],
   "source": [
    "str1='ola ola ola'\n",
    "str1.count('ola ola')"
   ]
  },
  {
   "cell_type": "code",
   "execution_count": 36,
   "id": "7b639592",
   "metadata": {},
   "outputs": [
    {
     "data": {
      "text/plain": [
       "1"
      ]
     },
     "execution_count": 36,
     "metadata": {},
     "output_type": "execute_result"
    }
   ],
   "source": [
    "str1='ola ola ola'\n",
    "str1.count('ola ola ola')"
   ]
  },
  {
   "cell_type": "code",
   "execution_count": 37,
   "id": "c15e1aec",
   "metadata": {},
   "outputs": [
    {
     "data": {
      "text/plain": [
       "1"
      ]
     },
     "execution_count": 37,
     "metadata": {},
     "output_type": "execute_result"
    }
   ],
   "source": [
    "str1='ola ola ola'\n",
    "str1.count(str1)"
   ]
  },
  {
   "cell_type": "markdown",
   "id": "e9d88a5f",
   "metadata": {},
   "source": [
    "**Window method**"
   ]
  },
  {
   "cell_type": "code",
   "execution_count": null,
   "id": "f955cbf4",
   "metadata": {},
   "outputs": [],
   "source": [
    "str1[i:i+3]\n",
    "i=0   str1[0:3]  === > ola\n",
    "i=1   str1[1:4]  ==== > la \n",
    "i=2"
   ]
  },
  {
   "cell_type": "code",
   "execution_count": 31,
   "id": "7c602b6f",
   "metadata": {},
   "outputs": [],
   "source": [
    "str1='ola ola ola'\n",
    "count=0\n",
    "for i in range(len(str1)):\n",
    "    if str1[i:i+3]=='ola':\n",
    "        count=count+1\n",
    "\n",
    "# step-1: count=0   i =0  str1[0:3]=='ola'  True  count=1\n",
    "# step-2:           i=1   str1[1:4]=='ola'  F"
   ]
  },
  {
   "cell_type": "code",
   "execution_count": 32,
   "id": "4a1caf18",
   "metadata": {},
   "outputs": [
    {
     "data": {
      "text/plain": [
       "1"
      ]
     },
     "execution_count": 32,
     "metadata": {},
     "output_type": "execute_result"
    }
   ],
   "source": [
    "str1='ola ola ola'\n",
    "str1.count('ola ola ola')"
   ]
  },
  {
   "cell_type": "code",
   "execution_count": 33,
   "id": "8e7ecb1c",
   "metadata": {},
   "outputs": [
    {
     "data": {
      "text/plain": [
       "1"
      ]
     },
     "execution_count": 33,
     "metadata": {},
     "output_type": "execute_result"
    }
   ],
   "source": [
    "str1='ola ola ola'\n",
    "str1.count(str1)"
   ]
  },
  {
   "cell_type": "code",
   "execution_count": 34,
   "id": "5061a800",
   "metadata": {},
   "outputs": [
    {
     "data": {
      "text/plain": [
       "0"
      ]
     },
     "execution_count": 34,
     "metadata": {},
     "output_type": "execute_result"
    }
   ],
   "source": [
    "str1.count('z')\n",
    "# No answer ''\n",
    "# Error\n",
    "# 0\n",
    "# NT"
   ]
  },
  {
   "cell_type": "code",
   "execution_count": null,
   "id": "10a3073c",
   "metadata": {},
   "outputs": [],
   "source": []
  },
  {
   "cell_type": "code",
   "execution_count": null,
   "id": "60621273",
   "metadata": {},
   "outputs": [],
   "source": []
  },
  {
   "cell_type": "markdown",
   "id": "32e0f5b7",
   "metadata": {},
   "source": [
    "**replace**"
   ]
  },
  {
   "cell_type": "code",
   "execution_count": 39,
   "id": "46753650",
   "metadata": {},
   "outputs": [
    {
     "data": {
      "text/plain": [
       "'weLcome'"
      ]
     },
     "execution_count": 39,
     "metadata": {},
     "output_type": "execute_result"
    }
   ],
   "source": [
    "str1='welcome'\n",
    "#want to replace 'l' with 'L'\n",
    "#we know that strings are immutable\n",
    "#we cannot use index operations also\n",
    "#slice and concatenation\n",
    "#divide we come\n",
    "#s1='we'\n",
    "#s2='come'\n",
    "#s1+'L'+s2\n",
    "s1=str1[0:2]\n",
    "s2=str1[3:]\n",
    "ans= s1+\"L\"+s2\n",
    "ans"
   ]
  },
  {
   "cell_type": "code",
   "execution_count": 40,
   "id": "5618cba1",
   "metadata": {},
   "outputs": [
    {
     "data": {
      "text/plain": [
       "108"
      ]
     },
     "execution_count": 40,
     "metadata": {},
     "output_type": "execute_result"
    }
   ],
   "source": [
    "ord('l')"
   ]
  },
  {
   "cell_type": "code",
   "execution_count": 41,
   "id": "5cc3a50f",
   "metadata": {},
   "outputs": [
    {
     "data": {
      "text/plain": [
       "'L'"
      ]
     },
     "execution_count": 41,
     "metadata": {},
     "output_type": "execute_result"
    }
   ],
   "source": [
    "chr(ord('l')-32)"
   ]
  },
  {
   "cell_type": "code",
   "execution_count": 43,
   "id": "7e6e12be",
   "metadata": {},
   "outputs": [
    {
     "data": {
      "text/plain": [
       "'weLcome'"
      ]
     },
     "execution_count": 43,
     "metadata": {},
     "output_type": "execute_result"
    }
   ],
   "source": [
    "str1='welcome'\n",
    "str1.replace('l','L')"
   ]
  },
  {
   "cell_type": "code",
   "execution_count": 44,
   "id": "c852001a",
   "metadata": {},
   "outputs": [
    {
     "data": {
      "text/plain": [
       "'weLLcome'"
      ]
     },
     "execution_count": 44,
     "metadata": {},
     "output_type": "execute_result"
    }
   ],
   "source": [
    "str1='wellcome'\n",
    "str1.replace('l','L')"
   ]
  },
  {
   "cell_type": "code",
   "execution_count": 45,
   "id": "88f9c378",
   "metadata": {},
   "outputs": [
    {
     "data": {
      "text/plain": [
       "'weLlcome'"
      ]
     },
     "execution_count": 45,
     "metadata": {},
     "output_type": "execute_result"
    }
   ],
   "source": [
    "str1='wellcome'\n",
    "str1.replace('l','L',1)"
   ]
  },
  {
   "cell_type": "code",
   "execution_count": 46,
   "id": "dee5aab5",
   "metadata": {},
   "outputs": [],
   "source": [
    "#when we write count=1\n",
    "#it will change only one letter\n",
    "#that to first occurrencee only"
   ]
  },
  {
   "cell_type": "code",
   "execution_count": 51,
   "id": "56b8a504",
   "metadata": {},
   "outputs": [
    {
     "data": {
      "text/plain": [
       "'$estart'"
      ]
     },
     "execution_count": 51,
     "metadata": {},
     "output_type": "execute_result"
    }
   ],
   "source": [
    "str1='restart'\n",
    "str1.replace('r','$',1)"
   ]
  },
  {
   "cell_type": "code",
   "execution_count": 54,
   "id": "ca5fba07",
   "metadata": {},
   "outputs": [
    {
     "name": "stdout",
     "output_type": "stream",
     "text": [
      "resta$t\n"
     ]
    }
   ],
   "source": [
    "str1='restart'\n",
    "s1=str1[0:5]\n",
    "s2=str1[5:]\n",
    "print(s1+s2.replace('r','$',1))"
   ]
  },
  {
   "cell_type": "code",
   "execution_count": 55,
   "id": "f56e40be",
   "metadata": {},
   "outputs": [
    {
     "name": "stdout",
     "output_type": "stream",
     "text": [
      "resta$t\n"
     ]
    }
   ],
   "source": [
    "str1='restart'\n",
    "s1=str1[:1]\n",
    "s2=str1[1:]\n",
    "print(s1+s2.replace('r','$'))"
   ]
  },
  {
   "cell_type": "code",
   "execution_count": 57,
   "id": "a238b6dc",
   "metadata": {},
   "outputs": [
    {
     "data": {
      "text/plain": [
       "'resta$t'"
      ]
     },
     "execution_count": 57,
     "metadata": {},
     "output_type": "execute_result"
    }
   ],
   "source": [
    "str1='restart'\n",
    "str1[::-1].replace('r','$',1)[::-1]"
   ]
  },
  {
   "cell_type": "code",
   "execution_count": 59,
   "id": "763ce535",
   "metadata": {},
   "outputs": [
    {
     "data": {
      "text/plain": [
       "['__add__',\n",
       " '__class__',\n",
       " '__contains__',\n",
       " '__delattr__',\n",
       " '__dir__',\n",
       " '__doc__',\n",
       " '__eq__',\n",
       " '__format__',\n",
       " '__ge__',\n",
       " '__getattribute__',\n",
       " '__getitem__',\n",
       " '__getnewargs__',\n",
       " '__gt__',\n",
       " '__hash__',\n",
       " '__init__',\n",
       " '__init_subclass__',\n",
       " '__iter__',\n",
       " '__le__',\n",
       " '__len__',\n",
       " '__lt__',\n",
       " '__mod__',\n",
       " '__mul__',\n",
       " '__ne__',\n",
       " '__new__',\n",
       " '__reduce__',\n",
       " '__reduce_ex__',\n",
       " '__repr__',\n",
       " '__rmod__',\n",
       " '__rmul__',\n",
       " '__setattr__',\n",
       " '__sizeof__',\n",
       " '__str__',\n",
       " '__subclasshook__',\n",
       " 'capitalize',\n",
       " 'casefold',\n",
       " 'center',\n",
       " 'count',\n",
       " 'encode',\n",
       " 'endswith',\n",
       " 'expandtabs',\n",
       " 'find',\n",
       " 'format',\n",
       " 'format_map',\n",
       " 'index',\n",
       " 'isalnum',\n",
       " 'isalpha',\n",
       " 'isascii',\n",
       " 'isdecimal',\n",
       " 'isdigit',\n",
       " 'isidentifier',\n",
       " 'islower',\n",
       " 'isnumeric',\n",
       " 'isprintable',\n",
       " 'isspace',\n",
       " 'istitle',\n",
       " 'isupper',\n",
       " 'join',\n",
       " 'ljust',\n",
       " 'lower',\n",
       " 'lstrip',\n",
       " 'maketrans',\n",
       " 'partition',\n",
       " 'removeprefix',\n",
       " 'removesuffix',\n",
       " 'replace',\n",
       " 'rfind',\n",
       " 'rindex',\n",
       " 'rjust',\n",
       " 'rpartition',\n",
       " 'rsplit',\n",
       " 'rstrip',\n",
       " 'split',\n",
       " 'splitlines',\n",
       " 'startswith',\n",
       " 'strip',\n",
       " 'swapcase',\n",
       " 'title',\n",
       " 'translate',\n",
       " 'upper',\n",
       " 'zfill']"
      ]
     },
     "execution_count": 59,
     "metadata": {},
     "output_type": "execute_result"
    }
   ],
   "source": [
    "dir(str)"
   ]
  },
  {
   "cell_type": "markdown",
   "id": "eec64d45",
   "metadata": {},
   "source": [
    "- By defualt replace will change all the occurences\n",
    "\n",
    "- count= -1  is responsible for that\n",
    "\n",
    "- whcih means we can provide some count also, which how many I want to change\n",
    "\n",
    "- Give welllcome  and change count=1  and count=2 explore it"
   ]
  },
  {
   "cell_type": "code",
   "execution_count": 35,
   "id": "a9b1dfa6",
   "metadata": {},
   "outputs": [
    {
     "data": {
      "text/plain": [
       "'weLllcome'"
      ]
     },
     "execution_count": 35,
     "metadata": {},
     "output_type": "execute_result"
    }
   ],
   "source": [
    "str1='welllcome'\n",
    "str1.replace('l','L',1)  # old='l', new ='L'  count=1\n",
    "\n",
    "# when we write count=1 \n",
    "# It will change only one letter\n",
    "# that to first occurence only"
   ]
  },
  {
   "cell_type": "code",
   "execution_count": 36,
   "id": "316f3490",
   "metadata": {},
   "outputs": [
    {
     "data": {
      "text/plain": [
       "'weLLlcome'"
      ]
     },
     "execution_count": 36,
     "metadata": {},
     "output_type": "execute_result"
    }
   ],
   "source": [
    "str1='welllcome'\n",
    "str1.replace('l','L',2) "
   ]
  },
  {
   "cell_type": "code",
   "execution_count": 37,
   "id": "a765037f",
   "metadata": {},
   "outputs": [
    {
     "data": {
      "text/plain": [
       "'resta$t'"
      ]
     },
     "execution_count": 37,
     "metadata": {},
     "output_type": "execute_result"
    }
   ],
   "source": [
    "# Str1='restart'\n",
    "# i/p= 'resta$t'\n",
    "str1='restart'\n",
    "s1=str1[:1]\n",
    "s2=str1[1:]\n",
    "s3=s2.replace('r','$')\n",
    "s1+s3"
   ]
  },
  {
   "cell_type": "code",
   "execution_count": null,
   "id": "a6696b12",
   "metadata": {},
   "outputs": [],
   "source": [
    "Q. Why is replacing -1 is replaced at all places. str1='welllcome'\n",
    "str1.replace('l','L',-1)\n",
    "# Flag=-1  True Flase ALL N"
   ]
  },
  {
   "cell_type": "code",
   "execution_count": 38,
   "id": "b9e0a652",
   "metadata": {},
   "outputs": [
    {
     "data": {
      "text/plain": [
       "'resta$t'"
      ]
     },
     "execution_count": 38,
     "metadata": {},
     "output_type": "execute_result"
    }
   ],
   "source": [
    "str1='restart'  # This case\n",
    "str1[::-1].replace('r','$',1)[::-1]"
   ]
  },
  {
   "cell_type": "markdown",
   "id": "6d7d23d2",
   "metadata": {},
   "source": [
    "**index-find**"
   ]
  },
  {
   "cell_type": "markdown",
   "id": "36f634fd",
   "metadata": {},
   "source": [
    "- Upper\n",
    "\n",
    "- lower\n",
    "\n",
    "- casefold\n",
    "\n",
    "- title\n",
    "\n",
    "- capitalize\n",
    "\n",
    "- count\n",
    "\n",
    "- replace\n",
    "\n",
    "- index-find\n",
    "\n",
    "- split\n",
    "\n",
    "- strip\n",
    "\n",
    "- startswith"
   ]
  },
  {
   "cell_type": "code",
   "execution_count": null,
   "id": "2801fedd",
   "metadata": {},
   "outputs": [],
   "source": [
    "'isalnum',\n",
    "'isalpha',\n",
    "'isascii',\n",
    "'isdecimal',\n",
    "'isdigit',\n",
    "'isidentifier',\n",
    "'islower',\n",
    "'isnumeric',\n",
    "'isprintable',\n",
    "'isspace',\n",
    "'istitle',\n",
    "'isupper',"
   ]
  },
  {
   "cell_type": "code",
   "execution_count": 39,
   "id": "a46bf6ee",
   "metadata": {},
   "outputs": [
    {
     "data": {
      "text/plain": [
       "True"
      ]
     },
     "execution_count": 39,
     "metadata": {},
     "output_type": "execute_result"
    }
   ],
   "source": [
    "str1='HELLO'\n",
    "str1.isupper()"
   ]
  },
  {
   "cell_type": "code",
   "execution_count": 40,
   "id": "7d2ca6f5",
   "metadata": {},
   "outputs": [
    {
     "data": {
      "text/plain": [
       "False"
      ]
     },
     "execution_count": 40,
     "metadata": {},
     "output_type": "execute_result"
    }
   ],
   "source": [
    "str1='hello'\n",
    "str1.isupper()"
   ]
  },
  {
   "cell_type": "markdown",
   "id": "c784730d",
   "metadata": {},
   "source": [
    "**Index**\n",
    "\n",
    "- index says that it will give the index of any letter in a given string\n",
    "\n",
    "- we already seen about count: Count will give how many letters are there in a string\n",
    "\n",
    "    - at what index you want to count\n",
    " \n",
    "    - between indexes also we can count the letters\n",
    " \n",
    "- index meaning it will provide the index\n",
    "\n",
    "- imagine that there same letters repeated\n",
    "\n",
    "- how can we find the next index"
   ]
  },
  {
   "cell_type": "code",
   "execution_count": 41,
   "id": "f0cf3716",
   "metadata": {},
   "outputs": [
    {
     "data": {
      "text/plain": [
       "1"
      ]
     },
     "execution_count": 41,
     "metadata": {},
     "output_type": "execute_result"
    }
   ],
   "source": [
    "#h  a   i     h   a  i    h  a  i\n",
    "#0  1   2  3  4  5  6  7 8 9 10\n",
    "str1= 'hai hai hai'\n",
    "str1.index('a')\n",
    "# Return the lowest index in S where substring sub is found,"
   ]
  },
  {
   "cell_type": "code",
   "execution_count": 42,
   "id": "0f60e371",
   "metadata": {},
   "outputs": [
    {
     "data": {
      "text/plain": [
       "5"
      ]
     },
     "execution_count": 42,
     "metadata": {},
     "output_type": "execute_result"
    }
   ],
   "source": [
    "# I want to know next 'a' index after 3rd index\n",
    "str1= 'hai hai hai'\n",
    "str1.index('a',3)"
   ]
  },
  {
   "cell_type": "code",
   "execution_count": 43,
   "id": "94530587",
   "metadata": {},
   "outputs": [
    {
     "data": {
      "text/plain": [
       "5"
      ]
     },
     "execution_count": 43,
     "metadata": {},
     "output_type": "execute_result"
    }
   ],
   "source": [
    "# I want to know 'a' index between 3rd and 7th index\n",
    "#h  a   i     h   a  i    h  a  i\n",
    "#0  1   2  3  4  5  6  7 8 9 10\n",
    "str1= 'hai hai hai'\n",
    "str1.index('a',3,7)"
   ]
  },
  {
   "cell_type": "code",
   "execution_count": 44,
   "id": "4a2c5646",
   "metadata": {},
   "outputs": [
    {
     "data": {
      "text/plain": [
       "5"
      ]
     },
     "execution_count": 44,
     "metadata": {},
     "output_type": "execute_result"
    }
   ],
   "source": [
    "# I always a Return a lowest index only\n",
    "str1= 'hai hai hai'\n",
    "str1.index('a')      # among all the indexes the lowset index is '1' \n",
    "\n",
    "str1= 'hai hai hai'\n",
    "str1.index('a',3)   # after 3rd index the lowset index of a is '5'\n",
    "\n",
    "str1= 'hai hai hai'\n",
    "str1.index('a',3,7)  # Between 3-7 index the lowset index is '5' only"
   ]
  },
  {
   "cell_type": "code",
   "execution_count": 45,
   "id": "7068adec",
   "metadata": {},
   "outputs": [
    {
     "data": {
      "text/plain": [
       "9"
      ]
     },
     "execution_count": 45,
     "metadata": {},
     "output_type": "execute_result"
    }
   ],
   "source": [
    "str1= 'hai hai hai'\n",
    "str1.index('a',-3,-1)      # among all the indexes the lowset index is '1' \n"
   ]
  },
  {
   "cell_type": "code",
   "execution_count": 46,
   "id": "e511b0c1",
   "metadata": {},
   "outputs": [
    {
     "data": {
      "text/plain": [
       "5"
      ]
     },
     "execution_count": 46,
     "metadata": {},
     "output_type": "execute_result"
    }
   ],
   "source": [
    "# -11  -10   -9  -8  -7  -6  -5  -4  -3  -2  -1\n",
    "# h     a     i       h   a  i        h   a   i\n",
    "# 0     1     2  3    4   5  6   7     8  9 10\n",
    "\n",
    "str1= 'hai hai hai'\n",
    "str1.index('a',-9,-4)      # among all the indexes the lowset index is '1' "
   ]
  },
  {
   "cell_type": "code",
   "execution_count": 47,
   "id": "c4baa8b7",
   "metadata": {},
   "outputs": [
    {
     "ename": "ValueError",
     "evalue": "substring not found",
     "output_type": "error",
     "traceback": [
      "\u001b[1;31m---------------------------------------------------------------------------\u001b[0m",
      "\u001b[1;31mValueError\u001b[0m                                Traceback (most recent call last)",
      "\u001b[1;32m~\\AppData\\Local\\Temp\\ipykernel_11172\\3019890165.py\u001b[0m in \u001b[0;36m<module>\u001b[1;34m\u001b[0m\n\u001b[0;32m      1\u001b[0m \u001b[0mstr\u001b[0m\u001b[1;33m=\u001b[0m\u001b[1;34m'hai hai hai'\u001b[0m\u001b[1;33m\u001b[0m\u001b[1;33m\u001b[0m\u001b[0m\n\u001b[1;32m----> 2\u001b[1;33m \u001b[0mprint\u001b[0m\u001b[1;33m(\u001b[0m\u001b[0mstr\u001b[0m\u001b[1;33m.\u001b[0m\u001b[0mindex\u001b[0m\u001b[1;33m(\u001b[0m\u001b[1;34m'a'\u001b[0m\u001b[1;33m,\u001b[0m\u001b[1;33m-\u001b[0m\u001b[1;36m9\u001b[0m\u001b[1;33m,\u001b[0m\u001b[1;33m-\u001b[0m\u001b[1;36m6\u001b[0m\u001b[1;33m)\u001b[0m\u001b[1;33m)\u001b[0m\u001b[1;33m\u001b[0m\u001b[1;33m\u001b[0m\u001b[0m\n\u001b[0m\u001b[0;32m      3\u001b[0m \u001b[1;31m# Postive direction\u001b[0m\u001b[1;33m\u001b[0m\u001b[1;33m\u001b[0m\u001b[0m\n\u001b[0;32m      4\u001b[0m \u001b[1;31m# start= start = -9\u001b[0m\u001b[1;33m\u001b[0m\u001b[1;33m\u001b[0m\u001b[0m\n\u001b[0;32m      5\u001b[0m \u001b[1;31m# last =end-1 = -6-1= -7\u001b[0m\u001b[1;33m\u001b[0m\u001b[1;33m\u001b[0m\u001b[0m\n",
      "\u001b[1;31mValueError\u001b[0m: substring not found"
     ]
    }
   ],
   "source": [
    "str='hai hai hai'\n",
    "print(str.index('a',-9,-6))\n",
    "# Postive direction\n",
    "# start= start = -9\n",
    "# last =end-1 = -6-1= -7\n",
    "# -9 -8 -7\n",
    "#  i     h  \n",
    "# there is no 'a'"
   ]
  },
  {
   "cell_type": "code",
   "execution_count": 48,
   "id": "82eac70f",
   "metadata": {},
   "outputs": [
    {
     "name": "stdout",
     "output_type": "stream",
     "text": [
      "3\n",
      "2\n",
      "1\n"
     ]
    }
   ],
   "source": [
    "# -11  -10   -9  -8  -7  -6  -5  -4  -3  -2  -1\n",
    "# h     a     i       h   a  i        h   a   i\n",
    "# 0     1     2  3    4   5  6   7     8  9 10\n",
    "str1= 'hai hai hai'\n",
    "print(str1.count('a')) \n",
    "print(str1.count('a',3))\n",
    "print(str1.count('a',3,7)) "
   ]
  },
  {
   "cell_type": "code",
   "execution_count": 49,
   "id": "62fce57e",
   "metadata": {},
   "outputs": [
    {
     "name": "stdout",
     "output_type": "stream",
     "text": [
      "1\n",
      "5\n",
      "5\n"
     ]
    }
   ],
   "source": [
    "# -11  -10   -9  -8  -7  -6  -5  -4  -3  -2  -1\n",
    "# h     a     i       h   a  i        h   a   i\n",
    "# 0     1     2  3    4   5  6   7     8  9 10\n",
    "str1= 'hai hai hai'\n",
    "print(str1.index('a')) \n",
    "print(str1.index('a',3))\n",
    "print(str1.index('a',3,7)) "
   ]
  },
  {
   "cell_type": "code",
   "execution_count": 50,
   "id": "8b279ce7",
   "metadata": {},
   "outputs": [
    {
     "ename": "SyntaxError",
     "evalue": "invalid syntax (1864713081.py, line 1)",
     "output_type": "error",
     "traceback": [
      "\u001b[1;36m  File \u001b[1;32m\"C:\\Users\\My world\\AppData\\Local\\Temp\\ipykernel_11172\\1864713081.py\"\u001b[1;36m, line \u001b[1;32m1\u001b[0m\n\u001b[1;33m    Sir, yesterday assignment methods are string methods right?\u001b[0m\n\u001b[1;37m                                                              ^\u001b[0m\n\u001b[1;31mSyntaxError\u001b[0m\u001b[1;31m:\u001b[0m invalid syntax\n"
     ]
    }
   ],
   "source": [
    "Sir, yesterday assignment methods are string methods right? \n",
    "Why those are not visible in string package? Those are visible with dir('') not with dir(string)\n",
    "\n",
    "import string\n",
    "name='praveen'\n",
    "dir(name)  \n",
    "dir(string)"
   ]
  },
  {
   "cell_type": "code",
   "execution_count": 51,
   "id": "dea4d3e0",
   "metadata": {},
   "outputs": [
    {
     "name": "stdout",
     "output_type": "stream",
     "text": [
      "1\n",
      "5\n",
      "9\n"
     ]
    }
   ],
   "source": [
    "str1='hai hai hai'\n",
    "# I want to know all the indexes of 'a'\n",
    "for i in range(len(str1)):\n",
    "    if str1[i]=='a':\n",
    "        print(i)"
   ]
  },
  {
   "cell_type": "code",
   "execution_count": 52,
   "id": "bc3dc432",
   "metadata": {},
   "outputs": [
    {
     "name": "stdout",
     "output_type": "stream",
     "text": [
      "1\n",
      "5\n",
      "9\n",
      "13\n"
     ]
    }
   ],
   "source": [
    "# h     a     i       h   a  i        h   a   i  hai\n",
    "# 0     1     2  3    4   5  6   7     8  9 10\n",
    "str1='hai hai hai hai'\n",
    "i1=str1.index('a')\n",
    "print(i1)\n",
    "i2=str1.index('a',i1+1)\n",
    "print(i2)\n",
    "i3=str1.index('a',i2+1)\n",
    "print(i3)\n",
    "i4=str1.index('a',i3+1)\n",
    "print(i4)"
   ]
  },
  {
   "cell_type": "code",
   "execution_count": 53,
   "id": "372f573d",
   "metadata": {},
   "outputs": [
    {
     "name": "stdout",
     "output_type": "stream",
     "text": [
      "1\n",
      "5\n",
      "9\n",
      "13\n"
     ]
    },
    {
     "ename": "ValueError",
     "evalue": "substring not found",
     "output_type": "error",
     "traceback": [
      "\u001b[1;31m---------------------------------------------------------------------------\u001b[0m",
      "\u001b[1;31mValueError\u001b[0m                                Traceback (most recent call last)",
      "\u001b[1;32m~\\AppData\\Local\\Temp\\ipykernel_11172\\537620113.py\u001b[0m in \u001b[0;36m<module>\u001b[1;34m\u001b[0m\n\u001b[0;32m     11\u001b[0m \u001b[0mi4\u001b[0m\u001b[1;33m=\u001b[0m \u001b[0mstr1\u001b[0m\u001b[1;33m.\u001b[0m\u001b[0mindex\u001b[0m\u001b[1;33m(\u001b[0m\u001b[1;34m'a'\u001b[0m\u001b[1;33m,\u001b[0m\u001b[0mi3\u001b[0m\u001b[1;33m+\u001b[0m\u001b[1;36m1\u001b[0m\u001b[1;33m)\u001b[0m\u001b[1;33m\u001b[0m\u001b[1;33m\u001b[0m\u001b[0m\n\u001b[0;32m     12\u001b[0m \u001b[0mprint\u001b[0m\u001b[1;33m(\u001b[0m\u001b[0mi4\u001b[0m\u001b[1;33m)\u001b[0m\u001b[1;33m\u001b[0m\u001b[1;33m\u001b[0m\u001b[0m\n\u001b[1;32m---> 13\u001b[1;33m \u001b[0mi5\u001b[0m\u001b[1;33m=\u001b[0m \u001b[0mstr1\u001b[0m\u001b[1;33m.\u001b[0m\u001b[0mindex\u001b[0m\u001b[1;33m(\u001b[0m\u001b[1;34m'a'\u001b[0m\u001b[1;33m,\u001b[0m\u001b[0mi4\u001b[0m\u001b[1;33m+\u001b[0m\u001b[1;36m1\u001b[0m\u001b[1;33m)\u001b[0m\u001b[1;33m\u001b[0m\u001b[1;33m\u001b[0m\u001b[0m\n\u001b[0m\u001b[0;32m     14\u001b[0m \u001b[0mprint\u001b[0m\u001b[1;33m(\u001b[0m\u001b[0mi5\u001b[0m\u001b[1;33m)\u001b[0m\u001b[1;33m\u001b[0m\u001b[1;33m\u001b[0m\u001b[0m\n",
      "\u001b[1;31mValueError\u001b[0m: substring not found"
     ]
    }
   ],
   "source": [
    "# Home work Implement above logic to get all the indexes\n",
    "# h     a     i       h   a  i        h   a   i  hai\n",
    "# 0     1     2  3    4   5  6   7     8  9 10\n",
    "str1='hai hai hai hai'\n",
    "i1=str1.index('a')\n",
    "print(i1)  # 1\n",
    "i2= str1.index('a',i1+1)\n",
    "print(i2)  #  5\n",
    "i3= str1.index('a',i2+1)\n",
    "print(i3)\n",
    "i4= str1.index('a',i3+1)\n",
    "print(i4)\n",
    "i5= str1.index('a',i4+1)\n",
    "print(i5)"
   ]
  },
  {
   "cell_type": "markdown",
   "id": "e7f801f0",
   "metadata": {},
   "source": [
    "**Find**"
   ]
  },
  {
   "cell_type": "code",
   "execution_count": 54,
   "id": "cb9ba2e9",
   "metadata": {},
   "outputs": [
    {
     "name": "stdout",
     "output_type": "stream",
     "text": [
      "1\n",
      "5\n",
      "9\n",
      "13\n",
      "-1\n"
     ]
    }
   ],
   "source": [
    "str1='hai hai hai hai'\n",
    "i1=str1.find('a')\n",
    "print(i1)  # 1\n",
    "i2= str1.find('a',i1+1)\n",
    "print(i2)  #  5\n",
    "i3= str1.find('a',i2+1)\n",
    "print(i3)\n",
    "i4= str1.find('a',i3+1)\n",
    "print(i4)\n",
    "i5= str1.find('a',i4+1)\n",
    "print(i5)"
   ]
  },
  {
   "cell_type": "code",
   "execution_count": 55,
   "id": "3b068119",
   "metadata": {},
   "outputs": [
    {
     "ename": "TypeError",
     "evalue": "index() takes at least 1 argument (0 given)",
     "output_type": "error",
     "traceback": [
      "\u001b[1;31m---------------------------------------------------------------------------\u001b[0m",
      "\u001b[1;31mTypeError\u001b[0m                                 Traceback (most recent call last)",
      "\u001b[1;32m~\\AppData\\Local\\Temp\\ipykernel_11172\\1028012764.py\u001b[0m in \u001b[0;36m<module>\u001b[1;34m\u001b[0m\n\u001b[1;32m----> 1\u001b[1;33m \u001b[0mstr1\u001b[0m\u001b[1;33m.\u001b[0m\u001b[0mindex\u001b[0m\u001b[1;33m(\u001b[0m\u001b[1;33m)\u001b[0m  \u001b[1;31m# Raises ValueError when the substring is not found.\u001b[0m\u001b[1;33m\u001b[0m\u001b[1;33m\u001b[0m\u001b[0m\n\u001b[0m\u001b[0;32m      2\u001b[0m \u001b[0mstr1\u001b[0m\u001b[1;33m.\u001b[0m\u001b[0mfind\u001b[0m\u001b[1;33m(\u001b[0m\u001b[1;33m)\u001b[0m  \u001b[1;31m# Return -1 on failure.\u001b[0m\u001b[1;33m\u001b[0m\u001b[1;33m\u001b[0m\u001b[0m\n",
      "\u001b[1;31mTypeError\u001b[0m: index() takes at least 1 argument (0 given)"
     ]
    }
   ],
   "source": [
    "str1.index()  # Raises ValueError when the substring is not found.\n",
    "str1.find()  # Return -1 on failure."
   ]
  },
  {
   "cell_type": "code",
   "execution_count": 56,
   "id": "596f643f",
   "metadata": {},
   "outputs": [
    {
     "data": {
      "text/plain": [
       "0"
      ]
     },
     "execution_count": 56,
     "metadata": {},
     "output_type": "execute_result"
    }
   ],
   "source": [
    "str1='hai hai hai'\n",
    "str1.count('z')"
   ]
  },
  {
   "cell_type": "code",
   "execution_count": 57,
   "id": "7e767eab",
   "metadata": {},
   "outputs": [
    {
     "data": {
      "text/plain": [
       "'hai hai hai'"
      ]
     },
     "execution_count": 57,
     "metadata": {},
     "output_type": "execute_result"
    }
   ],
   "source": [
    "str1='hai hai hai'\n",
    "str1.replace('z','Z')"
   ]
  },
  {
   "cell_type": "markdown",
   "id": "d289fdbb",
   "metadata": {},
   "source": [
    "- If substring not found\n",
    "\n",
    "- Count method will give zero\n",
    "\n",
    "- Replace method will give original string\n",
    "\n",
    "- Index will give **sub string not found error**\n",
    "\n",
    "- Find will give -1"
   ]
  },
  {
   "cell_type": "code",
   "execution_count": 58,
   "id": "f86cfd4c",
   "metadata": {},
   "outputs": [],
   "source": [
    "str1='omkar.nallagoni@cognizant.com'\n",
    "# Fisrt name= omkar\n",
    "# second name= nallagoni\n",
    "# company name= cognizant\n",
    "str2='virat.kohli@rcb.com'\n",
    "str3='rohit.sharma@mi.com'\n",
    "str4='a.b@c.com'\n",
    "\n",
    "# Idea : find the triggers\n",
    "# For first name  .\n",
    "# second name    .  and @\n",
    "# Compnay name    @ and second .\n",
    "# i1= first dot index\n",
    "# i2= @ index\n",
    "# i3= second index"
   ]
  },
  {
   "cell_type": "code",
   "execution_count": 59,
   "id": "60974858",
   "metadata": {},
   "outputs": [
    {
     "data": {
      "text/plain": [
       "('omkar', 'nallagoni', 'cognizant')"
      ]
     },
     "execution_count": 59,
     "metadata": {},
     "output_type": "execute_result"
    }
   ],
   "source": [
    "str1='omkar.nallagoni@cognizant.com'\n",
    "i1=str1.index('.')\n",
    "i2=str1.index('@')\n",
    "i3=str1.index('.',i1+1)\n",
    "first_name=str1[:i1]\n",
    "second_name=str1[i1+1:i2]\n",
    "cname=str1[i2+1:i3]\n",
    "first_name,second_name,cname"
   ]
  },
  {
   "cell_type": "markdown",
   "id": "880c65e6",
   "metadata": {},
   "source": [
    "- count\n",
    "\n",
    "- replace\n",
    "\n",
    "- find\n",
    "\n",
    "- index"
   ]
  },
  {
   "cell_type": "markdown",
   "id": "b82730e2",
   "metadata": {},
   "source": [
    "- Upper/lower/casefold\n",
    "\n",
    "- Capitalize/Title\n",
    "\n",
    "- Center\n",
    "\n",
    "- Count\n",
    "\n",
    "- Replace\n",
    "\n",
    "- index/find\n",
    "\n",
    "- start with is "
   ]
  },
  {
   "cell_type": "markdown",
   "id": "4036115b",
   "metadata": {},
   "source": [
    "- split\n",
    "\n",
    "- strip/lstrip/rstrip\n",
    "\n",
    "- startswith/endswith"
   ]
  },
  {
   "cell_type": "code",
   "execution_count": null,
   "id": "8628ac27",
   "metadata": {},
   "outputs": [],
   "source": []
  }
 ],
 "metadata": {
  "kernelspec": {
   "display_name": "Python 3 (ipykernel)",
   "language": "python",
   "name": "python3"
  },
  "language_info": {
   "codemirror_mode": {
    "name": "ipython",
    "version": 3
   },
   "file_extension": ".py",
   "mimetype": "text/x-python",
   "name": "python",
   "nbconvert_exporter": "python",
   "pygments_lexer": "ipython3",
   "version": "3.9.13"
  }
 },
 "nbformat": 4,
 "nbformat_minor": 5
}
