{
 "cells": [
  {
   "cell_type": "markdown",
   "id": "d9b459fa",
   "metadata": {},
   "source": [
    "- we can store the output values by using append operations\n",
    "- we are taking empty list \n",
    "- we are iterating through elements from a given list\n",
    "- the result we are appending in a new list"
   ]
  },
  {
   "cell_type": "code",
   "execution_count": 1,
   "id": "7b30491f",
   "metadata": {},
   "outputs": [
    {
     "data": {
      "text/plain": [
       "[0, 1, 4, 9, 16, 25, 36, 49, 64, 81]"
      ]
     },
     "execution_count": 1,
     "metadata": {},
     "output_type": "execute_result"
    }
   ],
   "source": [
    "square_list=[]\n",
    "for i in range(10):\n",
    "    square_list.append(i*i)\n",
    "square_list"
   ]
  },
  {
   "cell_type": "markdown",
   "id": "be40741b",
   "metadata": {},
   "source": [
    "- There are almost 3 lines are in the process\n",
    "- the three lines we can make into a single line\n",
    "- this is called as list comprehension"
   ]
  },
  {
   "cell_type": "markdown",
   "id": "6a1b506d",
   "metadata": {},
   "source": [
    "$pattern-1$\n",
    "**only for loop**"
   ]
  },
  {
   "cell_type": "code",
   "execution_count": 2,
   "id": "7a68ce13",
   "metadata": {},
   "outputs": [
    {
     "data": {
      "text/plain": [
       "[0, 1, 4, 9, 16, 25, 36, 49, 64, 81]"
      ]
     },
     "execution_count": 2,
     "metadata": {},
     "output_type": "execute_result"
    }
   ],
   "source": [
    "#syntax\n",
    "#[<output>  <for loop>]\n",
    "[i*i for i in range(10)]"
   ]
  },
  {
   "cell_type": "code",
   "execution_count": 4,
   "id": "4646807a",
   "metadata": {},
   "outputs": [
    {
     "data": {
      "text/plain": [
       "['HYD', 'MUMBAI', 'CHENNAI', 'BLR']"
      ]
     },
     "execution_count": 4,
     "metadata": {},
     "output_type": "execute_result"
    }
   ],
   "source": [
    "l1=['hyd','mumbai','chennai','blr']\n",
    "[i.upper() for i in l1]"
   ]
  },
  {
   "cell_type": "code",
   "execution_count": 5,
   "id": "6d1d2ada",
   "metadata": {},
   "outputs": [
    {
     "data": {
      "text/plain": [
       "['hyd', 'mumbai', 'chennai', 'blr']"
      ]
     },
     "execution_count": 5,
     "metadata": {},
     "output_type": "execute_result"
    }
   ],
   "source": [
    "l2=['HYD', 'MUMBAI', 'CHENNAI', 'BLR']\n",
    "[i.lower() for i in l2]"
   ]
  },
  {
   "cell_type": "code",
   "execution_count": 6,
   "id": "fea8f989",
   "metadata": {},
   "outputs": [
    {
     "data": {
      "text/plain": [
       "['HYD', 'MUMBAI', 'CHENNAI', 'BLR']"
      ]
     },
     "execution_count": 6,
     "metadata": {},
     "output_type": "execute_result"
    }
   ],
   "source": [
    "l1=['hyd','mumbai','chennai','blr']\n",
    "up_list=[]\n",
    "for i in l1:\n",
    "    up_list.append(i.upper())\n",
    "up_list"
   ]
  },
  {
   "cell_type": "code",
   "execution_count": 7,
   "id": "1b06d408",
   "metadata": {},
   "outputs": [
    {
     "data": {
      "text/plain": [
       "['HYD', 'MUMBAI', 'CHENNAI', 'BLR']"
      ]
     },
     "execution_count": 7,
     "metadata": {},
     "output_type": "execute_result"
    }
   ],
   "source": [
    "l1=['hyd','mumbai','chennai','blr']\n",
    "up_list=[i.upper() for i in l1]\n",
    "up_list"
   ]
  },
  {
   "cell_type": "code",
   "execution_count": 8,
   "id": "132d8f6a",
   "metadata": {},
   "outputs": [
    {
     "data": {
      "text/plain": [
       "['hyd', 'mumbai', 'chennai', 'blr']"
      ]
     },
     "execution_count": 8,
     "metadata": {},
     "output_type": "execute_result"
    }
   ],
   "source": [
    "l2=['HYD', 'MUMBAI', 'CHENNAI', 'BLR']\n",
    "lw_list=[]\n",
    "for i in l2:\n",
    "    lw_list.append(i.lower())\n",
    "lw_list"
   ]
  },
  {
   "cell_type": "code",
   "execution_count": 12,
   "id": "dd1642be",
   "metadata": {},
   "outputs": [
    {
     "name": "stdout",
     "output_type": "stream",
     "text": [
      "[0, 1, 2, 3]\n",
      "6\n"
     ]
    }
   ],
   "source": [
    "l1=['hyd','mumbai','chennai','blr']\n",
    "sum1=0\n",
    "sum_list=[]\n",
    "for i in range(len(l1)):\n",
    "    sum_list.append(i)\n",
    "    sum1+=i\n",
    "print(sum_list)\n",
    "print(sum1)"
   ]
  },
  {
   "cell_type": "code",
   "execution_count": 14,
   "id": "b0d90976",
   "metadata": {},
   "outputs": [
    {
     "data": {
      "text/plain": [
       "[0, 1, 2, 3]"
      ]
     },
     "execution_count": 14,
     "metadata": {},
     "output_type": "execute_result"
    }
   ],
   "source": [
    "l1=['hyd','mumbai','chennai','blr']\n",
    "sum_list=[i for i in range(len(l1))]\n",
    "sum_list"
   ]
  },
  {
   "cell_type": "markdown",
   "id": "09b76501",
   "metadata": {},
   "source": [
    "- making empty list will not works in list comprehension\n",
    "- initializations will not works in list comprehension\n",
    "- assignment operations also not works"
   ]
  },
  {
   "cell_type": "markdown",
   "id": "061bc33e",
   "metadata": {},
   "source": [
    "$pattern-2$"
   ]
  },
  {
   "cell_type": "markdown",
   "id": "71329502",
   "metadata": {},
   "source": [
    "**for loop - if condition**"
   ]
  },
  {
   "cell_type": "code",
   "execution_count": 15,
   "id": "a975e2d5",
   "metadata": {},
   "outputs": [
    {
     "name": "stdout",
     "output_type": "stream",
     "text": [
      "mumbai\n",
      "chennai\n"
     ]
    }
   ],
   "source": [
    "#syntax\n",
    "#[<output>  <for loop>  <if condition>]\n",
    "#we want elements which are len>4\n",
    "l5=['hyd','mumbai','chennai','blr']\n",
    "for i in l5:\n",
    "    if len(i)>4:\n",
    "        print(i)"
   ]
  },
  {
   "cell_type": "code",
   "execution_count": 16,
   "id": "50545fbb",
   "metadata": {},
   "outputs": [
    {
     "data": {
      "text/plain": [
       "['mumbai', 'chennai']"
      ]
     },
     "execution_count": 16,
     "metadata": {},
     "output_type": "execute_result"
    }
   ],
   "source": [
    "l5=['hyd','mumbai','chennai','blr']\n",
    "[i for i in l5  if len(i)>4]"
   ]
  },
  {
   "cell_type": "code",
   "execution_count": 17,
   "id": "834a97e6",
   "metadata": {},
   "outputs": [
    {
     "data": {
      "text/plain": [
       "['mum#bai', 'bl#r']"
      ]
     },
     "execution_count": 17,
     "metadata": {},
     "output_type": "execute_result"
    }
   ],
   "source": [
    "l6=['hyd','mum#bai','chennai','bl#r']\n",
    "[i for i in l6  if '#' in i]"
   ]
  },
  {
   "cell_type": "code",
   "execution_count": 18,
   "id": "999db213",
   "metadata": {},
   "outputs": [
    {
     "data": {
      "text/plain": [
       "['Hyd', 'Blr']"
      ]
     },
     "execution_count": 18,
     "metadata": {},
     "output_type": "execute_result"
    }
   ],
   "source": [
    "l7=['Hyd','mumbai','chennai','Blr']\n",
    "[i for i in l7  if i[0].isupper()]"
   ]
  },
  {
   "cell_type": "code",
   "execution_count": 16,
   "id": "98c70cdf",
   "metadata": {},
   "outputs": [
    {
     "name": "stdout",
     "output_type": "stream",
     "text": [
      "['mum#bai', 'bl#r']\n",
      "['hyd', 'chennai']\n"
     ]
    }
   ],
   "source": [
    "l8=['hyd','mum#bai','chennai','bl#r']\n",
    "ls=[]\n",
    "lt=[]\n",
    "in_list=[ls.append(i)  if '#' in i  else lt.append(i)  for i in l8]\n",
    "print(ls)\n",
    "print(lt)"
   ]
  },
  {
   "cell_type": "code",
   "execution_count": 1,
   "id": "08efe74e",
   "metadata": {},
   "outputs": [
    {
     "name": "stdout",
     "output_type": "stream",
     "text": [
      "virat\n",
      "rohit\n",
      "KL\n"
     ]
    }
   ],
   "source": [
    "str1='virat.kohli@rcb.com,rohit.sharma@mi.com,KL.rahul@lucknow.com'\n",
    "ls1=str1.split(',')\n",
    "for i in ls1:\n",
    "    print(i[:i.index('.')])\n",
    "    \n",
    "#list1[0][:list[0].index('.')]\n",
    "#list1[1][:list[1].index('.')]\n",
    "#list1[2][:list[2].index('.')]"
   ]
  },
  {
   "cell_type": "code",
   "execution_count": 2,
   "id": "3a38dd85",
   "metadata": {},
   "outputs": [
    {
     "name": "stdout",
     "output_type": "stream",
     "text": [
      "['virat', 'rohit', 'KL']\n",
      "['kohli', 'sharma', 'rahul']\n",
      "['rcb', 'mi', 'lucknow']\n"
     ]
    }
   ],
   "source": [
    "f_name=[]\n",
    "s_name=[]\n",
    "c_name=[]\n",
    "for i in ls1:\n",
    "    f_name.append(i[:i.index('.')])\n",
    "    s_name.append(i[i.index('.')+1:i.index('@')])\n",
    "    c_name.append(i[i.index('@')+1:i.index('.com')])\n",
    "print(f_name)\n",
    "print(s_name)\n",
    "print(c_name)"
   ]
  },
  {
   "cell_type": "code",
   "execution_count": null,
   "id": "a167800b",
   "metadata": {},
   "outputs": [],
   "source": [
    "[<output> <for loop>]:for loop\n",
    "[<output><for loop><if condition>]:for if\n",
    "[<if output> <if> <else> <else output> <for>]:if else for"
   ]
  },
  {
   "cell_type": "markdown",
   "id": "9fff595a",
   "metadata": {},
   "source": [
    "**even-odd**"
   ]
  },
  {
   "cell_type": "code",
   "execution_count": 22,
   "id": "96e45faa",
   "metadata": {},
   "outputs": [],
   "source": [
    "el=[]\n",
    "ol=[]\n",
    "for i in range(1,20):\n",
    "    if i%2==0:\n",
    "        el.append(f\"even= {i}\")\n",
    "    else:\n",
    "        ol.append(f\"odd= {i}\")"
   ]
  },
  {
   "cell_type": "code",
   "execution_count": 23,
   "id": "9efac08b",
   "metadata": {},
   "outputs": [
    {
     "data": {
      "text/plain": [
       "(['even= 2',\n",
       "  'even= 4',\n",
       "  'even= 6',\n",
       "  'even= 8',\n",
       "  'even= 10',\n",
       "  'even= 12',\n",
       "  'even= 14',\n",
       "  'even= 16',\n",
       "  'even= 18'],\n",
       " ['odd= 1',\n",
       "  'odd= 3',\n",
       "  'odd= 5',\n",
       "  'odd= 7',\n",
       "  'odd= 9',\n",
       "  'odd= 11',\n",
       "  'odd= 13',\n",
       "  'odd= 15',\n",
       "  'odd= 17',\n",
       "  'odd= 19'])"
      ]
     },
     "execution_count": 23,
     "metadata": {},
     "output_type": "execute_result"
    }
   ],
   "source": [
    "el,ol"
   ]
  },
  {
   "cell_type": "code",
   "execution_count": 25,
   "id": "4b18d424",
   "metadata": {},
   "outputs": [
    {
     "data": {
      "text/plain": [
       "(['even= 2',\n",
       "  'even= 4',\n",
       "  'even= 6',\n",
       "  'even= 8',\n",
       "  'even= 10',\n",
       "  'even= 12',\n",
       "  'even= 14',\n",
       "  'even= 16',\n",
       "  'even= 18'],\n",
       " ['odd= 1',\n",
       "  'odd= 3',\n",
       "  'odd= 5',\n",
       "  'odd= 7',\n",
       "  'odd= 9',\n",
       "  'odd= 11',\n",
       "  'odd= 13',\n",
       "  'odd= 15',\n",
       "  'odd= 17',\n",
       "  'odd= 19'])"
      ]
     },
     "execution_count": 25,
     "metadata": {},
     "output_type": "execute_result"
    }
   ],
   "source": [
    "lk=[]\n",
    "lm=[]\n",
    "[lk.append(f\"even= {i}\") if i%2==0 else lm.append(f\"odd= {i}\") for i in range(1,20)]\n",
    "lk,lm"
   ]
  },
  {
   "cell_type": "code",
   "execution_count": null,
   "id": "de1564df",
   "metadata": {},
   "outputs": [],
   "source": []
  }
 ],
 "metadata": {
  "kernelspec": {
   "display_name": "Python 3 (ipykernel)",
   "language": "python",
   "name": "python3"
  },
  "language_info": {
   "codemirror_mode": {
    "name": "ipython",
    "version": 3
   },
   "file_extension": ".py",
   "mimetype": "text/x-python",
   "name": "python",
   "nbconvert_exporter": "python",
   "pygments_lexer": "ipython3",
   "version": "3.9.13"
  }
 },
 "nbformat": 4,
 "nbformat_minor": 5
}
