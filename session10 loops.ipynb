{
 "cells": [
  {
   "cell_type": "markdown",
   "id": "4ede030c",
   "metadata": {},
   "source": [
    "**LOOPS**"
   ]
  },
  {
   "cell_type": "markdown",
   "id": "bbc5ff25",
   "metadata": {},
   "source": [
    "- iterate a piece of code until the condition satisfied\n",
    "- we can run a code normally\n",
    "- we can run a code by using function wrapper(loops)\n",
    "- we can run a same code multiple times(loops)\n",
    "- we can run a code by using condition(conditions)"
   ]
  },
  {
   "cell_type": "markdown",
   "id": "fd096d83",
   "metadata": {},
   "source": [
    "- for loop\n",
    "- while loop\n",
    "- any loop\n",
    "    - initial point to start the loop\n",
    "    - increment or decrement\n",
    "    - condition to stop the loop"
   ]
  },
  {
   "cell_type": "markdown",
   "id": "1894dda0",
   "metadata": {},
   "source": [
    "**FOR LOOP**"
   ]
  },
  {
   "cell_type": "markdown",
   "id": "7a696340",
   "metadata": {},
   "source": [
    "$pattern -1$"
   ]
  },
  {
   "cell_type": "markdown",
   "id": "db4d94af",
   "metadata": {},
   "source": [
    "*range(stop)*"
   ]
  },
  {
   "cell_type": "code",
   "execution_count": null,
   "id": "806357b9",
   "metadata": {},
   "outputs": [],
   "source": [
    "#syntax\n",
    "for i in range(<value>):\n",
    "    #start write the code"
   ]
  },
  {
   "cell_type": "markdown",
   "id": "f11e5a02",
   "metadata": {},
   "source": [
    "- whenever we see the word range it belongs to math family\n",
    "- inside range we need to provide one value ex: range(3)\n",
    "- if you provide only one value\n",
    "- start value=0\n",
    "- increment=+1\n",
    "- last=stop-1\n",
    "- range(3)\n",
    "- start value=0\n",
    "- increment =1\n",
    "- last=3-1=2\n",
    "- answers are: 0   1   2\n",
    "*** note*** in python the index always start with 0"
   ]
  },
  {
   "cell_type": "code",
   "execution_count": 1,
   "id": "27942256",
   "metadata": {},
   "outputs": [
    {
     "name": "stdout",
     "output_type": "stream",
     "text": [
      "0\n",
      "1\n",
      "2\n"
     ]
    }
   ],
   "source": [
    "for i in range(3):\n",
    "    print(i)"
   ]
  },
  {
   "cell_type": "code",
   "execution_count": 3,
   "id": "180907b3",
   "metadata": {},
   "outputs": [
    {
     "name": "stdout",
     "output_type": "stream",
     "text": [
      "hello\n",
      "hello\n",
      "hello\n",
      "hello\n",
      "hello\n"
     ]
    }
   ],
   "source": [
    "#printing hello 5 times\n",
    "for i in range(5):\n",
    "    print(\"hello\")"
   ]
  },
  {
   "cell_type": "code",
   "execution_count": 4,
   "id": "2260c5cb",
   "metadata": {},
   "outputs": [
    {
     "name": "stdout",
     "output_type": "stream",
     "text": [
      "even\n"
     ]
    }
   ],
   "source": [
    "#for example\n",
    "#take a random number /w 1 to 100\n",
    "# print it is a even umbr  or odd number\n",
    "#you ned to genrate two random number\n",
    "import random\n",
    "num=random.randint(1,100)\n",
    "if num%2==0:\n",
    "    print(\"even\")\n",
    "else:\n",
    "    print(\"odd number\")"
   ]
  },
  {
   "cell_type": "code",
   "execution_count": 5,
   "id": "9fa16e61",
   "metadata": {},
   "outputs": [
    {
     "name": "stdout",
     "output_type": "stream",
     "text": [
      "odd number\n",
      "even\n",
      "odd number\n"
     ]
    }
   ],
   "source": [
    "import random\n",
    "for i in range(3):\n",
    "    num=random.randint(1,100)\n",
    "    if num%2==0:\n",
    "        print(\"even\")\n",
    "    else:\n",
    "        print(\"odd number\")"
   ]
  },
  {
   "cell_type": "code",
   "execution_count": 6,
   "id": "b5449a2a",
   "metadata": {},
   "outputs": [
    {
     "name": "stdout",
     "output_type": "stream",
     "text": [
      "0 1 2 3 4 5 6 7 8 9 "
     ]
    }
   ],
   "source": [
    "for i in range(10):\n",
    "    print(i, end=\" \")"
   ]
  },
  {
   "cell_type": "code",
   "execution_count": 1,
   "id": "bf871df2",
   "metadata": {},
   "outputs": [
    {
     "name": "stdout",
     "output_type": "stream",
     "text": [
      "10 11 12 13 14 15 16 17 18 19 "
     ]
    }
   ],
   "source": [
    "for i in range(10,20):\n",
    "    print(i,end=\" \")"
   ]
  },
  {
   "cell_type": "markdown",
   "id": "f31b79a8",
   "metadata": {},
   "source": [
    "$pattern-2\n",
    "range(start,stop)\n",
    "- range(10,20)\n",
    "- start value=10\n",
    "- increment=1\n",
    "- last = stop-1=== 20-1=19"
   ]
  },
  {
   "cell_type": "code",
   "execution_count": 11,
   "id": "de46a18e",
   "metadata": {},
   "outputs": [
    {
     "name": "stdout",
     "output_type": "stream",
     "text": [
      "square of 20 is 400\n",
      "square of 21 is 441\n",
      "square of 22 is 484\n",
      "square of 23 is 529\n",
      "square of 24 is 576\n"
     ]
    }
   ],
   "source": [
    "#wap ask the user to print the square of the numbers b/w 20 to 25\n",
    "for i in range(20,25):\n",
    "    print(f\"square of {i} is {i*i}\")"
   ]
  },
  {
   "cell_type": "code",
   "execution_count": 9,
   "id": "f803f173",
   "metadata": {},
   "outputs": [
    {
     "name": "stdout",
     "output_type": "stream",
     "text": [
      " 10 is even\n",
      " 11 is odd\n",
      " 12 is even\n",
      " 13 is odd\n",
      " 14 is even\n",
      " 15 is odd\n",
      " 16 is even\n",
      " 17 is odd\n",
      " 18 is even\n",
      " 19 is odd\n"
     ]
    }
   ],
   "source": [
    "#wap ask the user to print the number is even or odd b/w 10 to 20\n",
    "for i in range(10,20):\n",
    "    if (i%2==0):\n",
    "        print(f\" {i} is even\")\n",
    "    else:\n",
    "        print(f\" {i} is odd\")"
   ]
  },
  {
   "cell_type": "markdown",
   "id": "69ee7747",
   "metadata": {},
   "source": [
    "$pattern-3$\n",
    "**range(start,stop,step)**\n",
    "- start value = start values\n",
    "- step value\n",
    "   - positive step value\n",
    "        - if step value is positive: increment\n",
    "        - last=stop-1\n",
    "   - negative value step\n",
    "        - if step value is negative: decrement\n",
    "        - last=stop+1"
   ]
  },
  {
   "cell_type": "code",
   "execution_count": 12,
   "id": "1627d48b",
   "metadata": {},
   "outputs": [
    {
     "name": "stdout",
     "output_type": "stream",
     "text": [
      "2 4 6 8 10 12 14 16 18 "
     ]
    }
   ],
   "source": [
    "#case-1:\n",
    "for i in range(2,20,2):\n",
    "    print(i,end=\" \")"
   ]
  },
  {
   "cell_type": "code",
   "execution_count": 13,
   "id": "adb4dc37",
   "metadata": {},
   "outputs": [],
   "source": [
    "# start =2\n",
    "#step=+ve 2\n",
    "#last=stop-1=20-1=19\n",
    "#2,4,6,8,10,12,14,16,18\n"
   ]
  },
  {
   "cell_type": "code",
   "execution_count": 14,
   "id": "3f35aa04",
   "metadata": {},
   "outputs": [
    {
     "name": "stdout",
     "output_type": "stream",
     "text": [
      "10\n"
     ]
    }
   ],
   "source": [
    "for i in range(10,20,30):\n",
    "    print(i)\n",
    "#start=10\n",
    "#step=30\n",
    "#last=stop-1=20-1=19"
   ]
  },
  {
   "cell_type": "code",
   "execution_count": 16,
   "id": "490e91f1",
   "metadata": {},
   "outputs": [],
   "source": [
    "#case-2:\n",
    "for i in range(2,20,-2):\n",
    "    print(i,end=\" \")\n",
    "#start=2\n",
    "#step=-2\n",
    "#last=stop+1=20+1=21  "
   ]
  },
  {
   "cell_type": "code",
   "execution_count": 17,
   "id": "e71895c8",
   "metadata": {},
   "outputs": [
    {
     "name": "stdout",
     "output_type": "stream",
     "text": [
      "20 18 16 14 12 10 8 6 4 "
     ]
    }
   ],
   "source": [
    "#case-3:\n",
    "for i in range(20,2,-2):\n",
    "    print(i,end=\" \")\n",
    "#start=20\n",
    "#step=-2\n",
    "#last=stop+1=2+1=3 "
   ]
  },
  {
   "cell_type": "code",
   "execution_count": 18,
   "id": "5da933da",
   "metadata": {},
   "outputs": [],
   "source": [
    "#case-4:\n",
    "for i in range(-20,2,-2):\n",
    "    print(i,end=\" \")\n",
    "#start=-20\n",
    "#step=-2\n",
    "#last=stop+1=2+1=3 "
   ]
  },
  {
   "cell_type": "code",
   "execution_count": 3,
   "id": "d50de7e2",
   "metadata": {},
   "outputs": [
    {
     "name": "stdout",
     "output_type": "stream",
     "text": [
      "enter: 3\n",
      "square of 3 is 9\n",
      "enter: 3\n",
      "square of 3 is 9\n",
      "enter: 3\n",
      "square of 3 is 9\n"
     ]
    }
   ],
   "source": [
    "#wap of the user enter a number 3 times find the square of the number\n",
    "\n",
    "for i in range(1,4):\n",
    "    num=eval(input(\"enter: \"))\n",
    "    print(f\"square of {num} is {num*num}\")"
   ]
  },
  {
   "cell_type": "code",
   "execution_count": 5,
   "id": "0fd8e49d",
   "metadata": {},
   "outputs": [
    {
     "name": "stdout",
     "output_type": "stream",
     "text": [
      "enter: 14\n",
      "14 X 1 = 14\n",
      "14 X 2 = 28\n",
      "14 X 3 = 42\n",
      "14 X 4 = 56\n",
      "14 X 5 = 70\n",
      "14 X 6 = 84\n",
      "14 X 7 = 98\n",
      "14 X 8 = 112\n",
      "14 X 9 = 126\n",
      "14 X 10 = 140\n"
     ]
    }
   ],
   "source": [
    "#print 14 table \n",
    "num=eval(input(\"enter: \"))\n",
    "for i in range(1,11):\n",
    "    print(f\"{num} X {i} = {num*i}\")"
   ]
  },
  {
   "cell_type": "code",
   "execution_count": 9,
   "id": "256ff483",
   "metadata": {},
   "outputs": [
    {
     "name": "stdout",
     "output_type": "stream",
     "text": [
      "enter: 75\n",
      "1 3 5 15 25 75 "
     ]
    }
   ],
   "source": [
    "#factors of 75\n",
    "n=eval(input(\"enter: \"))\n",
    "for i in range(1,n+1):\n",
    "    if n%i==0:\n",
    "        print(i,end=\" \")\n",
    "# step1:- iterate the loop = which numbers factors you want\n",
    "#step2:- apply if condition\n",
    "#condition= divide the number with each i"
   ]
  },
  {
   "cell_type": "code",
   "execution_count": 13,
   "id": "cf37d6c5",
   "metadata": {},
   "outputs": [
    {
     "name": "stdout",
     "output_type": "stream",
     "text": [
      "0 + 1 = 1\n",
      "1 + 2 = 3\n",
      "3 + 3 = 6\n",
      "6 + 4 = 10\n",
      "10 + 5 = 15\n",
      "15 + 6 = 21\n",
      "21 + 7 = 28\n",
      "28 + 8 = 36\n",
      "36 + 9 = 45\n",
      "45 + 10 = 55\n"
     ]
    }
   ],
   "source": [
    "#wap the sum of first 10 natural numbers\n",
    "summ=0\n",
    "for i in range(1,11):\n",
    "    k=summ\n",
    "    summ=summ+i\n",
    "    print(f\"{k} + {i} = {summ}\")"
   ]
  },
  {
   "cell_type": "markdown",
   "id": "f2094438",
   "metadata": {},
   "source": [
    "**summation wrapper**\n",
    "- initially we need to keep sum=0\n",
    "- make sure that do not provide **summ**\n",
    "- because sum is a keyword\n",
    "- inside for loop: summ=summ+i"
   ]
  },
  {
   "cell_type": "code",
   "execution_count": 14,
   "id": "0d5efc19",
   "metadata": {},
   "outputs": [
    {
     "name": "stdout",
     "output_type": "stream",
     "text": [
      "0 + 1 = 1\n",
      "1 + 2 = 3\n",
      "3 + 3 = 6\n",
      "6 + 4 = 10\n",
      "10 + 5 = 15\n",
      "15 + 6 = 21\n",
      "21 + 7 = 28\n",
      "28 + 8 = 36\n",
      "36 + 9 = 45\n",
      "45 + 10 = 55\n"
     ]
    }
   ],
   "source": [
    "summ=0\n",
    "for i in range(1,11):\n",
    "    summ=summ+i\n",
    "    print(f\"{summ-i} + {i} = {summ}\")"
   ]
  },
  {
   "cell_type": "markdown",
   "id": "b7781ae7",
   "metadata": {},
   "source": [
    "**note**\n",
    "- if we print answer from out of for loop last answer will print"
   ]
  },
  {
   "cell_type": "code",
   "execution_count": 23,
   "id": "84130cf4",
   "metadata": {},
   "outputs": [
    {
     "name": "stdout",
     "output_type": "stream",
     "text": [
      "enter:10\n",
      "5.5\n"
     ]
    }
   ],
   "source": [
    "#wap for average of first 10 numbers\n",
    "n= eval(input(\"enter:\"))\n",
    "sum1=0\n",
    "for i in range(1,n+1):\n",
    "    sum1=sum1+i\n",
    "print(sum1/n)"
   ]
  },
  {
   "cell_type": "markdown",
   "id": "51817577",
   "metadata": {},
   "source": [
    "**counter wrapper**\n",
    "- before for loop initialise with count=0\n",
    "- under for loop count=count+1\n",
    "- counter always increase by 1 only"
   ]
  },
  {
   "cell_type": "code",
   "execution_count": 25,
   "id": "cb72757b",
   "metadata": {},
   "outputs": [
    {
     "name": "stdout",
     "output_type": "stream",
     "text": [
      "enter: 75\n",
      "the number of divisors 75 is 6\n"
     ]
    }
   ],
   "source": [
    "# find the number of divisors of 75\n",
    "# 1,3,5,15,25,75\n",
    "#    output : number=6\n",
    "count=0\n",
    "num=eval(input(\"enter: \"))\n",
    "for i in range(1,num+1):\n",
    "    if(num%i==0):\n",
    "        count=count+1\n",
    "print(f\"the number of divisors {num} is {count}\")"
   ]
  },
  {
   "cell_type": "code",
   "execution_count": null,
   "id": "6560ff57",
   "metadata": {},
   "outputs": [],
   "source": [
    "summ=summ+i============>summ+=i\n",
    "count=count+1============>count+=1"
   ]
  },
  {
   "cell_type": "code",
   "execution_count": 44,
   "id": "3b1289ee",
   "metadata": {},
   "outputs": [
    {
     "name": "stdout",
     "output_type": "stream",
     "text": [
      "enter: 3\n",
      "you fail, next time better luck\n",
      "enter: 3\n",
      "you fail, next time better luck\n",
      "enter: 3\n",
      "you fail, next time better luck\n"
     ]
    }
   ],
   "source": [
    "#get a random number 1 to 10\n",
    "#ask user enter a number\n",
    "#if num1==num2 then print won\n",
    "#else print fail\n",
    "import random\n",
    "\n",
    "for i in range(1,4):\n",
    "    num1= random.randint(1,10)\n",
    "    num2= eval(input(\"enter: \"))\n",
    "    if num1==num2:\n",
    "        print(\"you won\")\n",
    "        break\n",
    "    else:\n",
    "        print(\"you fail, next time better luck\")"
   ]
  },
  {
   "cell_type": "code",
   "execution_count": null,
   "id": "c5a7529d",
   "metadata": {},
   "outputs": [],
   "source": [
    "#case3\n",
    "#suppose i want to give 4 chances\n",
    "#every time you fail i want to display\n",
    "#number of chances left\n",
    "# if al the chances you are used\n",
    "#try again after 24 hours\n",
    "#if you are win then break\n",
    "import random\n",
    "count=0\n",
    "for i in range(1,5):\n",
    "    num1= random.randint(1,10)\n",
    "    num2= eval(input(\"enter: \"))\n",
    "    count=count+1\n",
    "    \n",
    "    if (num1!=num2) :\n",
    "        print(\"you fail, next time better luck\")\n",
    "        if count>=4:\n",
    "            print(\"Try again after 24 hours\")\n",
    "    else:\n",
    "        print(\"you won\")\n",
    "        break"
   ]
  },
  {
   "cell_type": "code",
   "execution_count": null,
   "id": "a241c198",
   "metadata": {},
   "outputs": [],
   "source": [
    "#wap ask the user get 5 random numbers \n",
    "#get it is an even number or odd number\n",
    "#also count how many even numbers are there\n",
    "#and count how many odd numbers are there\n",
    "#idea\n",
    "#take two counters one even count and on odd count\n",
    "#for loop 5 times\n",
    "#each time take the random number \n",
    "#if condition\n",
    "    #true counter update\n",
    "#else\n",
    "    #update the counter\n",
    "import random\n",
    "count_e=0\n",
    "count_o=0\n",
    "\n",
    "for i in range(1,6):\n",
    "    num=random.randint(1,100)\n",
    "    if (i%2==0):\n",
    "        count_e+=1\n",
    "    else:\n",
    "        count_o+=1\n",
    "print(count_e,\"even count\")\n",
    "print(count_o,\"odd count\")"
   ]
  },
  {
   "cell_type": "code",
   "execution_count": null,
   "id": "5fbb607f",
   "metadata": {},
   "outputs": [],
   "source": [
    "import random\n",
    "count_e=0\n",
    "count_o=0\n",
    "sum_e=0\n",
    "sum_o=0\n",
    "for i in range(1,6):\n",
    "    num=random.randint(1,100)\n",
    "    if (i%2==0):\n",
    "        count_e+=1\n",
    "        sum_e+=i\n",
    "    else:\n",
    "        count_o+=1\n",
    "        sum_o+=i\n",
    "print(count_e,\"even count\")\n",
    "print(count_o,\"odd count\")\n",
    "print(sum_e,\"even sum\")\n",
    "print(sum_o,\"odd sum\")"
   ]
  },
  {
   "cell_type": "code",
   "execution_count": null,
   "id": "8ecdc5aa",
   "metadata": {},
   "outputs": [],
   "source": [
    "import random\n",
    "def summationcount():\n",
    "    count_e=0\n",
    "    count_o=0\n",
    "    sum_e=0\n",
    "    sum_o=0\n",
    "    for i in range(1,6):\n",
    "        num=random.randint(1,100)\n",
    "        if (i%2==0):\n",
    "            count_e+=1\n",
    "            sum_e+=num\n",
    "        else:\n",
    "            count_o+=1\n",
    "            sum_o+=num\n",
    "summationcount()\n",
    "print(count_e,\"even count\")\n",
    "print(count_o,\"odd count\")\n",
    "print(sum_e,\"even sum\")\n",
    "print(sum_o,\"odd sum\")"
   ]
  },
  {
   "cell_type": "code",
   "execution_count": null,
   "id": "86a25668",
   "metadata": {},
   "outputs": [],
   "source": [
    "import random\n",
    "def summationcount():\n",
    "    count_e=0\n",
    "    count_o=0\n",
    "    sum_e=0\n",
    "    sum_o=0\n",
    "    for i in range(1,6):\n",
    "        num=random.randint(1,100)\n",
    "        if (i%2==0):\n",
    "            count_e+=1\n",
    "            sum_e+=num\n",
    "        else:\n",
    "            count_o+=1\n",
    "            sum_o+=num\n",
    "    return(count_e,count_o,sum_e,sum_o)\n",
    "summationcount()\n",
    "print(count_e,\"even count\")\n",
    "print(count_o,\"odd count\")\n",
    "print(sum_e,\"even sum\")\n",
    "print(sum_o,\"odd sum\")"
   ]
  },
  {
   "cell_type": "code",
   "execution_count": null,
   "id": "2007c36f",
   "metadata": {},
   "outputs": [],
   "source": [
    "string1='python'\n",
    "'p' in string1\n",
    "'y' in string1\n",
    "'h' in string1\n",
    "'n' in string1"
   ]
  },
  {
   "cell_type": "code",
   "execution_count": null,
   "id": "cdfb6c9c",
   "metadata": {},
   "outputs": [],
   "source": [
    "for i in string1:\n",
    "    print(i)"
   ]
  },
  {
   "cell_type": "markdown",
   "id": "2ebcfe1e",
   "metadata": {},
   "source": [
    "**difference between in operator and range operator**\n",
    "\n",
    "- range belongs to math family\n",
    "- inside range we need to keep numbers only\n",
    "- whenever if we want iterate through english letters\n",
    "- we need to choose  𝑖𝑛 operator\n",
    "- range means numbers\n",
    "- in means strings\n"
   ]
  },
  {
   "cell_type": "code",
   "execution_count": null,
   "id": "41a792a0",
   "metadata": {},
   "outputs": [],
   "source": []
  }
 ],
 "metadata": {
  "kernelspec": {
   "display_name": "Python 3 (ipykernel)",
   "language": "python",
   "name": "python3"
  },
  "language_info": {
   "codemirror_mode": {
    "name": "ipython",
    "version": 3
   },
   "file_extension": ".py",
   "mimetype": "text/x-python",
   "name": "python",
   "nbconvert_exporter": "python",
   "pygments_lexer": "ipython3",
   "version": "3.9.13"
  }
 },
 "nbformat": 4,
 "nbformat_minor": 5
}
