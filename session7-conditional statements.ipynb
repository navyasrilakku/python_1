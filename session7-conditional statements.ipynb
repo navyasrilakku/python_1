{
 "cells": [
  {
   "cell_type": "markdown",
   "id": "598e0b6f",
   "metadata": {},
   "source": [
    "# **conditional statements**"
   ]
  },
  {
   "cell_type": "markdown",
   "id": "8c79f79b",
   "metadata": {},
   "source": [
    "- conditional statements means we want to run the codelines based on condition\n",
    "- if rain comes i will not go to school otherwise i will go to the movie.\n",
    "- rain is there will effect one process\n",
    "- rain is not there will effect another process\n",
    "- if\n",
    "- elif\n",
    "- else"
   ]
  },
  {
   "cell_type": "markdown",
   "id": "84d44da5",
   "metadata": {},
   "source": [
    "** if **"
   ]
  },
  {
   "cell_type": "markdown",
   "id": "6743342a",
   "metadata": {},
   "source": [
    "#syntax\n",
    "if <condition>:\n",
    "    <codeline1>\n",
    "    <codeline2>"
   ]
  },
  {
   "cell_type": "markdown",
   "id": "57f9da3d",
   "metadata": {},
   "source": [
    "- whenever any line starts with keyword(green) at the end of the line we have a colon(:)\n",
    "- whenever we have colon(:) the next line starts with some gap \n",
    "- and this gap is called as ** indentation **\n",
    "- how many lines we are maintaining gap(indentation) that all under one area."
   ]
  },
  {
   "cell_type": "markdown",
   "id": "597eb291",
   "metadata": {},
   "source": [
    "- if is a conditional statement it will check the condition is true or false\n",
    "- if the condition will true then only it will enter inside the if area\n",
    "- and execute the code lines.\n",
    "- if the condition is false , then it will not enter inside the area and it will not excute those code lines."
   ]
  },
  {
   "cell_type": "code",
   "execution_count": 1,
   "id": "a0dbb3fe",
   "metadata": {},
   "outputs": [
    {
     "name": "stdout",
     "output_type": "stream",
     "text": [
      "True\n"
     ]
    }
   ],
   "source": [
    "if 100>10:                        #if true\n",
    "    print(\"True\")"
   ]
  },
  {
   "cell_type": "markdown",
   "id": "88db613a",
   "metadata": {},
   "source": [
    "**mistakes**\n",
    "- indentation requires 4 character spaces, then it gets an indentation error\n",
    "- will not give the colon, then it gets a syntax error\n",
    "- if expects some condition\n",
    "- missing of parantheses/braces\n",
    "- never assign print to a variable , print we are using to see the answers.\n",
    "- all types of syntax errors\n",
    "- spelling mistakes\n",
    "- all junk mistakes\n",
    "- "
   ]
  },
  {
   "cell_type": "code",
   "execution_count": 2,
   "id": "71780a8e",
   "metadata": {},
   "outputs": [
    {
     "ename": "IndentationError",
     "evalue": "expected an indented block (3522032215.py, line 2)",
     "output_type": "error",
     "traceback": [
      "\u001b[1;36m  File \u001b[1;32m\"C:\\Users\\My world\\AppData\\Local\\Temp\\ipykernel_1628\\3522032215.py\"\u001b[1;36m, line \u001b[1;32m2\u001b[0m\n\u001b[1;33m    print(\"True\")\u001b[0m\n\u001b[1;37m    ^\u001b[0m\n\u001b[1;31mIndentationError\u001b[0m\u001b[1;31m:\u001b[0m expected an indented block\n"
     ]
    }
   ],
   "source": [
    "if 100>10:                        #if true    indentation error\n",
    "print(\"True\")"
   ]
  },
  {
   "cell_type": "code",
   "execution_count": 4,
   "id": "b65d4e83",
   "metadata": {},
   "outputs": [
    {
     "ename": "SyntaxError",
     "evalue": "invalid syntax (1089783884.py, line 1)",
     "output_type": "error",
     "traceback": [
      "\u001b[1;36m  File \u001b[1;32m\"C:\\Users\\My world\\AppData\\Local\\Temp\\ipykernel_1628\\1089783884.py\"\u001b[1;36m, line \u001b[1;32m1\u001b[0m\n\u001b[1;33m    if 100>10                       #if true\u001b[0m\n\u001b[1;37m                                    ^\u001b[0m\n\u001b[1;31mSyntaxError\u001b[0m\u001b[1;31m:\u001b[0m invalid syntax\n"
     ]
    }
   ],
   "source": [
    "if 100>10                       #if true      colon missing(:)\n",
    "    print(\"True\")"
   ]
  },
  {
   "cell_type": "code",
   "execution_count": 5,
   "id": "191bbbfc",
   "metadata": {},
   "outputs": [
    {
     "ename": "SyntaxError",
     "evalue": "invalid syntax (2285942559.py, line 1)",
     "output_type": "error",
     "traceback": [
      "\u001b[1;36m  File \u001b[1;32m\"C:\\Users\\My world\\AppData\\Local\\Temp\\ipykernel_1628\\2285942559.py\"\u001b[1;36m, line \u001b[1;32m1\u001b[0m\n\u001b[1;33m    if :                        #if true\u001b[0m\n\u001b[1;37m       ^\u001b[0m\n\u001b[1;31mSyntaxError\u001b[0m\u001b[1;31m:\u001b[0m invalid syntax\n"
     ]
    }
   ],
   "source": [
    "if :                        #if true        forget the condition\n",
    "    print(\"True\")"
   ]
  },
  {
   "cell_type": "code",
   "execution_count": 6,
   "id": "6a4eb53e",
   "metadata": {},
   "outputs": [
    {
     "ename": "SyntaxError",
     "evalue": "Missing parentheses in call to 'print'. Did you mean print(\"True\")? (2395156924.py, line 2)",
     "output_type": "error",
     "traceback": [
      "\u001b[1;36m  File \u001b[1;32m\"C:\\Users\\My world\\AppData\\Local\\Temp\\ipykernel_1628\\2395156924.py\"\u001b[1;36m, line \u001b[1;32m2\u001b[0m\n\u001b[1;33m    print \"True\"\u001b[0m\n\u001b[1;37m          ^\u001b[0m\n\u001b[1;31mSyntaxError\u001b[0m\u001b[1;31m:\u001b[0m Missing parentheses in call to 'print'. Did you mean print(\"True\")?\n"
     ]
    }
   ],
   "source": [
    "if 100>10:                        #if true braces missing/parantheses missing()\n",
    "    print \"True\""
   ]
  },
  {
   "cell_type": "code",
   "execution_count": 7,
   "id": "5de55d14",
   "metadata": {},
   "outputs": [
    {
     "name": "stdout",
     "output_type": "stream",
     "text": [
      "True\n"
     ]
    }
   ],
   "source": [
    "if 100>10:                        #if true      never assign a variable to a print statement\n",
    "    name = print(\"True\")"
   ]
  },
  {
   "cell_type": "code",
   "execution_count": 8,
   "id": "75819388",
   "metadata": {},
   "outputs": [
    {
     "ename": "SyntaxError",
     "evalue": "invalid syntax (3249671152.py, line 1)",
     "output_type": "error",
     "traceback": [
      "\u001b[1;36m  File \u001b[1;32m\"C:\\Users\\My world\\AppData\\Local\\Temp\\ipykernel_1628\\3249671152.py\"\u001b[1;36m, line \u001b[1;32m1\u001b[0m\n\u001b[1;33m    if100>10:\u001b[0m\n\u001b[1;37m             ^\u001b[0m\n\u001b[1;31mSyntaxError\u001b[0m\u001b[1;31m:\u001b[0m invalid syntax\n"
     ]
    }
   ],
   "source": [
    "if100>10:                          #gap between condition and if\n",
    "    print(\"True\")"
   ]
  },
  {
   "cell_type": "code",
   "execution_count": 10,
   "id": "3fb9fc30",
   "metadata": {},
   "outputs": [
    {
     "name": "stdout",
     "output_type": "stream",
     "text": [
      "hello\n",
      "good morning\n",
      "okay\n",
      "bye\n"
     ]
    }
   ],
   "source": [
    "if 100>10:# condition satisfies and enter into inside\n",
    "    print(\"hello\") # print hello\n",
    "    print(\"good morning\") # print good morning and exit from the if \n",
    "print(\"okay\")# print okay\n",
    "print(\"bye\")# print bye"
   ]
  },
  {
   "cell_type": "code",
   "execution_count": 11,
   "id": "0e248a5a",
   "metadata": {},
   "outputs": [
    {
     "name": "stdout",
     "output_type": "stream",
     "text": [
      "10\n",
      "20\n",
      "hello\n",
      "good morning\n",
      "okay\n",
      "bye\n"
     ]
    }
   ],
   "source": [
    "print(10)\n",
    "print(20)\n",
    "#############################################\n",
    "if 100>10:# condition satisfies and enter into inside\n",
    "    print(\"hello\") # print hello\n",
    "    print(\"good morning\") # print good morning and exit from the if \n",
    "##############################################\n",
    "print(\"okay\")# print okay\n",
    "print(\"bye\")# print bye"
   ]
  },
  {
   "cell_type": "code",
   "execution_count": 12,
   "id": "7bd82eb7",
   "metadata": {},
   "outputs": [
    {
     "name": "stdout",
     "output_type": "stream",
     "text": [
      "10\n",
      "20\n",
      "okay\n",
      "bye\n"
     ]
    }
   ],
   "source": [
    "print(10)\n",
    "print(20)\n",
    "if 100<10:# condition satisfies and enter into inside\n",
    "    print(\"hello\") # print hello\n",
    "    print(\"good morning\") # print good morning and exit from the if \n",
    "print(\"okay\")# print okay\n",
    "print(\"bye\")# print bye"
   ]
  },
  {
   "cell_type": "code",
   "execution_count": 13,
   "id": "405e998b",
   "metadata": {},
   "outputs": [
    {
     "name": "stdout",
     "output_type": "stream",
     "text": [
      "10\n",
      "20\n",
      "hello\n",
      "good morning\n",
      "okay\n",
      "bye\n"
     ]
    }
   ],
   "source": [
    "print(10)\n",
    "print(20)\n",
    "if 100:# condition satisfies and enter into inside\n",
    "    print(\"hello\") # print hello\n",
    "    print(\"good morning\") # print good morning and exit from the if \n",
    "print(\"okay\")# print okay\n",
    "print(\"bye\")# print bye"
   ]
  },
  {
   "cell_type": "code",
   "execution_count": 14,
   "id": "79d64947",
   "metadata": {},
   "outputs": [
    {
     "name": "stdout",
     "output_type": "stream",
     "text": [
      "10\n",
      "20\n",
      "hello\n",
      "good morning\n",
      "okay\n",
      "bye\n"
     ]
    }
   ],
   "source": [
    "print(10)\n",
    "print(20)\n",
    "if \"hello\":# condition satisfies and enter into inside\n",
    "    print(\"hello\") # print hello\n",
    "    print(\"good morning\") # print good morning and exit from the if \n",
    "print(\"okay\")# print okay\n",
    "print(\"bye\")# print bye"
   ]
  },
  {
   "cell_type": "code",
   "execution_count": 15,
   "id": "44341168",
   "metadata": {},
   "outputs": [
    {
     "name": "stdout",
     "output_type": "stream",
     "text": [
      "10\n",
      "20\n",
      "okay\n",
      "bye\n"
     ]
    }
   ],
   "source": [
    "print(10)\n",
    "print(20)\n",
    "if '':# condition satisfies and enter into inside\n",
    "    print(\"hello\") # print hello\n",
    "    print(\"good morning\") # print good morning and exit from the if \n",
    "print(\"okay\")# print okay\n",
    "print(\"bye\")# print bye"
   ]
  },
  {
   "cell_type": "code",
   "execution_count": 16,
   "id": "be3bae41",
   "metadata": {},
   "outputs": [
    {
     "name": "stdout",
     "output_type": "stream",
     "text": [
      "10\n",
      "20\n",
      "okay\n",
      "bye\n"
     ]
    }
   ],
   "source": [
    "print(10)\n",
    "print(20)\n",
    "if 0:# condition satisfies and enter into inside\n",
    "    print(\"hello\") # print hello\n",
    "    print(\"good morning\") # print good morning and exit from the if \n",
    "print(\"okay\")# print okay\n",
    "print(\"bye\")# print bye"
   ]
  },
  {
   "cell_type": "code",
   "execution_count": 17,
   "id": "4dfdeb68",
   "metadata": {},
   "outputs": [
    {
     "name": "stdout",
     "output_type": "stream",
     "text": [
      "10\n",
      "20\n",
      "hello\n",
      "good morning\n",
      "okay\n",
      "bye\n"
     ]
    }
   ],
   "source": [
    "print(10)\n",
    "print(20)\n",
    "if True:# condition satisfies and enter into inside\n",
    "    print(\"hello\") # print hello\n",
    "    print(\"good morning\") # print good morning and exit from the if \n",
    "print(\"okay\")# print okay\n",
    "print(\"bye\")# print bye"
   ]
  },
  {
   "cell_type": "code",
   "execution_count": 18,
   "id": "e7ef4268",
   "metadata": {},
   "outputs": [
    {
     "name": "stdout",
     "output_type": "stream",
     "text": [
      "10\n",
      "20\n",
      "okay\n",
      "bye\n"
     ]
    }
   ],
   "source": [
    "print(10)\n",
    "print(20)\n",
    "if _:# condition satisfies and enter into inside\n",
    "    print(\"hello\") # print hello\n",
    "    print(\"good morning\") # print good morning and exit from the if \n",
    "print(\"okay\")# print okay\n",
    "print(\"bye\")# print bye"
   ]
  },
  {
   "cell_type": "code",
   "execution_count": 19,
   "id": "9591405a",
   "metadata": {},
   "outputs": [
    {
     "name": "stdout",
     "output_type": "stream",
     "text": [
      "10\n",
      "20\n",
      "hello\n",
      "good morning\n",
      "okay\n",
      "bye\n"
     ]
    }
   ],
   "source": [
    "print(10)\n",
    "print(20)\n",
    "if \"-\":# condition satisfies and enter into inside\n",
    "    print(\"hello\") # print hello\n",
    "    print(\"good morning\") # print good morning and exit from the if \n",
    "print(\"okay\")# print okay\n",
    "print(\"bye\")# print bye"
   ]
  },
  {
   "cell_type": "code",
   "execution_count": 20,
   "id": "940c1368",
   "metadata": {},
   "outputs": [
    {
     "name": "stdout",
     "output_type": "stream",
     "text": [
      "10\n",
      "20\n"
     ]
    },
    {
     "ename": "NameError",
     "evalue": "name 'true' is not defined",
     "output_type": "error",
     "traceback": [
      "\u001b[1;31m---------------------------------------------------------------------------\u001b[0m",
      "\u001b[1;31mNameError\u001b[0m                                 Traceback (most recent call last)",
      "\u001b[1;32m~\\AppData\\Local\\Temp\\ipykernel_1628\\1086528802.py\u001b[0m in \u001b[0;36m<module>\u001b[1;34m\u001b[0m\n\u001b[0;32m      1\u001b[0m \u001b[0mprint\u001b[0m\u001b[1;33m(\u001b[0m\u001b[1;36m10\u001b[0m\u001b[1;33m)\u001b[0m\u001b[1;33m\u001b[0m\u001b[1;33m\u001b[0m\u001b[0m\n\u001b[0;32m      2\u001b[0m \u001b[0mprint\u001b[0m\u001b[1;33m(\u001b[0m\u001b[1;36m20\u001b[0m\u001b[1;33m)\u001b[0m\u001b[1;33m\u001b[0m\u001b[1;33m\u001b[0m\u001b[0m\n\u001b[1;32m----> 3\u001b[1;33m \u001b[1;32mif\u001b[0m \u001b[0mtrue\u001b[0m\u001b[1;33m:\u001b[0m\u001b[1;31m# condition satisfies and enter into inside\u001b[0m\u001b[1;33m\u001b[0m\u001b[1;33m\u001b[0m\u001b[0m\n\u001b[0m\u001b[0;32m      4\u001b[0m     \u001b[0mprint\u001b[0m\u001b[1;33m(\u001b[0m\u001b[1;34m\"hello\"\u001b[0m\u001b[1;33m)\u001b[0m \u001b[1;31m# print hello\u001b[0m\u001b[1;33m\u001b[0m\u001b[1;33m\u001b[0m\u001b[0m\n\u001b[0;32m      5\u001b[0m     \u001b[0mprint\u001b[0m\u001b[1;33m(\u001b[0m\u001b[1;34m\"good morning\"\u001b[0m\u001b[1;33m)\u001b[0m \u001b[1;31m# print good morning and exit from the if\u001b[0m\u001b[1;33m\u001b[0m\u001b[1;33m\u001b[0m\u001b[0m\n",
      "\u001b[1;31mNameError\u001b[0m: name 'true' is not defined"
     ]
    }
   ],
   "source": [
    "print(10)\n",
    "print(20)\n",
    "if true:# condition satisfies and enter into inside\n",
    "    print(\"hello\") # print hello\n",
    "    print(\"good morning\") # print good morning and exit from the if \n",
    "print(\"okay\")# print okay\n",
    "print(\"bye\")# print bye"
   ]
  },
  {
   "cell_type": "markdown",
   "id": "254ef789",
   "metadata": {},
   "source": [
    "** if and else**\n",
    "- if requires condition , if the condition is true then it will execute if block\n",
    "- otherwise it can directly go to else block\n",
    "- else bloack doesnot require any condition"
   ]
  },
  {
   "cell_type": "markdown",
   "id": "92b28289",
   "metadata": {},
   "source": [
    "# syntax\n",
    "if <condition>:\n",
    "    <codeline1>\n",
    "else:\n",
    "    <codeline2>"
   ]
  },
  {
   "cell_type": "code",
   "execution_count": 22,
   "id": "276eae3b",
   "metadata": {},
   "outputs": [
    {
     "name": "stdout",
     "output_type": "stream",
     "text": [
      "True\n"
     ]
    }
   ],
   "source": [
    "if 100>10:\n",
    "    print(\"True\")\n",
    "else:\n",
    "    print(\"False\")"
   ]
  },
  {
   "cell_type": "code",
   "execution_count": 23,
   "id": "3711e7fb",
   "metadata": {},
   "outputs": [
    {
     "name": "stdout",
     "output_type": "stream",
     "text": [
      "False\n"
     ]
    }
   ],
   "source": [
    "if 100<10:\n",
    "    print(\"True\")\n",
    "else:\n",
    "    print(\"False\")"
   ]
  },
  {
   "cell_type": "code",
   "execution_count": 24,
   "id": "54859bd8",
   "metadata": {},
   "outputs": [
    {
     "ename": "SyntaxError",
     "evalue": "invalid syntax (3823642291.py, line 4)",
     "output_type": "error",
     "traceback": [
      "\u001b[1;36m  File \u001b[1;32m\"C:\\Users\\My world\\AppData\\Local\\Temp\\ipykernel_1628\\3823642291.py\"\u001b[1;36m, line \u001b[1;32m4\u001b[0m\n\u001b[1;33m    else:\u001b[0m\n\u001b[1;37m    ^\u001b[0m\n\u001b[1;31mSyntaxError\u001b[0m\u001b[1;31m:\u001b[0m invalid syntax\n"
     ]
    }
   ],
   "source": [
    "if 100>10:\n",
    "    print(\"True\")\n",
    "print(\"why in middle\")\n",
    "else:\n",
    "    print(\"False\")"
   ]
  },
  {
   "cell_type": "code",
   "execution_count": 26,
   "id": "cd578006",
   "metadata": {},
   "outputs": [
    {
     "name": "stdout",
     "output_type": "stream",
     "text": [
      "10\n",
      "0\n",
      "10\n"
     ]
    },
    {
     "ename": "ZeroDivisionError",
     "evalue": "division by zero",
     "output_type": "error",
     "traceback": [
      "\u001b[1;31m---------------------------------------------------------------------------\u001b[0m",
      "\u001b[1;31mZeroDivisionError\u001b[0m                         Traceback (most recent call last)",
      "\u001b[1;32m~\\AppData\\Local\\Temp\\ipykernel_1628\\571458367.py\u001b[0m in \u001b[0;36m<module>\u001b[1;34m\u001b[0m\n\u001b[0;32m      6\u001b[0m     \u001b[0mc\u001b[0m\u001b[1;33m=\u001b[0m\u001b[0ma\u001b[0m\u001b[1;33m+\u001b[0m\u001b[0mb\u001b[0m\u001b[1;33m\u001b[0m\u001b[1;33m\u001b[0m\u001b[0m\n\u001b[0;32m      7\u001b[0m     \u001b[0mprint\u001b[0m\u001b[1;33m(\u001b[0m\u001b[0mc\u001b[0m\u001b[1;33m)\u001b[0m\u001b[1;33m\u001b[0m\u001b[1;33m\u001b[0m\u001b[0m\n\u001b[1;32m----> 8\u001b[1;33m     \u001b[0md\u001b[0m\u001b[1;33m=\u001b[0m\u001b[0mc\u001b[0m\u001b[1;33m/\u001b[0m\u001b[0mb\u001b[0m\u001b[1;33m\u001b[0m\u001b[1;33m\u001b[0m\u001b[0m\n\u001b[0m\u001b[0;32m      9\u001b[0m     \u001b[0mprint\u001b[0m\u001b[1;33m(\u001b[0m\u001b[0md\u001b[0m\u001b[1;33m)\u001b[0m\u001b[1;33m\u001b[0m\u001b[1;33m\u001b[0m\u001b[0m\n",
      "\u001b[1;31mZeroDivisionError\u001b[0m: division by zero"
     ]
    }
   ],
   "source": [
    "if True:\n",
    "    a=10\n",
    "    b=0\n",
    "    print(a)\n",
    "    print(b)\n",
    "    c=a+b\n",
    "    print(c)\n",
    "    d=c/b\n",
    "    print(d)"
   ]
  },
  {
   "cell_type": "code",
   "execution_count": 27,
   "id": "58507162",
   "metadata": {},
   "outputs": [
    {
     "data": {
      "text/plain": [
       "1.25"
      ]
     },
     "execution_count": 27,
     "metadata": {},
     "output_type": "execute_result"
    }
   ],
   "source": [
    "5/4 #normal div"
   ]
  },
  {
   "cell_type": "code",
   "execution_count": 28,
   "id": "9e61c19e",
   "metadata": {},
   "outputs": [
    {
     "data": {
      "text/plain": [
       "1"
      ]
     },
     "execution_count": 28,
     "metadata": {},
     "output_type": "execute_result"
    }
   ],
   "source": [
    "5//4 # floor div"
   ]
  },
  {
   "cell_type": "code",
   "execution_count": 29,
   "id": "b1aa30eb",
   "metadata": {},
   "outputs": [
    {
     "data": {
      "text/plain": [
       "1"
      ]
     },
     "execution_count": 29,
     "metadata": {},
     "output_type": "execute_result"
    }
   ],
   "source": [
    "5%4 #modulus operator"
   ]
  },
  {
   "cell_type": "code",
   "execution_count": 30,
   "id": "7b7c2712",
   "metadata": {},
   "outputs": [
    {
     "name": "stdout",
     "output_type": "stream",
     "text": [
      "enter a num: 5\n",
      "odd\n"
     ]
    }
   ],
   "source": [
    "#wap ask the user enter a number find it, it is a even or odd.\n",
    "#hint: any number divided by 2, then the remainder =0\n",
    "# it is called an even number\n",
    "#step1:number = eval(input())\n",
    "# step2: if <condition>:\n",
    "# step3: print()\n",
    "#step4: else:\n",
    "#step5: print()\n",
    "n=eval(input(\"enter a num: \"))\n",
    "if n%2==0:\n",
    "    print(\"even\")\n",
    "else:\n",
    "    print(\"odd\")"
   ]
  },
  {
   "cell_type": "code",
   "execution_count": null,
   "id": "89aaadad",
   "metadata": {},
   "outputs": [],
   "source": []
  },
  {
   "cell_type": "code",
   "execution_count": 2,
   "id": "50b2a412",
   "metadata": {},
   "outputs": [],
   "source": [
    "import random"
   ]
  },
  {
   "cell_type": "code",
   "execution_count": 5,
   "id": "ad86f27e",
   "metadata": {},
   "outputs": [
    {
     "name": "stdout",
     "output_type": "stream",
     "text": [
      "start : 7\n",
      "end: 10\n",
      "odd\n"
     ]
    }
   ],
   "source": [
    "#implement the baove problem by taking a random input b/w 1,100\n",
    "start=eval(input(\"start : \"))\n",
    "end= eval(input(\"end: \"))\n",
    "n=random.randint(start,end)\n",
    "if n%2==0:\n",
    "    print(\"even\")\n",
    "else:\n",
    "    print(\"odd\")"
   ]
  },
  {
   "cell_type": "markdown",
   "id": "9ec209ab",
   "metadata": {},
   "source": [
    "- we are providing the values means that it is hard coded\n",
    "- code should be always generics without hard codings\n",
    "- "
   ]
  },
  {
   "cell_type": "code",
   "execution_count": 8,
   "id": "ad073e63",
   "metadata": {},
   "outputs": [
    {
     "name": "stdout",
     "output_type": "stream",
     "text": [
      "enter the distance: 40\n",
      "your free charge is applicable for this upto 25 kms\n",
      "enter the charge: 2\n",
      "30\n"
     ]
    }
   ],
   "source": [
    "#wap ask the user enter the distance\n",
    "#if distancegreater than 25kms\n",
    "#then enter the charge\n",
    "# print total cost\n",
    "#otherwise print free ride\n",
    "kms=eval(input(\"enter the distance: \"))\n",
    "if(kms>25):\n",
    "    print(\"your free charge is applicable for this upto 25 kms\")\n",
    "    charge=eval(input(\"enter the charge: \"))\n",
    "    chargabledistance= kms-25\n",
    "    print(chargabledistance*charge)\n",
    "else:\n",
    "    print(\"you are eligible for free ride\")"
   ]
  },
  {
   "cell_type": "code",
   "execution_count": 10,
   "id": "c87d3f1c",
   "metadata": {},
   "outputs": [
    {
     "name": "stdout",
     "output_type": "stream",
     "text": [
      "enter the distance: 40\n",
      "enter the distance: 20\n",
      "your free charge is applicable for this upto 25 kms\n",
      "enter the charge: 3\n",
      "60\n"
     ]
    }
   ],
   "source": [
    "kms=eval(input(\"enter the distance: \"))\n",
    "cutoff=eval(input(\"enter the distance: \"))\n",
    "if(kms>cutoff):\n",
    "    print(\"your free charge is applicable for this upto 25 kms\")\n",
    "    charge=eval(input(\"enter the charge: \"))\n",
    "    chargabledistance= kms-cutoff\n",
    "    print(chargabledistance*charge)\n",
    "else:\n",
    "    print(\"you are eligible for free ride\")"
   ]
  },
  {
   "cell_type": "code",
   "execution_count": 11,
   "id": "a510d641",
   "metadata": {},
   "outputs": [
    {
     "name": "stdout",
     "output_type": "stream",
     "text": [
      "enter course: DATA SCIENCE\n",
      "enter institute: NARESH IT\n",
      "good\n"
     ]
    }
   ],
   "source": [
    "#wap ask the user enter the course and ask the user enter the institute\n",
    "# if the course = data science and institute= naresh it then you are good\n",
    "#otherwise you are bad\n",
    "course=input(\"enter course: \")\n",
    "institute= input(\"enter institute: \")\n",
    "if(course== \"DATA SCIENCE\" and institute == \"NARESH IT\"):\n",
    "    print(\"good\")\n",
    "else:\n",
    "    print(\"bad\")"
   ]
  },
  {
   "cell_type": "code",
   "execution_count": 16,
   "id": "22c8afc7",
   "metadata": {},
   "outputs": [
    {
     "name": "stdout",
     "output_type": "stream",
     "text": [
      "enter course: python\n",
      "enter institute: NARESH IT\n",
      "good\n"
     ]
    }
   ],
   "source": [
    "course=input(\"enter course: \")\n",
    "institute= input(\"enter institute: \")\n",
    "if(course== \"DATA SCIENCE\" or institute == 'NARESH IT'):\n",
    "    print(\"good\")\n",
    "else:\n",
    "\n",
    "    print(\"bad\")"
   ]
  },
  {
   "cell_type": "markdown",
   "id": "c3ea5e31",
   "metadata": {},
   "source": [
    "- and means 2 conditions should be satisfied\n",
    "- or means 1 or 2 conditions may satisfied"
   ]
  },
  {
   "cell_type": "code",
   "execution_count": 8,
   "id": "6c78d91f",
   "metadata": {},
   "outputs": [
    {
     "name": "stdout",
     "output_type": "stream",
     "text": [
      "enter num: 9\n",
      "you won\n"
     ]
    }
   ],
   "source": [
    "#wap take a random input \n",
    "#ask the user to another input\n",
    "#if num1 equal to num2\n",
    "#you won\n",
    "#else you fail\n",
    "import random\n",
    "num1=random.randint(1,10)\n",
    "num2=eval(input(\"enter num: \"))\n",
    "if num1==num2:\n",
    "    print(\"you won\")\n",
    "else:\n",
    "    print(\"you lost\")"
   ]
  },
  {
   "cell_type": "markdown",
   "id": "b3d4de7b",
   "metadata": {},
   "source": [
    "- till now we have seen 1 condition problem\n",
    "- which means if the condition is true we get one answer\n",
    "- otherwise if the condition is false we get another answer\n",
    "- how about if we have 2 conditions.\n",
    "- if-elif-else\n",
    "- 2 conditions means 3 results\n",
    "- if has one condition\n",
    "- elif has second condtion\n",
    "-if both are false the result is else.\n"
   ]
  },
  {
   "cell_type": "markdown",
   "id": "d22c784e",
   "metadata": {},
   "source": [
    "#syntax\n",
    "if <condition>:\n",
    "    <statements>\n",
    "elif <condition>:\n",
    "    <statements>\n",
    "else:\n",
    "    <statements>\n",
    "    "
   ]
  },
  {
   "cell_type": "markdown",
   "id": "04bd7229",
   "metadata": {},
   "source": [
    "if- else(1 condition)\n",
    "if- elif-else(2 conditions)\n",
    "if-elif-elif-else(3 conditions)\n"
   ]
  },
  {
   "cell_type": "code",
   "execution_count": null,
   "id": "a2b6ac4e",
   "metadata": {},
   "outputs": [],
   "source": [
    "#wap ask the user enter a number\n",
    "#if number=1 then print one\n",
    "#if number=2 then print two\n",
    "#if number=3 then print three\n",
    "#otherwise print enter a valid number\n",
    "num=eval(input(\"emter a number: \"))\n",
    "if num==1:\n",
    "    print(\"one\")\n",
    "elif num==2:\n",
    "    print(\"two\")\n",
    "elif num==3:\n",
    "    print(\"three\")\n",
    "else:\n",
    "    print(\"enter a valid number\")"
   ]
  },
  {
   "cell_type": "code",
   "execution_count": null,
   "id": "e062165e",
   "metadata": {},
   "outputs": [],
   "source": [
    "#wap ask the user enter a number\n",
    "#if that number >0 , then print positive\n",
    "#if that number<0, then print negative\n",
    "#otherwise print zero\n",
    "num1=eval(input(\"enter a num: \"))\n",
    "if(num1>0):\n",
    "    print(\"positive\")\n",
    "elif(num1<0):\n",
    "    print(\"negative\")\n",
    "else:\n",
    "    print(\"zero\")"
   ]
  },
  {
   "cell_type": "code",
   "execution_count": null,
   "id": "ad3aa5ee",
   "metadata": {},
   "outputs": [],
   "source": [
    "#wap ask the user to enter the percentage\n",
    "#if percentage >90, print a grade\n",
    "#if percentage b/w 75 to 90, print b grade\n",
    "#if percentage b/w 50 to 75, print c grade\n",
    "#if percentage b/w 35 to 50, print d grade\n",
    "#otherwise print fail\n",
    "per= eval(input(\"enter percentage: \"))\n",
    "if per>=90:\n",
    "    print(\"A grade\")\n",
    "elif per>=75:\n",
    "    print(\"B grade\")\n",
    "elif per>=50:\n",
    "    print(\"c grade\")\n",
    "elif per>=35:\n",
    "    print(\"D grade\")\n",
    "else:\n",
    "    print(\"Fail\")"
   ]
  },
  {
   "cell_type": "code",
   "execution_count": null,
   "id": "2014dca2",
   "metadata": {},
   "outputs": [],
   "source": [
    "#wap ask the user to enter the percentage\n",
    "#if age >90, print old age\n",
    "#if age b/w 75 to 90, print senior citizen\n",
    "#if age b/w 50 to 75, print middle age\n",
    "#if age b/w 35 to 50, print young age\n",
    "#otherwise print kid\n",
    "age= eval(input(\"enter age: \"))\n",
    "if age>=90:\n",
    "    print(\"old age\")\n",
    "elif age>=75:\n",
    "    print(\"senior citizen\")\n",
    "elif age>=50:\n",
    "    print(\"middle age\")\n",
    "elif age>=35:\n",
    "    print(\"young age\")\n",
    "else:\n",
    "    print(\"kid\")"
   ]
  },
  {
   "cell_type": "code",
   "execution_count": 7,
   "id": "62c98646",
   "metadata": {},
   "outputs": [
    {
     "name": "stdout",
     "output_type": "stream",
     "text": [
      "num1: 5\n",
      "num2: 7\n",
      "-2 sub\n"
     ]
    }
   ],
   "source": [
    "#wap ask th user to enter 2 numbers\n",
    "#num1\n",
    "#num2\n",
    "#you need to print\n",
    "#enter operation 1 for addition\n",
    "#enter operation 2 for subtraction\n",
    "#enter operation 3 for mul\n",
    "#enter operation 4 for division\n",
    "#otherwise print enter a valid number\n",
    "\n",
    "\n",
    "# enter the operation b/w 1 to 4\n",
    "#if operation equal to 1 then do add\n",
    "#if operation equal to 2 then do sub\n",
    "#if operation equal to 3 then do mul\n",
    "#if operation equal to 4 then do div\n",
    "#otherwise print enter  a vald number\n",
    "import random\n",
    "num1= eval(input(\"num1: \"))\n",
    "num2= eval(input(\"num2: \"))\n",
    "operation =random.randint(1,4)\n",
    "if operation==1:\n",
    "    print(num1+num2,\"add\")\n",
    "elif operation==2:\n",
    "    print(num1-num2,\"sub\")\n",
    "elif operation==3:\n",
    "    print(num1*num2,\"mul\")\n",
    "elif operation==4:\n",
    "    print(num1/num2,\"div\")\n",
    "else :\n",
    "    print(\"enter a valid number\")"
   ]
  },
  {
   "cell_type": "code",
   "execution_count": 9,
   "id": "8d4761f8",
   "metadata": {},
   "outputs": [
    {
     "name": "stdout",
     "output_type": "stream",
     "text": [
      "num1: 5\n",
      "num2: 8\n",
      "enter opration 1 for add\n",
      "enter opration 2 for sub\n",
      "enter opration 3 for mul\n",
      "enter opration 4 for div\n",
      "enter a choice b/w 1 to 4:2\n",
      "opration=  2\n",
      "-3 sub\n"
     ]
    }
   ],
   "source": [
    "num1= eval(input(\"num1: \"))\n",
    "num2= eval(input(\"num2: \"))\n",
    "print(\"enter opration 1 for add\")\n",
    "print(\"enter opration 2 for sub\")\n",
    "print(\"enter opration 3 for mul\")\n",
    "print(\"enter opration 4 for div\")\n",
    "operation =eval(input(\"enter a choice b/w 1 to 4:\"))\n",
    "print(\"opration= \", operation)\n",
    "if operation==1:\n",
    "    print(num1+num2,\"add\")\n",
    "elif operation==2:\n",
    "    print(num1-num2,\"sub\")\n",
    "elif operation==3:\n",
    "    print(num1*num2,\"mul\")\n",
    "elif operation==4:\n",
    "    print(num1/num2,\"div\")\n",
    "else :\n",
    "    print(\"enter a valid number\")"
   ]
  },
  {
   "cell_type": "code",
   "execution_count": 10,
   "id": "f9bfbffa",
   "metadata": {},
   "outputs": [
    {
     "name": "stdout",
     "output_type": "stream",
     "text": [
      "enter the gender: female\n",
      "enter age: 30\n",
      "middle woman\n"
     ]
    }
   ],
   "source": [
    "#wap ask the user enter the gender\n",
    "#if gender equal to male\n",
    "#    ask the user enter the age\n",
    "#    if the age greater tan 60 print ss\n",
    "#    if the age b/w 30 to 60 print middle\n",
    "#    if the age b/w 15 to 30 print young\n",
    "#    otherwise print boy\n",
    "#elif gender equal to female\n",
    "#    ask the user enter the age\n",
    "#    if the age greater tan 60 print ss\n",
    "#    if the age b/w 30 to 60 print middle\n",
    "#    if the age b/w 15 to 30 print young\n",
    "#    otherwise print girl\n",
    "#otherwise\n",
    "# print enter a valid gender\n",
    "gender = input(\"enter the gender: \")\n",
    "if (gender==\"MALE\" or gender==\"male\"):\n",
    "    age=eval(input(\"enter age: \"))\n",
    "    if age>=60:\n",
    "        print(\"senior citizen\")\n",
    "    elif age>=30:\n",
    "        print(\"middle man\")\n",
    "    elif age>=15:\n",
    "        print(\"younger\")\n",
    "    else:\n",
    "        print(\"boy\")\n",
    "elif (gender==\"FEMALE\" or gender==\"female\"):\n",
    "    age=eval(input(\"enter age: \"))\n",
    "    if age>=60:\n",
    "        print(\"senior citizen\")\n",
    "    elif age>=30:\n",
    "        print(\"middle woman\")\n",
    "    elif age>=15:\n",
    "        print(\"younger\")\n",
    "    else:\n",
    "        print(\"girl\")\n",
    "else:\n",
    "    print(\"enter a valid gender\")\n",
    "\n"
   ]
  },
  {
   "cell_type": "code",
   "execution_count": 14,
   "id": "2a1d6864",
   "metadata": {},
   "outputs": [
    {
     "name": "stdout",
     "output_type": "stream",
     "text": [
      "enter the number: 0\n",
      "zero\n"
     ]
    }
   ],
   "source": [
    "#wap ask the user enter a number \n",
    "#if thet number >= 0\n",
    "#    if the number=0 then \n",
    "#             print 0\n",
    "#    else:\n",
    "#        then print positive number\n",
    "# otherwise \n",
    "# print negative number\n",
    "num=eval(input(\"enter the number: \"))\n",
    "if num>=0:\n",
    "    if num==0:\n",
    "        print(\"zero\")\n",
    "    else:\n",
    "        print(\"positive number\")\n",
    "else:\n",
    "    print(\"negative number\")"
   ]
  },
  {
   "cell_type": "code",
   "execution_count": null,
   "id": "744a9020",
   "metadata": {},
   "outputs": [],
   "source": [
    "#take three numbers\n",
    "#num1,num2,num3\n",
    "#find the max value"
   ]
  }
 ],
 "metadata": {
  "kernelspec": {
   "display_name": "Python 3 (ipykernel)",
   "language": "python",
   "name": "python3"
  },
  "language_info": {
   "codemirror_mode": {
    "name": "ipython",
    "version": 3
   },
   "file_extension": ".py",
   "mimetype": "text/x-python",
   "name": "python",
   "nbconvert_exporter": "python",
   "pygments_lexer": "ipython3",
   "version": "3.9.13"
  }
 },
 "nbformat": 4,
 "nbformat_minor": 5
}
