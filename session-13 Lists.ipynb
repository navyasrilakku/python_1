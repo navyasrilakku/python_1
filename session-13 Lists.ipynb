{
 "cells": [
  {
   "cell_type": "markdown",
   "id": "2f3466ce",
   "metadata": {},
   "source": [
    "- Representations\n",
    "\n",
    "- type\n",
    "\n",
    "- len\n",
    "\n",
    "- max\n",
    "\n",
    "- min\n",
    "\n",
    "- sorted\n",
    "\n",
    "- reversed\n",
    "\n",
    "- in\n",
    "\n",
    "- for loop in\n",
    "\n",
    "- index\n",
    "\n",
    "- for loop index\n",
    "\n",
    "- mutable\n",
    "\n",
    "- concatenation\n",
    "\n",
    "- slicing\n",
    "\n",
    "- methods"
   ]
  },
  {
   "cell_type": "markdown",
   "id": "0f467c67",
   "metadata": {},
   "source": [
    "**Representations**"
   ]
  },
  {
   "cell_type": "markdown",
   "id": "7343075c",
   "metadata": {},
   "source": [
    "- string represntation with quotes\n",
    "\n",
    "- list represnt with  square brackets []"
   ]
  },
  {
   "cell_type": "code",
   "execution_count": 1,
   "id": "47bc47f6",
   "metadata": {},
   "outputs": [
    {
     "data": {
      "text/plain": [
       "[1, 2, 3, 4]"
      ]
     },
     "execution_count": 1,
     "metadata": {},
     "output_type": "execute_result"
    }
   ],
   "source": [
    "l1=[1,2,3,4]\n",
    "l1"
   ]
  },
  {
   "cell_type": "code",
   "execution_count": 2,
   "id": "50664f22",
   "metadata": {},
   "outputs": [
    {
     "data": {
      "text/plain": [
       "list"
      ]
     },
     "execution_count": 2,
     "metadata": {},
     "output_type": "execute_result"
    }
   ],
   "source": [
    "type(l1)"
   ]
  },
  {
   "cell_type": "code",
   "execution_count": 3,
   "id": "700bb257",
   "metadata": {},
   "outputs": [
    {
     "data": {
      "text/plain": [
       "['A', 'B', 'C', 'D']"
      ]
     },
     "execution_count": 3,
     "metadata": {},
     "output_type": "execute_result"
    }
   ],
   "source": [
    "l2=['A','B','C','D']\n",
    "l2"
   ]
  },
  {
   "cell_type": "code",
   "execution_count": 4,
   "id": "2d8b35db",
   "metadata": {},
   "outputs": [
    {
     "data": {
      "text/plain": [
       "[1, 2, 3, 4, 'A', 'B', 'C', 'D']"
      ]
     },
     "execution_count": 4,
     "metadata": {},
     "output_type": "execute_result"
    }
   ],
   "source": [
    "l3=[1,2,3,4,'A','B','C','D']\n",
    "l3"
   ]
  },
  {
   "cell_type": "code",
   "execution_count": 5,
   "id": "56265ff7",
   "metadata": {},
   "outputs": [
    {
     "data": {
      "text/plain": [
       "[1, 2, 3, 'Apple', 'Ball', 'Cat', True, False]"
      ]
     },
     "execution_count": 5,
     "metadata": {},
     "output_type": "execute_result"
    }
   ],
   "source": [
    "l4=[1,2,3,'Apple','Ball','Cat',True,False]\n",
    "l4"
   ]
  },
  {
   "cell_type": "code",
   "execution_count": 2,
   "id": "6e9e203a",
   "metadata": {},
   "outputs": [
    {
     "data": {
      "text/plain": [
       "['naresh it']"
      ]
     },
     "execution_count": 2,
     "metadata": {},
     "output_type": "execute_result"
    }
   ],
   "source": [
    "name='naresh it'\n",
    "l5=[name]\n",
    "l5"
   ]
  },
  {
   "cell_type": "code",
   "execution_count": 7,
   "id": "c2dcbd2c",
   "metadata": {},
   "outputs": [
    {
     "data": {
      "text/plain": [
       "[100, 100, 100]"
      ]
     },
     "execution_count": 7,
     "metadata": {},
     "output_type": "execute_result"
    }
   ],
   "source": [
    "l6=[100,100,100]\n",
    "l6"
   ]
  },
  {
   "cell_type": "code",
   "execution_count": 8,
   "id": "03e87b3b",
   "metadata": {},
   "outputs": [
    {
     "data": {
      "text/plain": [
       "[100, 'Apple', ['A', 2]]"
      ]
     },
     "execution_count": 8,
     "metadata": {},
     "output_type": "execute_result"
    }
   ],
   "source": [
    "l7=[100,'Apple',['A',2]]\n",
    "l7"
   ]
  },
  {
   "cell_type": "code",
   "execution_count": 9,
   "id": "43775b26",
   "metadata": {},
   "outputs": [],
   "source": [
    "l1=[1,2,3,4]\n",
    "l2=['A','B','C','D']\n",
    "l3=[1,2,3,4,'A','B','C','D']\n",
    "l4=[1,2,3,'Apple','Ball','Cat',True,False]\n",
    "name='naresh it'\n",
    "l5=[name]\n",
    "l6=[100,100,100]\n",
    "l7=[100,'Apple',['A',2]]"
   ]
  },
  {
   "cell_type": "markdown",
   "id": "3884940e",
   "metadata": {},
   "source": [
    "- list are array of elements\n",
    "\n",
    "- list elements are heterogeneous all the data types we can represent in a list\n",
    "\n",
    "- list elements are allowed duplicates\n",
    "\n",
    "- list in list is possible \n",
    "\n",
    "- variable assignment also possible in the list"
   ]
  },
  {
   "cell_type": "markdown",
   "id": "d369864f",
   "metadata": {},
   "source": [
    "- len\n",
    "\n",
    "- max\n",
    "\n",
    "- min\n",
    "\n",
    "- sorted\n",
    "\n",
    "- reversed \n",
    "\n"
   ]
  },
  {
   "cell_type": "code",
   "execution_count": 2,
   "id": "e4c2c346",
   "metadata": {},
   "outputs": [
    {
     "ename": "TypeError",
     "evalue": "len() takes exactly one argument (0 given)",
     "output_type": "error",
     "traceback": [
      "\u001b[1;31m---------------------------------------------------------------------------\u001b[0m",
      "\u001b[1;31mTypeError\u001b[0m                                 Traceback (most recent call last)",
      "\u001b[1;32m~\\AppData\\Local\\Temp\\ipykernel_10344\\3595780091.py\u001b[0m in \u001b[0;36m<module>\u001b[1;34m\u001b[0m\n\u001b[0;32m      7\u001b[0m \u001b[0ml6\u001b[0m\u001b[1;33m=\u001b[0m\u001b[1;33m[\u001b[0m\u001b[1;36m100\u001b[0m\u001b[1;33m,\u001b[0m\u001b[1;36m100\u001b[0m\u001b[1;33m,\u001b[0m\u001b[1;36m100\u001b[0m\u001b[1;33m]\u001b[0m\u001b[1;33m\u001b[0m\u001b[1;33m\u001b[0m\u001b[0m\n\u001b[0;32m      8\u001b[0m \u001b[0ml7\u001b[0m\u001b[1;33m=\u001b[0m\u001b[1;33m[\u001b[0m\u001b[1;36m100\u001b[0m\u001b[1;33m,\u001b[0m\u001b[1;34m'Apple'\u001b[0m\u001b[1;33m,\u001b[0m\u001b[1;33m[\u001b[0m\u001b[1;34m'A'\u001b[0m\u001b[1;33m,\u001b[0m\u001b[1;36m2\u001b[0m\u001b[1;33m]\u001b[0m\u001b[1;33m]\u001b[0m\u001b[1;33m\u001b[0m\u001b[1;33m\u001b[0m\u001b[0m\n\u001b[1;32m----> 9\u001b[1;33m \u001b[0mlen\u001b[0m\u001b[1;33m(\u001b[0m\u001b[1;33m)\u001b[0m\u001b[1;33m\u001b[0m\u001b[1;33m\u001b[0m\u001b[0m\n\u001b[0m\u001b[0;32m     10\u001b[0m \u001b[0mmax\u001b[0m\u001b[1;33m(\u001b[0m\u001b[1;33m)\u001b[0m\u001b[1;33m\u001b[0m\u001b[1;33m\u001b[0m\u001b[0m\n\u001b[0;32m     11\u001b[0m \u001b[0mmin\u001b[0m\u001b[1;33m(\u001b[0m\u001b[1;33m)\u001b[0m\u001b[1;33m\u001b[0m\u001b[1;33m\u001b[0m\u001b[0m\n",
      "\u001b[1;31mTypeError\u001b[0m: len() takes exactly one argument (0 given)"
     ]
    }
   ],
   "source": [
    "l1=[1,2,3,4]\n",
    "l2=['A','B','C','D']\n",
    "l3=[1,2,3,4,'A','B','C','D']\n",
    "l4=[1,2,3,'Apple','Ball','Cat',True,False]\n",
    "name='naresh it'\n",
    "l5=[name]\n",
    "l6=[100,100,100]\n",
    "l7=[100,'Apple',['A',2]]\n",
    "len()\n",
    "max()\n",
    "min()\n",
    "sorted()\n",
    "reversed()"
   ]
  },
  {
   "cell_type": "code",
   "execution_count": 6,
   "id": "f4dc2dcd",
   "metadata": {},
   "outputs": [
    {
     "data": {
      "text/plain": [
       "[100, 100, 10]"
      ]
     },
     "execution_count": 6,
     "metadata": {},
     "output_type": "execute_result"
    }
   ],
   "source": [
    "l6[2]=10\n",
    "l6"
   ]
  },
  {
   "cell_type": "code",
   "execution_count": 5,
   "id": "e0784f21",
   "metadata": {},
   "outputs": [
    {
     "data": {
      "text/plain": [
       "<list_reverseiterator at 0x1913423b490>"
      ]
     },
     "execution_count": 5,
     "metadata": {},
     "output_type": "execute_result"
    }
   ],
   "source": [
    "l4=[1,2,3,'Apple','Ball','Cat',True,False]\n",
    "reversed(l4)"
   ]
  },
  {
   "cell_type": "code",
   "execution_count": 8,
   "id": "aae7ab49",
   "metadata": {},
   "outputs": [
    {
     "name": "stdout",
     "output_type": "stream",
     "text": [
      "False True Cat Ball Apple 3 2 1 "
     ]
    }
   ],
   "source": [
    "for i in reversed(l4):\n",
    "    print(i,end=\" \")"
   ]
  },
  {
   "cell_type": "code",
   "execution_count": 13,
   "id": "19f0039d",
   "metadata": {},
   "outputs": [
    {
     "data": {
      "text/plain": [
       "[False, True, 'Cat', 'Ball', 'Apple', 3, 2, 1]"
      ]
     },
     "execution_count": 13,
     "metadata": {},
     "output_type": "execute_result"
    }
   ],
   "source": [
    "l4=[1,2,3,'Apple','Ball','Cat',True,False]\n",
    "list(reversed(l4))"
   ]
  },
  {
   "cell_type": "code",
   "execution_count": 14,
   "id": "7a86f70c",
   "metadata": {},
   "outputs": [
    {
     "data": {
      "text/plain": [
       "'banu'"
      ]
     },
     "execution_count": 14,
     "metadata": {},
     "output_type": "execute_result"
    }
   ],
   "source": [
    "name=['adithya','aadithya','banu']\n",
    "max(name)\n",
    "# First compare all first letters\n",
    "# If all first letters ascii values same\n",
    "# then compare with second letters\n",
    "# Continue the process"
   ]
  },
  {
   "cell_type": "code",
   "execution_count": 9,
   "id": "666b058f",
   "metadata": {},
   "outputs": [
    {
     "data": {
      "text/plain": [
       "3"
      ]
     },
     "execution_count": 9,
     "metadata": {},
     "output_type": "execute_result"
    }
   ],
   "source": [
    "list1=['Apple',1,['Cherry','Banana']\n",
    "      ]\n",
    "len(list1)"
   ]
  },
  {
   "cell_type": "code",
   "execution_count": 16,
   "id": "dbc7d1b7",
   "metadata": {},
   "outputs": [
    {
     "ename": "TypeError",
     "evalue": "'>' not supported between instances of 'str' and 'int'",
     "output_type": "error",
     "traceback": [
      "\u001b[1;31m---------------------------------------------------------------------------\u001b[0m",
      "\u001b[1;31mTypeError\u001b[0m                                 Traceback (most recent call last)",
      "\u001b[1;32m~\\AppData\\Local\\Temp\\ipykernel_5320\\2460263716.py\u001b[0m in \u001b[0;36m<module>\u001b[1;34m\u001b[0m\n\u001b[0;32m      1\u001b[0m \u001b[0mlist1\u001b[0m\u001b[1;33m=\u001b[0m\u001b[1;33m[\u001b[0m\u001b[1;36m65\u001b[0m\u001b[1;33m,\u001b[0m\u001b[1;34m'A'\u001b[0m\u001b[1;33m]\u001b[0m\u001b[1;33m\u001b[0m\u001b[1;33m\u001b[0m\u001b[0m\n\u001b[1;32m----> 2\u001b[1;33m \u001b[0mmax\u001b[0m\u001b[1;33m(\u001b[0m\u001b[0mlist1\u001b[0m\u001b[1;33m)\u001b[0m \u001b[1;31m# error\u001b[0m\u001b[1;33m\u001b[0m\u001b[1;33m\u001b[0m\u001b[0m\n\u001b[0m\u001b[0;32m      3\u001b[0m \u001b[1;33m\u001b[0m\u001b[0m\n\u001b[0;32m      4\u001b[0m \u001b[1;31m# same data type only comparable\u001b[0m\u001b[1;33m\u001b[0m\u001b[1;33m\u001b[0m\u001b[0m\n",
      "\u001b[1;31mTypeError\u001b[0m: '>' not supported between instances of 'str' and 'int'"
     ]
    }
   ],
   "source": [
    "list1=[65,'A']\n",
    "max(list1) # error\n",
    "\n",
    "# same data type only comparable"
   ]
  },
  {
   "cell_type": "code",
   "execution_count": 17,
   "id": "07539006",
   "metadata": {},
   "outputs": [],
   "source": [
    "l4=[1,2,3,'Apple','Ball','Cat',True,False]\n",
    "\n",
    "#-8  -7  -6    -5     -4    -3    -2    -1\n",
    "#1    2   3   Apple  Ball  Cat   True   False\n",
    "#0    1   2    3      4     5      6     7"
   ]
  },
  {
   "cell_type": "code",
   "execution_count": 18,
   "id": "436bd0b2",
   "metadata": {},
   "outputs": [
    {
     "data": {
      "text/plain": [
       "('Apple', 'Apple')"
      ]
     },
     "execution_count": 18,
     "metadata": {},
     "output_type": "execute_result"
    }
   ],
   "source": [
    "l4[3],l4[-5]"
   ]
  },
  {
   "cell_type": "code",
   "execution_count": 19,
   "id": "074df1de",
   "metadata": {},
   "outputs": [
    {
     "data": {
      "text/plain": [
       "1"
      ]
     },
     "execution_count": 19,
     "metadata": {},
     "output_type": "execute_result"
    }
   ],
   "source": [
    "l1=[1,[2]]\n",
    "l1[0]"
   ]
  },
  {
   "cell_type": "code",
   "execution_count": 20,
   "id": "770f2419",
   "metadata": {},
   "outputs": [
    {
     "data": {
      "text/plain": [
       "2"
      ]
     },
     "execution_count": 20,
     "metadata": {},
     "output_type": "execute_result"
    }
   ],
   "source": [
    "new=l1[1]\n",
    "new[0]"
   ]
  },
  {
   "cell_type": "code",
   "execution_count": 21,
   "id": "45aa1998",
   "metadata": {},
   "outputs": [
    {
     "data": {
      "text/plain": [
       "2"
      ]
     },
     "execution_count": 21,
     "metadata": {},
     "output_type": "execute_result"
    }
   ],
   "source": [
    "l1=[1,[2]]\n",
    "new=l1[1]  #  [2]   will come again it is a list, one element\n",
    "new[0]\n",
    "\n",
    "l1[1][0]"
   ]
  },
  {
   "cell_type": "code",
   "execution_count": 22,
   "id": "ad9a8197",
   "metadata": {},
   "outputs": [
    {
     "data": {
      "text/plain": [
       "'A'"
      ]
     },
     "execution_count": 22,
     "metadata": {},
     "output_type": "execute_result"
    }
   ],
   "source": [
    "l1=[1,[2,'A']]\n",
    "l1[1][1]\n",
    "\n",
    "# 'A' is presented at index  1\n",
    "# so we given l1[1] : [2,'A'] it is also a list\n",
    "# The list has two elements\n",
    "# 'A' at 1st index\n",
    "# l1[1][1]"
   ]
  },
  {
   "cell_type": "code",
   "execution_count": 23,
   "id": "6a93a7ea",
   "metadata": {},
   "outputs": [
    {
     "data": {
      "text/plain": [
       "'A'"
      ]
     },
     "execution_count": 23,
     "metadata": {},
     "output_type": "execute_result"
    }
   ],
   "source": [
    "# How to get 'A'\n",
    "#  1    [2,'A']\n",
    "#  0      1\n",
    "l1=[1,[2,'A']]\n",
    "# Q1) How many elements are there in a list: 2\n",
    "# Q2) 'A' is at which index : \n",
    "# In python index start at  0\n",
    "# 0 and 1\n",
    "l1[1]    #  [2,'A']\n",
    "# Q3) l1[1]  output is which type list\n",
    "# Q4) 'A'  1\n",
    "l1[1][1]"
   ]
  },
  {
   "cell_type": "code",
   "execution_count": 24,
   "id": "594f1308",
   "metadata": {},
   "outputs": [
    {
     "data": {
      "text/plain": [
       "['A', 'B']"
      ]
     },
     "execution_count": 24,
     "metadata": {},
     "output_type": "execute_result"
    }
   ],
   "source": [
    "l1=[1,  # 0\n",
    "    [2,['A','B']]  # 1\n",
    "   ]\n",
    "# I want 'B'\n",
    "# How many elements\n",
    "len(l1)\n",
    "l1[1][1]"
   ]
  },
  {
   "cell_type": "code",
   "execution_count": 25,
   "id": "dbf2f29b",
   "metadata": {},
   "outputs": [
    {
     "data": {
      "text/plain": [
       "'Apple'"
      ]
     },
     "execution_count": 25,
     "metadata": {},
     "output_type": "execute_result"
    }
   ],
   "source": [
    "l1=[1,2,[3,[4,[5,['Apple']]]]]\n",
    "# 2110\n",
    "# 21110\n",
    "len(l1)  #  index=2\n",
    "l1[2][1][1][1][0]"
   ]
  },
  {
   "cell_type": "code",
   "execution_count": 26,
   "id": "55c6f734",
   "metadata": {},
   "outputs": [
    {
     "data": {
      "text/plain": [
       "'Banana'"
      ]
     },
     "execution_count": 26,
     "metadata": {},
     "output_type": "execute_result"
    }
   ],
   "source": [
    "list1=['Apple',\n",
    "       1,\n",
    "       'Solapur',\n",
    "       ['cherry','papaya',70,[123,'Banana'],\n",
    "        'tomato'],\n",
    "       'python'] #get banana  331\n",
    "list1[3][3][1]"
   ]
  },
  {
   "cell_type": "code",
   "execution_count": 27,
   "id": "7ab56597",
   "metadata": {},
   "outputs": [
    {
     "data": {
      "text/plain": [
       "'Cherry'"
      ]
     },
     "execution_count": 27,
     "metadata": {},
     "output_type": "execute_result"
    }
   ],
   "source": [
    "list1=[[[[[[[1,'Cherry']]]]]]]\n",
    "list1[0][0][0][0][0][0][1]"
   ]
  },
  {
   "cell_type": "code",
   "execution_count": 28,
   "id": "fcba9253",
   "metadata": {},
   "outputs": [
    {
     "data": {
      "text/plain": [
       "2"
      ]
     },
     "execution_count": 28,
     "metadata": {},
     "output_type": "execute_result"
    }
   ],
   "source": [
    "list1=['MH',\n",
    "       ['Nagpur',['Orange',['likes',['king'],['shivaji',['Son',['shmbaji']]]]]\n",
    "       ]]\n",
    "len(list1)"
   ]
  },
  {
   "cell_type": "code",
   "execution_count": 29,
   "id": "d1a02b8d",
   "metadata": {},
   "outputs": [
    {
     "data": {
      "text/plain": [
       "'shmbaji'"
      ]
     },
     "execution_count": 29,
     "metadata": {},
     "output_type": "execute_result"
    }
   ],
   "source": [
    "list1[1][1][1][2][1][1][0]"
   ]
  },
  {
   "cell_type": "code",
   "execution_count": 30,
   "id": "1861b306",
   "metadata": {},
   "outputs": [],
   "source": [
    "# In operator : For loop\n",
    "# Index : For loop\n",
    "# Mutability check\n",
    "# Slicing\n",
    "#"
   ]
  },
  {
   "cell_type": "code",
   "execution_count": 31,
   "id": "4dfe0123",
   "metadata": {},
   "outputs": [
    {
     "name": "stdout",
     "output_type": "stream",
     "text": [
      "1\n",
      "2\n",
      "3\n",
      "A\n",
      "B\n",
      "C\n",
      "True\n",
      "False\n"
     ]
    }
   ],
   "source": [
    "l4=[1,2,3,'A','B','C',True,False]\n",
    "\n",
    "#-8  -7   -6   -5     -4    -3    -2    -1\n",
    "#1   2    3    'A'    'B'   'C'   True  False\n",
    "#0   1    2     3      4     5     6     7\n",
    "for i in range(len(l4)):\n",
    "    print(l4[i])"
   ]
  },
  {
   "cell_type": "code",
   "execution_count": 32,
   "id": "a543931c",
   "metadata": {},
   "outputs": [
    {
     "name": "stdout",
     "output_type": "stream",
     "text": [
      "The postive index of 1 is 0\n",
      "The postive index of 2 is 1\n",
      "The postive index of 3 is 2\n",
      "The postive index of A is 3\n",
      "The postive index of B is 4\n",
      "The postive index of C is 5\n",
      "The postive index of True is 6\n",
      "The postive index of False is 7\n",
      "The postive index of w is 0\n",
      "The postive index of e is 1\n",
      "The postive index of l is 2\n",
      "The postive index of c is 3\n",
      "The postive index of o is 4\n",
      "The postive index of m is 5\n",
      "The postive index of e is 6\n"
     ]
    }
   ],
   "source": [
    "l4=[1,2,3,'A','B','C',True,False]\n",
    "for i in range(len(l4)):\n",
    "    print(f\"The postive index of {l4[i]} is {i}\")\n",
    "\n",
    "s='welcome'\n",
    "for i in range(len(s)):\n",
    "    print(f\"The postive index of {s[i]} is {i}\")"
   ]
  },
  {
   "cell_type": "code",
   "execution_count": 33,
   "id": "3ef1e02f",
   "metadata": {},
   "outputs": [
    {
     "name": "stdout",
     "output_type": "stream",
     "text": [
      "The postive index of 1 is 0\n",
      "The postive index of 2 is 1\n",
      "The postive index of 3 is 2\n",
      "The postive index of A is 3\n",
      "The postive index of B is 4\n",
      "The postive index of C is 5\n",
      "The postive index of True is 6\n",
      "The postive index of False is 7\n"
     ]
    }
   ],
   "source": [
    "l4=[1,2,3,'A','B','C',True,False]\n",
    "for i in range(len(l4)):\n",
    "    print(f\"The postive index of {l4[i]} is {i}\")"
   ]
  },
  {
   "cell_type": "code",
   "execution_count": 35,
   "id": "c70878fc",
   "metadata": {},
   "outputs": [
    {
     "ename": "TypeError",
     "evalue": "'str' object does not support item assignment",
     "output_type": "error",
     "traceback": [
      "\u001b[1;31m---------------------------------------------------------------------------\u001b[0m",
      "\u001b[1;31mTypeError\u001b[0m                                 Traceback (most recent call last)",
      "\u001b[1;32m~\\AppData\\Local\\Temp\\ipykernel_5320\\1171910847.py\u001b[0m in \u001b[0;36m<module>\u001b[1;34m\u001b[0m\n\u001b[0;32m      7\u001b[0m \u001b[0ms\u001b[0m\u001b[1;33m=\u001b[0m\u001b[1;34m'Naresh'\u001b[0m\u001b[1;33m\u001b[0m\u001b[1;33m\u001b[0m\u001b[0m\n\u001b[0;32m      8\u001b[0m \u001b[1;31m# We want to change 'h'  'I'\u001b[0m\u001b[1;33m\u001b[0m\u001b[1;33m\u001b[0m\u001b[0m\n\u001b[1;32m----> 9\u001b[1;33m \u001b[0ms\u001b[0m\u001b[1;33m[\u001b[0m\u001b[1;36m5\u001b[0m\u001b[1;33m]\u001b[0m\u001b[1;33m=\u001b[0m\u001b[1;34m'I'\u001b[0m\u001b[1;33m\u001b[0m\u001b[1;33m\u001b[0m\u001b[0m\n\u001b[0m\u001b[0;32m     10\u001b[0m \u001b[1;33m\u001b[0m\u001b[0m\n\u001b[0;32m     11\u001b[0m \u001b[1;31m# TypeError: 'str' object does not support item assignment\u001b[0m\u001b[1;33m\u001b[0m\u001b[1;33m\u001b[0m\u001b[0m\n",
      "\u001b[1;31mTypeError\u001b[0m: 'str' object does not support item assignment"
     ]
    }
   ],
   "source": [
    "# We want to change 1  with 100\n",
    "l=[1,2,3]\n",
    "l[0]=100\n",
    "l\n",
    "\n",
    "#Hi Sir - how the string is immutable  please explain\n",
    "s='Naresh'\n",
    "# We want to change 'h'  'I'\n",
    "s[5]='I'\n",
    "\n",
    "# TypeError: 'str' object does not support item assignment\n",
    "# Not able"
   ]
  },
  {
   "cell_type": "code",
   "execution_count": 36,
   "id": "f93676db",
   "metadata": {},
   "outputs": [
    {
     "ename": "SyntaxError",
     "evalue": "invalid syntax (2257408919.py, line 4)",
     "output_type": "error",
     "traceback": [
      "\u001b[1;36m  File \u001b[1;32m\"C:\\Users\\My world\\AppData\\Local\\Temp\\ipykernel_5320\\2257408919.py\"\u001b[1;36m, line \u001b[1;32m4\u001b[0m\n\u001b[1;33m    0     1    2    3    4    5   6   7   8   9   10  11  12\u001b[0m\n\u001b[1;37m          ^\u001b[0m\n\u001b[1;31mSyntaxError\u001b[0m\u001b[1;31m:\u001b[0m invalid syntax\n"
     ]
    }
   ],
   "source": [
    "l=[1,2,3,4,5,6,'A','B','C','D','E','F','G']\n",
    "-13  -12  -11  -10  -9   -8  -7  -6  -5  -4  -3  -2  -1\n",
    "1,    2,   3,   4,   5,   6, 'A','B','C','D','E','F','G'\n",
    "0     1    2    3    4    5   6   7   8   9   10  11  12\n",
    "\n",
    "l[3:9:2] # P\n",
    "l[3:9:-2] # Np\n",
    "l[3:-9:2] # -----\n",
    "l[3:-9:-2] # Np\n",
    "l[-3:9:2]  # Np\n",
    "l[-3:-9:-2] # W\n",
    "l[-3:9:-2]  "
   ]
  },
  {
   "cell_type": "code",
   "execution_count": 37,
   "id": "dbf9089c",
   "metadata": {},
   "outputs": [
    {
     "data": {
      "text/plain": [
       "['E']"
      ]
     },
     "execution_count": 37,
     "metadata": {},
     "output_type": "execute_result"
    }
   ],
   "source": [
    "l=[1,2,3,4,5,6,'A','B','C','D','E','F','G']\n",
    "l[3:-9:2]\n",
    "# start=3\n",
    "# dire =+ve\n",
    "# last= stop-1 = -9-1=-10\n",
    "\n",
    "l[-3:9:-2] "
   ]
  },
  {
   "cell_type": "code",
   "execution_count": 38,
   "id": "e138e5e2",
   "metadata": {},
   "outputs": [],
   "source": [
    "# Tomorrow you have a exam\n",
    "# MCQ in Python\n",
    "\n",
    "# Sunday you dont have class\n",
    "\n",
    "# Friday 50-50 (26)\n",
    "# Sat (27)\n",
    "# Sun (28)\n",
    "\n",
    "# Aug 4 class\n",
    "# Aug 11 class\n"
   ]
  },
  {
   "cell_type": "code",
   "execution_count": 39,
   "id": "7dc96b16",
   "metadata": {},
   "outputs": [
    {
     "data": {
      "text/plain": [
       "['__add__',\n",
       " '__class__',\n",
       " '__class_getitem__',\n",
       " '__contains__',\n",
       " '__delattr__',\n",
       " '__delitem__',\n",
       " '__dir__',\n",
       " '__doc__',\n",
       " '__eq__',\n",
       " '__format__',\n",
       " '__ge__',\n",
       " '__getattribute__',\n",
       " '__getitem__',\n",
       " '__gt__',\n",
       " '__hash__',\n",
       " '__iadd__',\n",
       " '__imul__',\n",
       " '__init__',\n",
       " '__init_subclass__',\n",
       " '__iter__',\n",
       " '__le__',\n",
       " '__len__',\n",
       " '__lt__',\n",
       " '__mul__',\n",
       " '__ne__',\n",
       " '__new__',\n",
       " '__reduce__',\n",
       " '__reduce_ex__',\n",
       " '__repr__',\n",
       " '__reversed__',\n",
       " '__rmul__',\n",
       " '__setattr__',\n",
       " '__setitem__',\n",
       " '__sizeof__',\n",
       " '__str__',\n",
       " '__subclasshook__',\n",
       " 'append',\n",
       " 'clear',\n",
       " 'copy',\n",
       " 'count',\n",
       " 'extend',\n",
       " 'index',\n",
       " 'insert',\n",
       " 'pop',\n",
       " 'remove',\n",
       " 'reverse',\n",
       " 'sort']"
      ]
     },
     "execution_count": 39,
     "metadata": {},
     "output_type": "execute_result"
    }
   ],
   "source": [
    "# strings dir('')\n",
    "dir([])"
   ]
  },
  {
   "cell_type": "code",
   "execution_count": null,
   "id": "a02df7fa",
   "metadata": {},
   "outputs": [],
   "source": [
    "'append',\n",
    "'clear',\n",
    "'copy',\n",
    "'count',\n",
    "'extend',\n",
    "'index',\n",
    "'insert',\n",
    "'pop',\n",
    "'remove',\n",
    "'reverse',\n",
    "'sort'"
   ]
  },
  {
   "cell_type": "markdown",
   "id": "b73e4e8e",
   "metadata": {},
   "source": [
    "**append**\n",
    "\n",
    "- adding elements in a list at last index\n",
    "\n",
    "- append method is very important\n",
    "\n",
    "- most of the time we will use append in the real time\n",
    "\n",
    "- When you add the value the original list will be overwrite\n"
   ]
  },
  {
   "cell_type": "code",
   "execution_count": 40,
   "id": "cec6e402",
   "metadata": {},
   "outputs": [
    {
     "data": {
      "text/plain": [
       "['Apple', 'Ball', 'Cat']"
      ]
     },
     "execution_count": 40,
     "metadata": {},
     "output_type": "execute_result"
    }
   ],
   "source": [
    "l=['Apple','Ball','Cat']\n",
    "l"
   ]
  },
  {
   "cell_type": "code",
   "execution_count": 41,
   "id": "c5907205",
   "metadata": {},
   "outputs": [
    {
     "ename": "SyntaxError",
     "evalue": "invalid syntax (2173214698.py, line 11)",
     "output_type": "error",
     "traceback": [
      "\u001b[1;36m  File \u001b[1;32m\"C:\\Users\\My world\\AppData\\Local\\Temp\\ipykernel_5320\\2173214698.py\"\u001b[1;36m, line \u001b[1;32m11\u001b[0m\n\u001b[1;33m    <package>.<method>()\u001b[0m\n\u001b[1;37m    ^\u001b[0m\n\u001b[1;31mSyntaxError\u001b[0m\u001b[1;31m:\u001b[0m invalid syntax\n"
     ]
    }
   ],
   "source": [
    "# You want to add Doll in a given list\n",
    "\n",
    "# Keywords  vs methods\n",
    "len()\n",
    "max()\n",
    "min()\n",
    "reversed()\n",
    "sorted()\n",
    "\n",
    "# Methods\n",
    "<package>.<method>()\n",
    "# we already discussed\n",
    "# Data types has own method\n",
    "# <data type>.<method>\n",
    "# <pacckage>.<methods>"
   ]
  },
  {
   "cell_type": "code",
   "execution_count": 42,
   "id": "7828ab9d",
   "metadata": {},
   "outputs": [],
   "source": [
    "l.append('Doll')"
   ]
  },
  {
   "cell_type": "code",
   "execution_count": 43,
   "id": "9f949d4c",
   "metadata": {},
   "outputs": [
    {
     "data": {
      "text/plain": [
       "['Apple', 'Ball', 'Cat', 'Doll']"
      ]
     },
     "execution_count": 43,
     "metadata": {},
     "output_type": "execute_result"
    }
   ],
   "source": [
    "l"
   ]
  },
  {
   "cell_type": "code",
   "execution_count": 44,
   "id": "c34818be",
   "metadata": {},
   "outputs": [
    {
     "data": {
      "text/plain": [
       "[1, 2, 3, 4, 100]"
      ]
     },
     "execution_count": 44,
     "metadata": {},
     "output_type": "execute_result"
    }
   ],
   "source": [
    "l1=[1,2,3,4]\n",
    "l1.append(100)\n",
    "l1"
   ]
  },
  {
   "cell_type": "code",
   "execution_count": 45,
   "id": "de028282",
   "metadata": {},
   "outputs": [
    {
     "data": {
      "text/plain": [
       "[10, 20, 'apple', ['A', 1], True]"
      ]
     },
     "execution_count": 45,
     "metadata": {},
     "output_type": "execute_result"
    }
   ],
   "source": [
    "l2=[]\n",
    "l2.append(10)\n",
    "l2.append(20)\n",
    "l2.append('apple')\n",
    "l2.append(['A',1])\n",
    "l2.append(True)\n",
    "l2"
   ]
  },
  {
   "cell_type": "code",
   "execution_count": 46,
   "id": "ba1cf220",
   "metadata": {},
   "outputs": [
    {
     "ename": "SyntaxError",
     "evalue": "invalid syntax (2383844822.py, line 1)",
     "output_type": "error",
     "traceback": [
      "\u001b[1;36m  File \u001b[1;32m\"C:\\Users\\My world\\AppData\\Local\\Temp\\ipykernel_5320\\2383844822.py\"\u001b[1;36m, line \u001b[1;32m1\u001b[0m\n\u001b[1;33m    list.append() takes exactly one argument how can we add more in one statement sir\u001b[0m\n\u001b[1;37m                  ^\u001b[0m\n\u001b[1;31mSyntaxError\u001b[0m\u001b[1;31m:\u001b[0m invalid syntax\n"
     ]
    }
   ],
   "source": [
    "list.append() takes exactly one argument how can we add more in one statement sir\n",
    "l1.append(100,200,300)  # Error"
   ]
  },
  {
   "cell_type": "code",
   "execution_count": 47,
   "id": "a8c6c92e",
   "metadata": {},
   "outputs": [
    {
     "name": "stdout",
     "output_type": "stream",
     "text": [
      "1\n",
      "4\n",
      "9\n",
      "16\n",
      "25\n"
     ]
    }
   ],
   "source": [
    "for i in range(1,6):\n",
    "    print(i*i)"
   ]
  },
  {
   "cell_type": "code",
   "execution_count": 48,
   "id": "a1c4a0da",
   "metadata": {},
   "outputs": [
    {
     "data": {
      "text/plain": [
       "[1, 4, 9, 16, 25]"
      ]
     },
     "execution_count": 48,
     "metadata": {},
     "output_type": "execute_result"
    }
   ],
   "source": [
    "square_list=[]\n",
    "for i in range(1,6):\n",
    "    square_list.append(i*i)\n",
    "# print ==== square_list.append\n",
    "square_list"
   ]
  },
  {
   "cell_type": "code",
   "execution_count": 49,
   "id": "0af657e5",
   "metadata": {},
   "outputs": [],
   "source": [
    "s=''\n",
    "for i in 'python':\n",
    "    s=s+i\n",
    "\n",
    "# str='hai hai hai'\n",
    "# what are  index of  'a'\n",
    "# save that index numbers in a list"
   ]
  },
  {
   "cell_type": "code",
   "execution_count": 50,
   "id": "ebeae9e4",
   "metadata": {},
   "outputs": [
    {
     "data": {
      "text/plain": [
       "([1, 5, 9], 15)"
      ]
     },
     "execution_count": 50,
     "metadata": {},
     "output_type": "execute_result"
    }
   ],
   "source": [
    "str1='hai hai hai'\n",
    "id_list=[]\n",
    "for i in range(len(str1)):\n",
    "    if str1[i]=='a':\n",
    "        id_list.append(i)\n",
    "\n",
    "id_list,sum(id_list)"
   ]
  },
  {
   "cell_type": "code",
   "execution_count": 51,
   "id": "916a3484",
   "metadata": {},
   "outputs": [
    {
     "data": {
      "text/plain": [
       "15"
      ]
     },
     "execution_count": 51,
     "metadata": {},
     "output_type": "execute_result"
    }
   ],
   "source": [
    "summ=0\n",
    "str1='hai hai hai'\n",
    "for i in range(len(str1)):\n",
    "    if str1[i]=='a':\n",
    "        summ=summ+i\n",
    "\n",
    "summ"
   ]
  },
  {
   "cell_type": "code",
   "execution_count": null,
   "id": "bfb18fac",
   "metadata": {},
   "outputs": [],
   "source": [
    "# Q2)l1=['Hyd','Mumbai','Chennai','blr']\n",
    "#  ans=['Mumbai','Chennai']  \n",
    "#  we want lements which are len of element >4\n",
    "\n",
    "# Q3)l1=['Hyd','Mum#bai','Chen#nai','blr']\n",
    "#  ans=['Mum#bai'',Chen#nai']  \n",
    "#  we want lements which are having '#'\n",
    "\n",
    "# Q4)l1=['hyd','mumbai','chennai','blr']\n",
    "#  ans= ['Hyd','Mumbai','Chennai','Blr']\n",
    "#  we want lements which are len of element >4\n",
    "\n",
    "# Q5)l1=['Hyd','Mumbai','chennai','blr']\n",
    "#  ans= ['Hyd','Mumbai']\n",
    "#  we want lements which are having first letter capital\n",
    "\n",
    "# Q6)l1=['Hyd','Mum#bai','Chen#nai','blr']\n",
    "#  ans_#=['Mum#bai'',Chen#nai']  \n",
    "#  ans_without_#=['Hyd'','blr'] \n",
    "#  we want lements which are having '#'\n",
    "\n",
    "# Q7) ask the user get 5 numbers randomly\n",
    "#     even_list and odd_list\n",
    "#     even numbers should append at even_list\n",
    "#     odd number should append at odd_list\n",
    "\n",
    "# Q8) str='hello hai how are you'\n",
    "# Maximum len of word using split and max method\n",
    "# sum of all the indexes of the maximum len of word using append\n",
    "\n",
    "# Q9) str1='virat.kohli@rcb.com, Rohit.sharma@mi.co, KL.Rahul@lucknow.com'\n",
    "# Firstname=[]  second name=[]  cname =[]\n",
    "# append first name should be in first name list\n",
    "#        second name shoul be in second name list\n",
    "#        thirs name will be in thirs name list\n",
    "\n",
    "# 10 ) \n",
    "#  You have two lists\n",
    "# qns=['What is capital of India',\n",
    "       'Who is PM of india',\n",
    "        'Who is ICT ODI captian']\n",
    "# ans = ['Delhi','Modi','Rohit']\n",
    "\n",
    "# For i in qns:\n",
    "#     print(i)\n",
    "#     ans= delhi\n",
    "#      index should match\n",
    "#      delhi  modi \n",
    "#      marks= marks+1\n",
    "# print the total marks"
   ]
  },
  {
   "cell_type": "code",
   "execution_count": 52,
   "id": "fb37d127",
   "metadata": {},
   "outputs": [
    {
     "data": {
      "text/plain": [
       "['Mumbai', 'Chennai']"
      ]
     },
     "execution_count": 52,
     "metadata": {},
     "output_type": "execute_result"
    }
   ],
   "source": [
    "# Q2)l1=['Hyd','Mumbai','Chennai','blr']\n",
    "#  ans=['Mumbai','Chennai']  \n",
    "#  we want lements which are len of element >4\n",
    "l1=['Hyd','Mumbai','Chennai','blr']\n",
    "ans=[]\n",
    "for i in l1:\n",
    "    if len(i)>4:\n",
    "        ans.append(i)\n",
    "ans"
   ]
  },
  {
   "cell_type": "code",
   "execution_count": 53,
   "id": "d503670c",
   "metadata": {},
   "outputs": [
    {
     "data": {
      "text/plain": [
       "['Mumb#ai', 'Chen#nai']"
      ]
     },
     "execution_count": 53,
     "metadata": {},
     "output_type": "execute_result"
    }
   ],
   "source": [
    "# Q3)l1=['Hyd','Mum#bai','Chen#nai','blr']\n",
    "#  ans=['Mum#bai'',Chen#nai']  \n",
    "#  we want lements which are having '#'\n",
    "l1=['Hyd','Mumb#ai','Chen#nai','blr']\n",
    "ans=[]\n",
    "for i in l1:\n",
    "    if '#' in i:\n",
    "        ans.append(i)\n",
    "ans"
   ]
  },
  {
   "cell_type": "code",
   "execution_count": 55,
   "id": "a30f35aa",
   "metadata": {},
   "outputs": [
    {
     "ename": "IndentationError",
     "evalue": "expected an indented block (40462378.py, line 3)",
     "output_type": "error",
     "traceback": [
      "\u001b[1;36m  File \u001b[1;32m\"C:\\Users\\My world\\AppData\\Local\\Temp\\ipykernel_5320\\40462378.py\"\u001b[1;36m, line \u001b[1;32m3\u001b[0m\n\u001b[1;33m    if i in '#':\u001b[0m\n\u001b[1;37m                ^\u001b[0m\n\u001b[1;31mIndentationError\u001b[0m\u001b[1;31m:\u001b[0m expected an indented block\n"
     ]
    }
   ],
   "source": [
    "l1=['Hyd','Mumb#ai','Chen#nai','blr']\n",
    "for i in l1:\n",
    "    if i in '#':"
   ]
  },
  {
   "cell_type": "code",
   "execution_count": 56,
   "id": "c31394d8",
   "metadata": {},
   "outputs": [
    {
     "data": {
      "text/plain": [
       "True"
      ]
     },
     "execution_count": 56,
     "metadata": {},
     "output_type": "execute_result"
    }
   ],
   "source": [
    "'nadeem' in '#'  # 'nadeem' is avialable in '#'\n",
    "'#' in 'nadeem'  # is '#'  available in 'nadeem'\n",
    "'nad##m' in '#'  # is 'nad##m'  avaialabe in '#'\n",
    "'#' in 'nad##m'  # is '#'  avaialabe in 'nad##m'"
   ]
  },
  {
   "cell_type": "code",
   "execution_count": 57,
   "id": "4e52012f",
   "metadata": {},
   "outputs": [
    {
     "data": {
      "text/plain": [
       "['Hyd', 'Mumbai', 'Chennai', 'Blr']"
      ]
     },
     "execution_count": 57,
     "metadata": {},
     "output_type": "execute_result"
    }
   ],
   "source": [
    "# Q5)l1=['Hyd','Mumbai','chennai','blr']\n",
    "#  ans= ['Hyd','Mumbai']\n",
    "#  we want lements which are having first letter capital\n",
    "l1=['Hyd','Mumbai','Chennai','blr']\n",
    "ans=[]\n",
    "for i in l1:\n",
    "    ans.append(i.capitalize())\n",
    "ans\n",
    "\n",
    "# what is the difference betweeb capitalize and title"
   ]
  },
  {
   "cell_type": "code",
   "execution_count": 58,
   "id": "d59574c1",
   "metadata": {},
   "outputs": [
    {
     "data": {
      "text/plain": [
       "'Hello Im Learning Python'"
      ]
     },
     "execution_count": 58,
     "metadata": {},
     "output_type": "execute_result"
    }
   ],
   "source": [
    "str1='hello im learning python'\n",
    "# Make everyword capitalize\n",
    "str1.title()"
   ]
  },
  {
   "cell_type": "code",
   "execution_count": 59,
   "id": "5f67ba6e",
   "metadata": {},
   "outputs": [],
   "source": [
    "# Do the same using capitalize method\n",
    "# step-1: split the string\n",
    "# step-2: take empty list\n",
    "# step-3: iterate the each letter apply capitlize and append it\n",
    "# step-4: join the list"
   ]
  },
  {
   "cell_type": "markdown",
   "id": "8f3e7822",
   "metadata": {},
   "source": [
    "**split-join**"
   ]
  },
  {
   "cell_type": "markdown",
   "id": "d91ac0f1",
   "metadata": {},
   "source": [
    "- split will apply for strings , to divide the words or characters\n",
    "\n",
    "- when we split the elements will be stored in a list format\n",
    "\n",
    "- Join is used to combine the elements of a list in a string format\n",
    "\n",
    "- **split-strings**\n",
    "\n",
    "- **join-list**"
   ]
  },
  {
   "cell_type": "code",
   "execution_count": 60,
   "id": "1342fe59",
   "metadata": {},
   "outputs": [
    {
     "data": {
      "text/plain": [
       "'Hello Im Learning Python'"
      ]
     },
     "execution_count": 60,
     "metadata": {},
     "output_type": "execute_result"
    }
   ],
   "source": [
    "str1='hello im learning python'\n",
    "words=str1.split()\n",
    "new_words=[]\n",
    "for i in words:\n",
    "    new_words.append(i.capitalize())\n",
    "' '.join(new_words)"
   ]
  },
  {
   "cell_type": "code",
   "execution_count": 61,
   "id": "2e6155dc",
   "metadata": {},
   "outputs": [
    {
     "name": "stdout",
     "output_type": "stream",
     "text": [
      "4.123105625617661\n"
     ]
    }
   ],
   "source": [
    "# Calculate the distance between two points\n",
    "# a=[1,2] \n",
    "# b=[4,5]\n",
    "# a=[x1,x2]\n",
    "# b=[y1,y2]\n",
    "# step-0: Import math\n",
    "# step-1:v1= x2-x1=a[2]-a[1]   === index\n",
    "# step-2:v2= y2-y1=b[2]-b[1]   === index\n",
    "# step-3: v11=v1**2\n",
    "# step-4: v22=v2**2\n",
    "# step-5: ans=math.sqrt(v11+v22)\n",
    "import math\n",
    "a= [1,2]\n",
    "b = [1,5]\n",
    "v1 = a[1]-a[0]\n",
    "v2 = b[1]-b[0]\n",
    "v11 = v1**2\n",
    "v22 = v2**2\n",
    "print(math.sqrt(v11+v22))"
   ]
  },
  {
   "cell_type": "code",
   "execution_count": 62,
   "id": "a08f3e57",
   "metadata": {},
   "outputs": [
    {
     "name": "stdout",
     "output_type": "stream",
     "text": [
      "4.123105625617661\n"
     ]
    }
   ],
   "source": [
    "import math\n",
    "a= [1,2]\n",
    "b = [1,5]\n",
    "print(math.sqrt(math.pow((a[1]-a[0]),2)+math.pow((b[1]-b[0]),2)))"
   ]
  },
  {
   "cell_type": "code",
   "execution_count": 63,
   "id": "d9fa434a",
   "metadata": {},
   "outputs": [
    {
     "data": {
      "text/plain": [
       "[100, 500, 600, 700, 400, 300, 50]"
      ]
     },
     "execution_count": 63,
     "metadata": {},
     "output_type": "execute_result"
    }
   ],
   "source": [
    "[1,2,3,4,5,4,3,2,1]\n",
    "[100,500,600,700,400,300,50]"
   ]
  },
  {
   "cell_type": "code",
   "execution_count": 64,
   "id": "05fe1a64",
   "metadata": {},
   "outputs": [
    {
     "name": "stdout",
     "output_type": "stream",
     "text": [
      "3.0\n"
     ]
    }
   ],
   "source": [
    "pints=[[1,2],[2,3],[3,4]]\n",
    "val=[2,3]\n",
    "\n",
    "# calculate the distance between val [2,3] to each and every point\n",
    "# and find the maximum distance\n",
    "import math\n",
    "a= [1,2]  # [x1,y1]   \n",
    "b = [1,5] # [x2,y2]\n",
    "# for loop\n",
    "v1 = b[0]-a[0] # x2-x1\n",
    "v2 = b[1]-a[1] # y2-y1\n",
    "v11 = v1**2\n",
    "v22 = v2**2\n",
    "print(math.sqrt(v11+v22))"
   ]
  },
  {
   "cell_type": "code",
   "execution_count": 65,
   "id": "c5b7a50e",
   "metadata": {},
   "outputs": [
    {
     "name": "stdout",
     "output_type": "stream",
     "text": [
      "1 2\n",
      "2 3\n",
      "====================\n",
      "2 3\n",
      "2 3\n",
      "====================\n",
      "3 4\n",
      "2 3\n",
      "====================\n"
     ]
    }
   ],
   "source": [
    "points=[[1,2],[2,3],[3,4]]\n",
    "val=[2,3]\n",
    "# [1,2]  vs   [2,3]\n",
    "# [2,3]  vs   [2,3]\n",
    "# [3,4]  vs  [2,3]\n",
    "for i in points:\n",
    "    print(i[0],i[1])  # x1,y1\n",
    "    print(val[0],val[1]) # x2,y2\n",
    "    print('====================')"
   ]
  },
  {
   "cell_type": "code",
   "execution_count": 66,
   "id": "351dfe27",
   "metadata": {},
   "outputs": [
    {
     "name": "stdout",
     "output_type": "stream",
     "text": [
      "1 2\n",
      "2 3\n",
      "3-2=1,2-1=1\n",
      "1.4142135623730951\n",
      "=======================\n",
      "2 3\n",
      "2 3\n",
      "3-2=0,2-2=0\n",
      "0.0\n",
      "=======================\n",
      "5 6\n",
      "2 3\n",
      "3-2=-3,2-5=-3\n",
      "4.242640687119285\n",
      "=======================\n"
     ]
    }
   ],
   "source": [
    "points=[[1,2],[2,3],[5,6]]\n",
    "val=[2,3]\n",
    "ans=[]\n",
    "for i in points:\n",
    "    print(i[0],i[1])\n",
    "    print(val[0],val[1])\n",
    "    o1=val[0]-i[0]\n",
    "    o2=val[1]-i[1]\n",
    "    print(f\"{val[1]}-{val[0]}={o1},{val[0]}-{i[0]}={o2}\")\n",
    "    v11 = o1**2\n",
    "    v22 = o2**2\n",
    "    print(math.sqrt(v11+v22))\n",
    "    ans.append(math.sqrt(v11+v22))\n",
    "    print('=======================')"
   ]
  },
  {
   "cell_type": "code",
   "execution_count": 67,
   "id": "35e24553",
   "metadata": {},
   "outputs": [
    {
     "data": {
      "text/plain": [
       "4.242640687119285"
      ]
     },
     "execution_count": 67,
     "metadata": {},
     "output_type": "execute_result"
    }
   ],
   "source": [
    "max(ans)"
   ]
  },
  {
   "cell_type": "code",
   "execution_count": 68,
   "id": "2427de1a",
   "metadata": {},
   "outputs": [
    {
     "data": {
      "text/plain": [
       "[5, 3, 3, 3, 3]"
      ]
     },
     "execution_count": 68,
     "metadata": {},
     "output_type": "execute_result"
    }
   ],
   "source": [
    "# Q8) str='hello hai how are you'\n",
    "# Maximum len of word using split and max method\n",
    "# sum of all the indexes of the maximum len of word using append\n",
    "str1='hello hai how are you'\n",
    "words=str1.split()\n",
    "str2=[]\n",
    "for i in words:\n",
    "    x=len(i)\n",
    "    str2.append(x)\n",
    "str2"
   ]
  },
  {
   "cell_type": "code",
   "execution_count": 71,
   "id": "91ebf68c",
   "metadata": {},
   "outputs": [
    {
     "ename": "SyntaxError",
     "evalue": "leading zeros in decimal integer literals are not permitted; use an 0o prefix for octal integers (1591386366.py, line 23)",
     "output_type": "error",
     "traceback": [
      "\u001b[1;36m  File \u001b[1;32m\"C:\\Users\\My world\\AppData\\Local\\Temp\\ipykernel_5320\\1591386366.py\"\u001b[1;36m, line \u001b[1;32m23\u001b[0m\n\u001b[1;33m    01234\u001b[0m\n\u001b[1;37m        ^\u001b[0m\n\u001b[1;31mSyntaxError\u001b[0m\u001b[1;31m:\u001b[0m leading zeros in decimal integer literals are not permitted; use an 0o prefix for octal integers\n"
     ]
    }
   ],
   "source": [
    "str1='hello hai how are you'\n",
    "words=str1.split()\n",
    "len_Words=[]\n",
    "for i in words:\n",
    "    x=len(i)\n",
    "    len_words.append(x)\n",
    "max_len=max(len_words)\n",
    "\n",
    "for i in words:\n",
    "    if len(i)==max_len:\n",
    "        print(i)\n",
    "\n",
    "# First we are splitting\n",
    "# the we are calculating each and every len of words and append in a list\n",
    "# we  are taking the max value from the list\n",
    "\n",
    "# again we are itertating words list\n",
    "# calculating len of each word\n",
    "# if that word length equal to max value \n",
    "# then that is our answer\n",
    "\n",
    "hello  == 0\n",
    "01234"
   ]
  },
  {
   "cell_type": "code",
   "execution_count": 72,
   "id": "a7dd2a9f",
   "metadata": {},
   "outputs": [
    {
     "data": {
      "text/plain": [
       "5"
      ]
     },
     "execution_count": 72,
     "metadata": {},
     "output_type": "execute_result"
    }
   ],
   "source": [
    "str1='hello hai how are you'\n",
    "words=str1.split()\n",
    "max(words)\n",
    "len_words=[5,3,3,3,3]\n",
    "max(len_words)"
   ]
  },
  {
   "cell_type": "code",
   "execution_count": 7,
   "id": "8b2c92c7",
   "metadata": {},
   "outputs": [
    {
     "name": "stdout",
     "output_type": "stream",
     "text": [
      "What is capital of Indiadehi\n",
      "Who is PM of indiamodi\n",
      "Who is ICT ODI captainrohit\n",
      "the total marks are: 2\n",
      "the total wrong qns are: 1\n"
     ]
    }
   ],
   "source": [
    "# 10 )\n",
    "#  You have two lists\n",
    "# qns=['What is capital of India',\n",
    "#       'Who is PM of india',\n",
    "#        'Who is ICT ODI captian']\n",
    "# ans = ['Delhi','Modi','Rohit']\n",
    "\n",
    "# For i in qns:\n",
    "#     print(i)\n",
    "#     ans= delhi\n",
    "#      index should match\n",
    "#      delhi  modi\n",
    "#      marks= marks+1\n",
    "# print the total marks\n",
    "qns=['What is capital of India', 'Who is PM of india', 'Who is ICT ODI captain']\n",
    "ans = ['Delhi','Modi','Rohit']\n",
    "marks=0\n",
    "c=0\n",
    "for i in range(len(qns)):\n",
    "    a=input(qns[i])\n",
    "    if a.lower()==ans[i].lower():\n",
    "        marks=marks+1\n",
    "    else:\n",
    "        c+=1\n",
    "print(\"the total marks are:\", marks)\n",
    "print(\"the total wrong qns are:\", c)\n"
   ]
  },
  {
   "cell_type": "code",
   "execution_count": 8,
   "id": "4c270c11",
   "metadata": {},
   "outputs": [
    {
     "data": {
      "text/plain": [
       "['__add__',\n",
       " '__class__',\n",
       " '__contains__',\n",
       " '__delattr__',\n",
       " '__dir__',\n",
       " '__doc__',\n",
       " '__eq__',\n",
       " '__format__',\n",
       " '__ge__',\n",
       " '__getattribute__',\n",
       " '__getitem__',\n",
       " '__getnewargs__',\n",
       " '__gt__',\n",
       " '__hash__',\n",
       " '__init__',\n",
       " '__init_subclass__',\n",
       " '__iter__',\n",
       " '__le__',\n",
       " '__len__',\n",
       " '__lt__',\n",
       " '__mod__',\n",
       " '__mul__',\n",
       " '__ne__',\n",
       " '__new__',\n",
       " '__reduce__',\n",
       " '__reduce_ex__',\n",
       " '__repr__',\n",
       " '__rmod__',\n",
       " '__rmul__',\n",
       " '__setattr__',\n",
       " '__sizeof__',\n",
       " '__str__',\n",
       " '__subclasshook__',\n",
       " 'capitalize',\n",
       " 'casefold',\n",
       " 'center',\n",
       " 'count',\n",
       " 'encode',\n",
       " 'endswith',\n",
       " 'expandtabs',\n",
       " 'find',\n",
       " 'format',\n",
       " 'format_map',\n",
       " 'index',\n",
       " 'isalnum',\n",
       " 'isalpha',\n",
       " 'isascii',\n",
       " 'isdecimal',\n",
       " 'isdigit',\n",
       " 'isidentifier',\n",
       " 'islower',\n",
       " 'isnumeric',\n",
       " 'isprintable',\n",
       " 'isspace',\n",
       " 'istitle',\n",
       " 'isupper',\n",
       " 'join',\n",
       " 'ljust',\n",
       " 'lower',\n",
       " 'lstrip',\n",
       " 'maketrans',\n",
       " 'partition',\n",
       " 'removeprefix',\n",
       " 'removesuffix',\n",
       " 'replace',\n",
       " 'rfind',\n",
       " 'rindex',\n",
       " 'rjust',\n",
       " 'rpartition',\n",
       " 'rsplit',\n",
       " 'rstrip',\n",
       " 'split',\n",
       " 'splitlines',\n",
       " 'startswith',\n",
       " 'strip',\n",
       " 'swapcase',\n",
       " 'title',\n",
       " 'translate',\n",
       " 'upper',\n",
       " 'zfill']"
      ]
     },
     "execution_count": 8,
     "metadata": {},
     "output_type": "execute_result"
    }
   ],
   "source": [
    "dir('list')"
   ]
  },
  {
   "cell_type": "code",
   "execution_count": null,
   "id": "ba95bdc2",
   "metadata": {},
   "outputs": [],
   "source": [
    "'clear','copy','count','extend','index','insert','pop','remove','reverse','sort'\n",
    "'append'vs 'extend' vs 'concatenation' vs 'insert'\n",
    "'pop' vs'remove'\n",
    "'sort'vs'sorted'\n",
    "'index'\n",
    "'count'\n",
    "'clear' and'copy'"
   ]
  },
  {
   "cell_type": "code",
   "execution_count": 15,
   "id": "251c57fc",
   "metadata": {},
   "outputs": [
    {
     "data": {
      "text/plain": [
       "5"
      ]
     },
     "execution_count": 15,
     "metadata": {},
     "output_type": "execute_result"
    }
   ],
   "source": [
    "ls=[1,2,3,4,5,'navya','sri','reddy',True,False]\n",
    "ls.index('navya')"
   ]
  },
  {
   "cell_type": "code",
   "execution_count": 16,
   "id": "7ead9fd5",
   "metadata": {},
   "outputs": [
    {
     "data": {
      "text/plain": [
       "1"
      ]
     },
     "execution_count": 16,
     "metadata": {},
     "output_type": "execute_result"
    }
   ],
   "source": [
    "ls.count(4)"
   ]
  },
  {
   "cell_type": "code",
   "execution_count": 21,
   "id": "281dd85f",
   "metadata": {},
   "outputs": [
    {
     "data": {
      "text/plain": [
       "[0, 1, 3, 4, 6, 8]"
      ]
     },
     "execution_count": 21,
     "metadata": {},
     "output_type": "execute_result"
    }
   ],
   "source": [
    "ls1=[1,6,4,3,8,0]\n",
    "sorted(ls1)"
   ]
  },
  {
   "cell_type": "code",
   "execution_count": 37,
   "id": "e08f91b7",
   "metadata": {},
   "outputs": [
    {
     "name": "stdout",
     "output_type": "stream",
     "text": [
      "None\n"
     ]
    }
   ],
   "source": [
    "print(ls1.sort())"
   ]
  },
  {
   "cell_type": "code",
   "execution_count": 28,
   "id": "e6e2c765",
   "metadata": {},
   "outputs": [
    {
     "name": "stdout",
     "output_type": "stream",
     "text": [
      "None\n"
     ]
    }
   ],
   "source": [
    "print(ls1.clear())"
   ]
  },
  {
   "cell_type": "code",
   "execution_count": 33,
   "id": "b701aa7b",
   "metadata": {},
   "outputs": [
    {
     "ename": "NameError",
     "evalue": "name 'reverse' is not defined",
     "output_type": "error",
     "traceback": [
      "\u001b[1;31m---------------------------------------------------------------------------\u001b[0m",
      "\u001b[1;31mNameError\u001b[0m                                 Traceback (most recent call last)",
      "\u001b[1;32m~\\AppData\\Local\\Temp\\ipykernel_12816\\2440204196.py\u001b[0m in \u001b[0;36m<module>\u001b[1;34m\u001b[0m\n\u001b[1;32m----> 1\u001b[1;33m \u001b[0mprint\u001b[0m\u001b[1;33m(\u001b[0m\u001b[0mreverse\u001b[0m\u001b[1;33m(\u001b[0m\u001b[0mls\u001b[0m\u001b[1;33m)\u001b[0m\u001b[1;33m)\u001b[0m\u001b[1;33m\u001b[0m\u001b[1;33m\u001b[0m\u001b[0m\n\u001b[0m",
      "\u001b[1;31mNameError\u001b[0m: name 'reverse' is not defined"
     ]
    }
   ],
   "source": [
    "print(reverse(ls))"
   ]
  },
  {
   "cell_type": "code",
   "execution_count": 44,
   "id": "e9316bba",
   "metadata": {},
   "outputs": [
    {
     "name": "stdout",
     "output_type": "stream",
     "text": [
      "<list_reverseiterator object at 0x000001EA05B7D2E0>\n"
     ]
    }
   ],
   "source": [
    "print(reversed(ls1))"
   ]
  },
  {
   "cell_type": "code",
   "execution_count": 43,
   "id": "05bb570b",
   "metadata": {},
   "outputs": [
    {
     "name": "stdout",
     "output_type": "stream",
     "text": [
      "[1, 6, 4, 3, 8, 0, 5, 3, 5, 6, 8, 1, 2, 0]\n"
     ]
    }
   ],
   "source": [
    "ls2=[5,3,5,6,8,1,2,0]\n",
    "ls1=[1,6,4,3,8,0]\n",
    "ls1.extend(ls2)\n",
    "print(ls1)"
   ]
  },
  {
   "cell_type": "code",
   "execution_count": 45,
   "id": "ca2b9423",
   "metadata": {},
   "outputs": [
    {
     "name": "stdout",
     "output_type": "stream",
     "text": [
      "<list_reverseiterator object at 0x000001EA05B7D3A0>\n"
     ]
    }
   ],
   "source": [
    "print(reversed(ls2))"
   ]
  },
  {
   "cell_type": "code",
   "execution_count": 47,
   "id": "5c8a0bda",
   "metadata": {},
   "outputs": [
    {
     "data": {
      "text/plain": [
       "[1, 6, 4, 3, 8, 0, 5, 3, 5, 6, 8, 1, 2, 0]"
      ]
     },
     "execution_count": 47,
     "metadata": {},
     "output_type": "execute_result"
    }
   ],
   "source": [
    "ls3=ls1.copy()\n",
    "ls3"
   ]
  },
  {
   "cell_type": "code",
   "execution_count": 49,
   "id": "743dbf24",
   "metadata": {},
   "outputs": [
    {
     "data": {
      "text/plain": [
       "[]"
      ]
     },
     "execution_count": 49,
     "metadata": {},
     "output_type": "execute_result"
    }
   ],
   "source": [
    "ls1.clear()\n",
    "ls1"
   ]
  },
  {
   "cell_type": "code",
   "execution_count": 50,
   "id": "74b2ade0",
   "metadata": {},
   "outputs": [
    {
     "data": {
      "text/plain": [
       "[1, 6, 4, 3, 8, 0, 5, 3, 5, 6, 8, 1, 2, 0]"
      ]
     },
     "execution_count": 50,
     "metadata": {},
     "output_type": "execute_result"
    }
   ],
   "source": [
    "ls2\n"
   ]
  },
  {
   "cell_type": "code",
   "execution_count": 51,
   "id": "397fdb5c",
   "metadata": {},
   "outputs": [
    {
     "data": {
      "text/plain": [
       "[1, 6, 4, 3, 8, 0, 5, 3, 5, 6, 8, 1, 2, 0]"
      ]
     },
     "execution_count": 51,
     "metadata": {},
     "output_type": "execute_result"
    }
   ],
   "source": [
    "ls3"
   ]
  },
  {
   "cell_type": "code",
   "execution_count": 55,
   "id": "595c1328",
   "metadata": {},
   "outputs": [
    {
     "data": {
      "text/plain": [
       "[1, 6, 4, 3, 5, 3, 6, 8, 1, 2]"
      ]
     },
     "execution_count": 55,
     "metadata": {},
     "output_type": "execute_result"
    }
   ],
   "source": [
    "ls2.pop(4)\n",
    "ls2"
   ]
  },
  {
   "cell_type": "code",
   "execution_count": 59,
   "id": "fa0817cd",
   "metadata": {},
   "outputs": [
    {
     "name": "stdout",
     "output_type": "stream",
     "text": [
      "[1, 2, 3, 4, ['a', 'b', 'c']]\n",
      "['a', 'b', 'c']\n"
     ]
    }
   ],
   "source": [
    "l1=[1,2,3,4]\n",
    "l2=['a','b','c']\n",
    "l1.append(l2)\n",
    "print(l1)\n",
    "print(l2)"
   ]
  },
  {
   "cell_type": "code",
   "execution_count": 57,
   "id": "88dded04",
   "metadata": {},
   "outputs": [
    {
     "data": {
      "text/plain": [
       "[1, 2, 3, 4, ['a', 'b', 'c'], 'a', 'b', 'c']"
      ]
     },
     "execution_count": 57,
     "metadata": {},
     "output_type": "execute_result"
    }
   ],
   "source": [
    "l1+l2"
   ]
  },
  {
   "cell_type": "code",
   "execution_count": 58,
   "id": "366635d4",
   "metadata": {},
   "outputs": [
    {
     "data": {
      "text/plain": [
       "[1, 2, 3, 4, 'a', 'b', 'c']"
      ]
     },
     "execution_count": 58,
     "metadata": {},
     "output_type": "execute_result"
    }
   ],
   "source": [
    "l1=[1,2,3,4]\n",
    "l2=['a','b','c']\n",
    "l1+l2"
   ]
  },
  {
   "cell_type": "code",
   "execution_count": 60,
   "id": "6689384b",
   "metadata": {},
   "outputs": [
    {
     "name": "stdout",
     "output_type": "stream",
     "text": [
      "[1, 2, 3, 4, 'a', 'b', 'c']\n",
      "['a', 'b', 'c']\n"
     ]
    }
   ],
   "source": [
    "l1=[1,2,3,4]\n",
    "l2=['a','b','c']\n",
    "l1.extend(l2)\n",
    "print(l1)\n",
    "print(l2)"
   ]
  },
  {
   "cell_type": "code",
   "execution_count": 61,
   "id": "75d18a74",
   "metadata": {},
   "outputs": [
    {
     "data": {
      "text/plain": [
       "[1, 2, 3, 'n', 'a', 'v', 'y', 'a']"
      ]
     },
     "execution_count": 61,
     "metadata": {},
     "output_type": "execute_result"
    }
   ],
   "source": [
    "l4=[1,2,3]\n",
    "l4.extend(\"navya\")\n",
    "l4"
   ]
  },
  {
   "cell_type": "code",
   "execution_count": 64,
   "id": "05874e14",
   "metadata": {},
   "outputs": [
    {
     "ename": "TypeError",
     "evalue": "list.extend() takes exactly one argument (2 given)",
     "output_type": "error",
     "traceback": [
      "\u001b[1;31m---------------------------------------------------------------------------\u001b[0m",
      "\u001b[1;31mTypeError\u001b[0m                                 Traceback (most recent call last)",
      "\u001b[1;32m~\\AppData\\Local\\Temp\\ipykernel_12816\\2997022284.py\u001b[0m in \u001b[0;36m<module>\u001b[1;34m\u001b[0m\n\u001b[0;32m      1\u001b[0m \u001b[0ml5\u001b[0m\u001b[1;33m=\u001b[0m\u001b[1;33m[\u001b[0m\u001b[1;36m1\u001b[0m\u001b[1;33m,\u001b[0m\u001b[1;36m2\u001b[0m\u001b[1;33m,\u001b[0m\u001b[1;36m3\u001b[0m\u001b[1;33m]\u001b[0m\u001b[1;33m\u001b[0m\u001b[1;33m\u001b[0m\u001b[0m\n\u001b[1;32m----> 2\u001b[1;33m \u001b[0ml5\u001b[0m\u001b[1;33m.\u001b[0m\u001b[0mextend\u001b[0m\u001b[1;33m(\u001b[0m\u001b[1;36m10\u001b[0m\u001b[1;33m,\u001b[0m\u001b[1;36m100\u001b[0m\u001b[1;33m)\u001b[0m\u001b[1;33m\u001b[0m\u001b[1;33m\u001b[0m\u001b[0m\n\u001b[0m\u001b[0;32m      3\u001b[0m \u001b[0ml5\u001b[0m\u001b[1;33m\u001b[0m\u001b[1;33m\u001b[0m\u001b[0m\n",
      "\u001b[1;31mTypeError\u001b[0m: list.extend() takes exactly one argument (2 given)"
     ]
    }
   ],
   "source": [
    "l5=[1,2,3]\n",
    "l5.extend(10,100)\n",
    "l5"
   ]
  },
  {
   "cell_type": "code",
   "execution_count": 63,
   "id": "c55a8d7e",
   "metadata": {},
   "outputs": [
    {
     "data": {
      "text/plain": [
       "[1, 2, 3, 10, 100]"
      ]
     },
     "execution_count": 63,
     "metadata": {},
     "output_type": "execute_result"
    }
   ],
   "source": [
    "l5=[1,2,3]\n",
    "l5.extend([10,100])\n",
    "l5"
   ]
  },
  {
   "cell_type": "markdown",
   "id": "9c4a2bdb",
   "metadata": {},
   "source": [
    "- append just append the value with base data type\n",
    "- extend is concatenate the value, and the list will be overwrite with new values\n",
    "- extend can take any iterable format type i.e. string, list, tuple\n",
    "- extend and concatnation both are same\n",
    "- the list will not overwrite in concatenation"
   ]
  },
  {
   "cell_type": "markdown",
   "id": "a9eae2f3",
   "metadata": {},
   "source": [
    "**index**\n",
    "- same like string only"
   ]
  },
  {
   "cell_type": "code",
   "execution_count": 65,
   "id": "5a4f124a",
   "metadata": {},
   "outputs": [
    {
     "data": {
      "text/plain": [
       "1"
      ]
     },
     "execution_count": 65,
     "metadata": {},
     "output_type": "execute_result"
    }
   ],
   "source": [
    "l1=[1,2,3,4,5,10,20,30]\n",
    "l1.index(2)"
   ]
  },
  {
   "cell_type": "code",
   "execution_count": 67,
   "id": "c1f33b17",
   "metadata": {},
   "outputs": [
    {
     "data": {
      "text/plain": [
       "(2, 8)"
      ]
     },
     "execution_count": 67,
     "metadata": {},
     "output_type": "execute_result"
    }
   ],
   "source": [
    "l1=[1,2,3,4,5,10,20,30,3]\n",
    "\n",
    "i1=l1.index(3)\n",
    "i2=l1.index(3,i1+1)\n",
    "i1,i2"
   ]
  },
  {
   "cell_type": "code",
   "execution_count": 69,
   "id": "1d6e438e",
   "metadata": {},
   "outputs": [
    {
     "data": {
      "text/plain": [
       "2"
      ]
     },
     "execution_count": 69,
     "metadata": {},
     "output_type": "execute_result"
    }
   ],
   "source": [
    "i3=l1.index(3,1,5)\n",
    "i3"
   ]
  },
  {
   "cell_type": "markdown",
   "id": "961acacf",
   "metadata": {},
   "source": [
    "- case1: directly get the index\n",
    "- case2: next value index, by providing start\n",
    "- cas3: between the values"
   ]
  },
  {
   "cell_type": "markdown",
   "id": "48611f23",
   "metadata": {},
   "source": [
    "- copy/ clear\n",
    "- count is exactly same as the stings\n",
    "- "
   ]
  },
  {
   "cell_type": "markdown",
   "id": "22bd0273",
   "metadata": {},
   "source": [
    "**insert**\n",
    "- will insert the element based on index\n",
    "- append will add the element at last only"
   ]
  },
  {
   "cell_type": "code",
   "execution_count": 17,
   "id": "31beb49a",
   "metadata": {},
   "outputs": [
    {
     "data": {
      "text/plain": [
       "[1, 2, 3, 'Banana', 'Apple', 10, 20, 'Apple', 40]"
      ]
     },
     "execution_count": 17,
     "metadata": {},
     "output_type": "execute_result"
    }
   ],
   "source": [
    "l1=[1,2,3,'Apple',10,20,'Apple',40]\n",
    "l1.insert(3,'Banana')\n",
    "l1"
   ]
  },
  {
   "cell_type": "code",
   "execution_count": 21,
   "id": "6c514707",
   "metadata": {},
   "outputs": [
    {
     "data": {
      "text/plain": [
       "[1, 2, 3, 'Banana', 'Apple', 10, 20, 'Apple', 40]"
      ]
     },
     "execution_count": 21,
     "metadata": {},
     "output_type": "execute_result"
    }
   ],
   "source": [
    "l1=[1,2,3,'Apple',10,20,'Apple',40]\n",
    "i1=l1.index('Apple')\n",
    "l1.insert(i1,'Banana')\n",
    "l1"
   ]
  },
  {
   "cell_type": "code",
   "execution_count": 23,
   "id": "54ffad07",
   "metadata": {},
   "outputs": [
    {
     "data": {
      "text/plain": [
       "[1, 2, 3, 'Apple', 10, 20, 'Apple', 'Banana', 40]"
      ]
     },
     "execution_count": 23,
     "metadata": {},
     "output_type": "execute_result"
    }
   ],
   "source": [
    "l1=[1,2,3,'Apple',10,20,'Apple',40]\n",
    "i1=l1.index(40)\n",
    "l1.insert(i1,'Banana')\n",
    "l1"
   ]
  },
  {
   "cell_type": "code",
   "execution_count": 25,
   "id": "95d4faa4",
   "metadata": {},
   "outputs": [
    {
     "data": {
      "text/plain": [
       "[1, 2, 3, 'Apple', 10, 20, 'Banana', 'Apple', 40]"
      ]
     },
     "execution_count": 25,
     "metadata": {},
     "output_type": "execute_result"
    }
   ],
   "source": [
    "#if we want to insert an element before 2nd apple then how?\n",
    "#step-1:finde the index of 2nd apple\n",
    "#step2: how to find the 2nd apple index\n",
    "l1=[1,2,3,'Apple',10,20,'Apple',40]\n",
    "i1=l1.index('Apple')\n",
    "i2=l1.index('Apple',i1+1)\n",
    "l1.insert(i2,'Banana')\n",
    "l1"
   ]
  },
  {
   "cell_type": "markdown",
   "id": "6d83e8d5",
   "metadata": {},
   "source": [
    "**pop-remove-del**\n",
    "- pop will remove the item and display the item which is removing\n",
    "- pop will take 1 arguement :index\n",
    "- pop will remove th item based on index\n",
    "- if you dont provide any index by default it will remove last value\n",
    "- because the default index value is -1"
   ]
  },
  {
   "cell_type": "code",
   "execution_count": 27,
   "id": "660899f9",
   "metadata": {},
   "outputs": [
    {
     "data": {
      "text/plain": [
       "40"
      ]
     },
     "execution_count": 27,
     "metadata": {},
     "output_type": "execute_result"
    }
   ],
   "source": [
    "l1=[1,2,3,'Apple',10,20,'Apple',40]\n",
    "l1.pop()\n"
   ]
  },
  {
   "cell_type": "code",
   "execution_count": 28,
   "id": "117110f4",
   "metadata": {},
   "outputs": [
    {
     "data": {
      "text/plain": [
       "[1, 2, 3, 'Apple', 10, 20, 'Apple']"
      ]
     },
     "execution_count": 28,
     "metadata": {},
     "output_type": "execute_result"
    }
   ],
   "source": [
    "l1"
   ]
  },
  {
   "cell_type": "code",
   "execution_count": 32,
   "id": "d340bfb1",
   "metadata": {},
   "outputs": [
    {
     "data": {
      "text/plain": [
       "[1, 2, 'Apple', 10, 20, 'Apple']"
      ]
     },
     "execution_count": 32,
     "metadata": {},
     "output_type": "execute_result"
    }
   ],
   "source": [
    "l1\n"
   ]
  },
  {
   "cell_type": "code",
   "execution_count": 41,
   "id": "a7678a38",
   "metadata": {},
   "outputs": [
    {
     "data": {
      "text/plain": [
       "[1, 2, 3, 10, 20, 40]"
      ]
     },
     "execution_count": 41,
     "metadata": {},
     "output_type": "execute_result"
    }
   ],
   "source": [
    "l1=[1,2,3,'Apple',10,20,'Apple',40]\n",
    "i1=l1.index('Apple')\n",
    "l1.pop(i1)\n",
    "i2=l1.index('Apple',i1+1)\n",
    "l1.pop(i2)\n",
    "l1"
   ]
  },
  {
   "cell_type": "code",
   "execution_count": 42,
   "id": "b800527a",
   "metadata": {},
   "outputs": [
    {
     "data": {
      "text/plain": [
       "[1, 2, 3, 10, 20, 40]"
      ]
     },
     "execution_count": 42,
     "metadata": {},
     "output_type": "execute_result"
    }
   ],
   "source": [
    "l1=[1,2,3,'Apple',10,20,'Apple',40]\n",
    "i1=l1.index('Apple')\n",
    "l1.pop(i1)\n",
    "i1=l1.index('Apple')\n",
    "l1.pop(i1)\n",
    "l1"
   ]
  },
  {
   "cell_type": "code",
   "execution_count": 43,
   "id": "9754c328",
   "metadata": {},
   "outputs": [
    {
     "data": {
      "text/plain": [
       "[1, 2, 3, 10, 20, 40]"
      ]
     },
     "execution_count": 43,
     "metadata": {},
     "output_type": "execute_result"
    }
   ],
   "source": [
    "l1=[1,2,3,'Apple',10,20,'Apple',40,'Apple']\n",
    "i1=l1.index('Apple')\n",
    "l1.pop(i1)\n",
    "i1=l1.index('Apple')\n",
    "l1.pop(i1)\n",
    "i1=l1.index('Apple')\n",
    "l1.pop(i1)\n",
    "l1"
   ]
  },
  {
   "cell_type": "code",
   "execution_count": 49,
   "id": "ce0a749a",
   "metadata": {},
   "outputs": [
    {
     "data": {
      "text/plain": [
       "'hai how are you i am good thank you'"
      ]
     },
     "execution_count": 49,
     "metadata": {},
     "output_type": "execute_result"
    }
   ],
   "source": [
    "str1='hai apple how are you apple i am good apple thank you apple'\n",
    "l1=str1.split(' ')\n",
    "for i in l1:\n",
    "    if i=='apple':\n",
    "        i1=l1.index('apple')\n",
    "        l1.pop(i1)\n",
    "' '.join(l1)"
   ]
  },
  {
   "cell_type": "markdown",
   "id": "dc95748a",
   "metadata": {},
   "source": [
    "- pop will take the index\n",
    "- remove will take the value\n",
    "- remove will delete the first occuurence of the element "
   ]
  },
  {
   "cell_type": "code",
   "execution_count": 51,
   "id": "96ea4180",
   "metadata": {},
   "outputs": [
    {
     "data": {
      "text/plain": [
       "[1, 2, 3, 'Apple', 20, 'Apple', 40, 'Apple']"
      ]
     },
     "execution_count": 51,
     "metadata": {},
     "output_type": "execute_result"
    }
   ],
   "source": [
    "l1=[1,2,3,'Apple',10,20,'Apple',40,'Apple']\n",
    "l1.remove(10)\n",
    "l1"
   ]
  },
  {
   "cell_type": "code",
   "execution_count": 52,
   "id": "01eee885",
   "metadata": {},
   "outputs": [
    {
     "data": {
      "text/plain": [
       "'hai how are you i am good thank you'"
      ]
     },
     "execution_count": 52,
     "metadata": {},
     "output_type": "execute_result"
    }
   ],
   "source": [
    "str1='hai apple how are you apple i am good apple thank you apple'\n",
    "l1=str1.split(' ')\n",
    "for i in l1:\n",
    "    if i=='apple':\n",
    "        l1.remove('apple')\n",
    "' '.join(l1)"
   ]
  },
  {
   "cell_type": "markdown",
   "id": "93ab3377",
   "metadata": {},
   "source": [
    "**del**"
   ]
  },
  {
   "cell_type": "code",
   "execution_count": 55,
   "id": "0fd080c0",
   "metadata": {},
   "outputs": [
    {
     "data": {
      "text/plain": [
       "[1, 2, 3, 10, 20, 'Apple', 40, 'Apple']"
      ]
     },
     "execution_count": 55,
     "metadata": {},
     "output_type": "execute_result"
    }
   ],
   "source": [
    "l1=[1,2,3,'Apple',10,20,'Apple',40,'Apple']\n",
    "del(l1[3])\n",
    "l1"
   ]
  },
  {
   "cell_type": "markdown",
   "id": "0a1ae48a",
   "metadata": {},
   "source": [
    "- append extend insert concatenation\n",
    "- pop remove del\n",
    "- sort sorted \n",
    "- reverse reversed\n",
    "- count index"
   ]
  },
  {
   "cell_type": "markdown",
   "id": "4ed951e1",
   "metadata": {},
   "source": [
    "- representation \n",
    "- type\n",
    "- len\n",
    "- max\n",
    "- min\n",
    "- sort\n",
    "- sorted\n",
    "- reverse\n",
    "- reversed\n",
    "- in\n",
    "- for with in\n",
    "- index\n",
    "- for with index\n",
    "- mutable\n",
    "- immutable\n",
    "- slicing\n",
    "- concatenation\n",
    "- methods"
   ]
  },
  {
   "cell_type": "code",
   "execution_count": 56,
   "id": "85eaa614",
   "metadata": {},
   "outputs": [
    {
     "data": {
      "text/plain": [
       "['__add__',\n",
       " '__class__',\n",
       " '__class_getitem__',\n",
       " '__contains__',\n",
       " '__delattr__',\n",
       " '__dir__',\n",
       " '__doc__',\n",
       " '__eq__',\n",
       " '__format__',\n",
       " '__ge__',\n",
       " '__getattribute__',\n",
       " '__getitem__',\n",
       " '__getnewargs__',\n",
       " '__gt__',\n",
       " '__hash__',\n",
       " '__init__',\n",
       " '__init_subclass__',\n",
       " '__iter__',\n",
       " '__le__',\n",
       " '__len__',\n",
       " '__lt__',\n",
       " '__mul__',\n",
       " '__ne__',\n",
       " '__new__',\n",
       " '__reduce__',\n",
       " '__reduce_ex__',\n",
       " '__repr__',\n",
       " '__rmul__',\n",
       " '__setattr__',\n",
       " '__sizeof__',\n",
       " '__str__',\n",
       " '__subclasshook__',\n",
       " 'count',\n",
       " 'index']"
      ]
     },
     "execution_count": 56,
     "metadata": {},
     "output_type": "execute_result"
    }
   ],
   "source": [
    "dir(tuple)"
   ]
  },
  {
   "cell_type": "code",
   "execution_count": 4,
   "id": "aa5bbc01",
   "metadata": {},
   "outputs": [
    {
     "name": "stdout",
     "output_type": "stream",
     "text": [
      "swathi\n",
      "s*athi!!!\n"
     ]
    }
   ],
   "source": [
    "s=input()\n",
    "for i in range(len(s)):\n",
    "    k=s.replace(s[1],'*')\n",
    "print(k+\"!!!\")"
   ]
  },
  {
   "cell_type": "code",
   "execution_count": null,
   "id": "c55783ad",
   "metadata": {},
   "outputs": [],
   "source": []
  }
 ],
 "metadata": {
  "kernelspec": {
   "display_name": "Python 3 (ipykernel)",
   "language": "python",
   "name": "python3"
  },
  "language_info": {
   "codemirror_mode": {
    "name": "ipython",
    "version": 3
   },
   "file_extension": ".py",
   "mimetype": "text/x-python",
   "name": "python",
   "nbconvert_exporter": "python",
   "pygments_lexer": "ipython3",
   "version": "3.9.13"
  }
 },
 "nbformat": 4,
 "nbformat_minor": 5
}
